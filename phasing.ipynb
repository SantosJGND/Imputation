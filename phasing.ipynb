{
 "cells": [
  {
   "cell_type": "code",
   "execution_count": null,
   "metadata": {},
   "outputs": [],
   "source": [
    "import scipy\n",
    "import numpy as np\n",
    "from sklearn.neighbors import KernelDensity\n",
    "from sklearn.decomposition import PCA\n",
    "\n",
    "import pandas as pd\n",
    "\n",
    "from IPython.display import clear_output\n",
    "import matplotlib.pyplot as plt\n",
    "import itertools as it\n",
    "\n",
    "import plotly\n",
    "import plotly.graph_objs as go\n",
    "from plotly.offline import download_plotlyjs, init_notebook_mode, plot, iplot\n",
    "\n",
    "from ipywidgets import interact, interactive, fixed, interact_manual\n",
    "import ipywidgets as widgets\n",
    "init_notebook_mode(connected=True)\n",
    "\n",
    "\n",
    "PCA_color_ref= ['darkseagreen','crimson', 'darkorange', 'darkblue', 'darkcyan',\n",
    "            'darkgoldenrod', 'darkgray', 'darkgrey', 'darkgreen',\n",
    "            'darkkhaki', 'darkmagenta', 'darkolivegreen', 'darkorange',\n",
    "            'darkorchid', 'darkred', 'darksalmon', 'darkseagreen',\n",
    "            'darkslateblue', 'darkslategray', 'darkslategrey',\n",
    "            'darkturquoise', 'darkviolet', 'deeppink']"
   ]
  },
  {
   "cell_type": "markdown",
   "metadata": {},
   "source": [
    "## vcf analysis\n",
    "Jupyter notebook for the local analysis of genetic data stored in .vcf format.\n",
    "\n",
    "Perform analysis of structure across data set, followed by a more detailed study of variation across local genomic windows.\n",
    "\n",
    "### Input"
   ]
  },
  {
   "cell_type": "code",
   "execution_count": 1,
   "metadata": {},
   "outputs": [
    {
     "name": "stdout",
     "output_type": "stream",
     "text": [
      "{'fileformat': 'VCFv4.2', 'fileDate': '20190327', 'source': 'PLINKv1.90', 'contig': '<ID8,length28422468>', 'INFO': '<IDPR,Number0,TypeFlag,Description\"Provisional reference allele, may not be based on real reference genome\">', 'FORMAT': '<IDGT,Number1,TypeString,Description\"Genotype\">'}\n",
      "Number of markers: 15000\n",
      "Number of individuals: 3023\n"
     ]
    }
   ],
   "source": [
    "from structure_tools.vcf_geno_tools import simple_read_vcf\n",
    "from structure_tools.vcf_geno_tools import read_geno_nanum\n",
    "\n",
    "vcf_file= 'D:/GitHub/Tools_and_toys/VCF_analysis/Extract/vcf/Extract_Chr8_15000.vcf'\n",
    "#vcf_file= 'D:/GitHub/Tools_and_toys/VCF_analysis/Simu_17-03-2019/data.vcf'\n",
    "\n",
    "row_info= 6\n",
    "header_info= 9\n",
    "phased= False\n",
    "\n",
    "genotype, summary, Names= read_geno_nanum(vcf_file, row_info= row_info, header_info= header_info,phased= phased)\n",
    "\n",
    "print('Number of markers: {}'.format(genotype.shape[1]))\n",
    "print('Number of individuals: {}'.format(genotype.shape[0]))\n",
    "\n",
    "control_subset= 1\n",
    "clean= 1\n",
    "subbed= 1"
   ]
  },
  {
   "cell_type": "code",
   "execution_count": 2,
   "metadata": {},
   "outputs": [
    {
     "ename": "NameError",
     "evalue": "name 'pd' is not defined",
     "output_type": "error",
     "traceback": [
      "\u001b[1;31m---------------------------------------------------------------------------\u001b[0m",
      "\u001b[1;31mNameError\u001b[0m                                 Traceback (most recent call last)",
      "\u001b[1;32m<ipython-input-2-8e539e108da2>\u001b[0m in \u001b[0;36m<module>\u001b[1;34m\u001b[0m\n\u001b[0;32m      3\u001b[0m \u001b[0mInput_file\u001b[0m\u001b[1;33m=\u001b[0m \u001b[1;34m'D:/Rice/Project_external/metadata/orderCore_INFO.txt'\u001b[0m\u001b[1;33m\u001b[0m\u001b[1;33m\u001b[0m\u001b[0m\n\u001b[0;32m      4\u001b[0m \u001b[1;33m\u001b[0m\u001b[0m\n\u001b[1;32m----> 5\u001b[1;33m \u001b[0mRG_info\u001b[0m\u001b[1;33m=\u001b[0m \u001b[0mpd\u001b[0m\u001b[1;33m.\u001b[0m\u001b[0mread_csv\u001b[0m\u001b[1;33m(\u001b[0m\u001b[0mInput_file\u001b[0m\u001b[1;33m,\u001b[0m\u001b[0msep\u001b[0m\u001b[1;33m=\u001b[0m \u001b[1;34m'\\t'\u001b[0m\u001b[1;33m)\u001b[0m\u001b[1;33m\u001b[0m\u001b[1;33m\u001b[0m\u001b[0m\n\u001b[0m\u001b[0;32m      6\u001b[0m \u001b[1;33m\u001b[0m\u001b[0m\n\u001b[0;32m      7\u001b[0m \u001b[0mRG_info\u001b[0m\u001b[1;33m.\u001b[0m\u001b[0mhead\u001b[0m\u001b[1;33m(\u001b[0m\u001b[1;33m)\u001b[0m\u001b[1;33m\u001b[0m\u001b[1;33m\u001b[0m\u001b[0m\n",
      "\u001b[1;31mNameError\u001b[0m: name 'pd' is not defined"
     ]
    }
   ],
   "source": [
    "## read passport information\n",
    "\n",
    "Input_file= 'D:/Rice/Project_external/metadata/orderCore_INFO.txt'\n",
    "\n",
    "RG_info= pd.read_csv(Input_file,sep= '\\t')\n",
    "\n",
    "RG_info.head()"
   ]
  },
  {
   "cell_type": "code",
   "execution_count": null,
   "metadata": {},
   "outputs": [],
   "source": [
    "summary.head()"
   ]
  },
  {
   "cell_type": "code",
   "execution_count": null,
   "metadata": {},
   "outputs": [],
   "source": [
    "## Process Names vcf names.\n",
    "## Instance specific processing due to ID copy in VCF file.\n",
    "Names_vcf= list(Names)\n",
    "\n",
    "for x in range(len(Names_vcf)):\n",
    "    ind= Names_vcf[x]\n",
    "    newid= ind.split('_')\n",
    "    \n",
    "    if len(newid) > 2:\n",
    "        newid= '_'.join(newid[:2])\n",
    "    else:\n",
    "        newid= newid[0]\n",
    "    \n",
    "    Names_vcf[x]= newid\n"
   ]
  },
  {
   "cell_type": "code",
   "execution_count": null,
   "metadata": {},
   "outputs": [],
   "source": [
    "### subset core\n",
    "core_subset= True\n",
    "\n",
    "coreID_file= 'D:/Rice/Project_external/metadata/Order_core.txt'\n",
    "\n",
    "\n",
    "with open(coreID_file,'r') as fp:\n",
    "    coreIDs= fp.readlines()\n",
    "\n",
    "coreIDs= [x.strip() for x in coreIDs]\n",
    "\n",
    "core_idx= [x for x in coreIDs if x in Names_vcf]\n",
    "core_idx= [Names_vcf.index(x) for x in core_idx]\n",
    "\n",
    "ID_pop= {\n",
    "    RG_info['ID'][x]: RG_info['Initial_subpop'][x] for x in range(RG_info.shape[0])\n",
    "}\n",
    "\n",
    "core_names= [Names_vcf[x] for x in core_idx]\n",
    "core_pop= [ID_pop[x] for x in core_names]\n"
   ]
  },
  {
   "cell_type": "code",
   "execution_count": null,
   "metadata": {},
   "outputs": [],
   "source": [
    "\n",
    "if control_subset:\n",
    "    genotype= genotype[core_idx,:]\n",
    "    control_subset= 0\n",
    "    "
   ]
  },
  {
   "cell_type": "code",
   "execution_count": null,
   "metadata": {},
   "outputs": [],
   "source": [
    "from impute_tools.genome_adapt import (\n",
    "    clean_geno\n",
    ")\n",
    "\n",
    "sub_sel= ['subtrop','trop','temp','aro']\n",
    "#sub_sel= ['ind1A','temp','aro','aus']\n",
    "\n",
    "if sub_sel and subbed: \n",
    "    sub_idx= [x for x in range(len(core_pop)) if core_pop[x] in sub_sel]\n",
    "    genotype= genotype[sub_idx]\n",
    "    core_pop= [core_pop[x] for x in sub_idx]\n",
    "    core_names= [core_names[x] for x in sub_idx]\n",
    "    subbed= 0\n",
    "    ##\n",
    "\n",
    "\n",
    "if clean:\n",
    "    keep_pos= clean_geno(genotype, nan_char= 9,\n",
    "               het_char= 1)\n",
    "    \n",
    "    genotype= genotype[:,keep_pos]\n",
    "    summary= summary.iloc[keep_pos]\n",
    "    summary= summary.reset_index()\n",
    "    clean= 0\n",
    "    \n",
    "\n"
   ]
  },
  {
   "cell_type": "code",
   "execution_count": null,
   "metadata": {},
   "outputs": [],
   "source": [
    "summary.head()"
   ]
  },
  {
   "cell_type": "markdown",
   "metadata": {},
   "source": [
    "### Global variation\n",
    "\n",
    "Perform PCA across data set.\n",
    "\n",
    "Perform Mean shift clustering to attempt to extract genetically coherent groups of accessions.\n",
    "\n",
    "These will later be used for supervised analysis."
   ]
  },
  {
   "cell_type": "code",
   "execution_count": null,
   "metadata": {},
   "outputs": [],
   "source": [
    "## Perform PCA\n",
    "n_comp= 4\n",
    "pca_global = PCA(n_components=n_comp, whiten=False,svd_solver='randomized')\n",
    "\n",
    "feats= pca_global.fit_transform(genotype)"
   ]
  },
  {
   "cell_type": "code",
   "execution_count": null,
   "metadata": {},
   "outputs": [],
   "source": [
    "from sklearn.cluster import MeanShift, estimate_bandwidth\n",
    "\n",
    "from structure_tools.Tutorial_subplots import plot_global_pca\n",
    "## perform MeanShift clustering.\n",
    "bandwidth = estimate_bandwidth(feats, quantile=0.2)\n",
    "\n",
    "ms = MeanShift(bandwidth=bandwidth, bin_seeding=False, cluster_all=True, min_bin_freq=15)\n",
    "ms.fit(feats)\n",
    "labels1 = ms.labels_\n",
    "label_select = {y:[x for x in range(len(labels1)) if labels1[x] == y] for y in sorted(list(set(labels1)))}\n",
    "\n",
    "idvector= ['i{}_pop{}_{}'.format(x,labels1[x],core_pop[x]) for x in range(len(labels1))]\n",
    "\n",
    "###\n",
    "label_pops= {z: [core_pop[x] for x in g] for z,g in label_select.items()}\n",
    "label_connect= {z: g[np.random.randint(0,len(g))] for z,g in label_pops.items()}\n",
    "colordict= {z: PCA_color_ref[z] for z in label_pops.keys()}\n"
   ]
  },
  {
   "cell_type": "code",
   "execution_count": null,
   "metadata": {},
   "outputs": [],
   "source": [
    "###\n",
    "plot_global_pca(feats,label_select,colordict,labels= core_pop,title= 'global_pca',height= 500,width= 950)"
   ]
  },
  {
   "cell_type": "code",
   "execution_count": null,
   "metadata": {},
   "outputs": [],
   "source": [
    "genotype.shape"
   ]
  },
  {
   "cell_type": "markdown",
   "metadata": {},
   "source": [
    "#########################################    ############################################################################\n",
    "\n",
    "# Heterozygotes"
   ]
  },
  {
   "cell_type": "code",
   "execution_count": null,
   "metadata": {},
   "outputs": [],
   "source": []
  },
  {
   "cell_type": "code",
   "execution_count": null,
   "metadata": {},
   "outputs": [],
   "source": [
    "tfoc= np.where(het_char==1)\n",
    "tfoc= np.array(tfoc).T\n",
    "\n",
    "select_idx= np.random.randint(0,tfoc.shape[0],1)[0]\n",
    "tf= tfoc[select_idx]\n",
    "\n"
   ]
  },
  {
   "cell_type": "code",
   "execution_count": null,
   "metadata": {},
   "outputs": [],
   "source": []
  }
 ],
 "metadata": {
  "kernelspec": {
   "display_name": "Python 3",
   "language": "python",
   "name": "python3"
  },
  "language_info": {
   "codemirror_mode": {
    "name": "ipython",
    "version": 3
   },
   "file_extension": ".py",
   "mimetype": "text/x-python",
   "name": "python",
   "nbconvert_exporter": "python",
   "pygments_lexer": "ipython3",
   "version": "3.7.3"
  }
 },
 "nbformat": 4,
 "nbformat_minor": 2
}
