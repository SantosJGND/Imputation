{
 "cells": [
  {
   "cell_type": "code",
   "execution_count": 1,
   "metadata": {},
   "outputs": [
    {
     "data": {
      "text/html": [
       "        <script type=\"text/javascript\">\n",
       "        window.PlotlyConfig = {MathJaxConfig: 'local'};\n",
       "        if (window.MathJax) {MathJax.Hub.Config({SVG: {font: \"STIX-Web\"}});}\n",
       "        if (typeof require !== 'undefined') {\n",
       "        require.undef(\"plotly\");\n",
       "        requirejs.config({\n",
       "            paths: {\n",
       "                'plotly': ['https://cdn.plot.ly/plotly-latest.min']\n",
       "            }\n",
       "        });\n",
       "        require(['plotly'], function(Plotly) {\n",
       "            window._Plotly = Plotly;\n",
       "        });\n",
       "        }\n",
       "        </script>\n",
       "        "
      ]
     },
     "metadata": {},
     "output_type": "display_data"
    }
   ],
   "source": [
    "import scipy\n",
    "import numpy as np\n",
    "from sklearn.neighbors import KernelDensity\n",
    "from sklearn.decomposition import PCA\n",
    "\n",
    "import pandas as pd\n",
    "\n",
    "from IPython.display import clear_output\n",
    "import matplotlib.pyplot as plt\n",
    "import itertools as it\n",
    "\n",
    "import plotly\n",
    "import plotly.graph_objs as go\n",
    "from plotly.offline import download_plotlyjs, init_notebook_mode, plot, iplot\n",
    "\n",
    "from ipywidgets import interact, interactive, fixed, interact_manual\n",
    "import ipywidgets as widgets\n",
    "init_notebook_mode(connected=True)\n",
    "\n",
    "\n",
    "PCA_color_ref= ['darkseagreen','crimson', 'darkorange', 'darkblue', 'darkcyan',\n",
    "            'darkgoldenrod', 'darkgray', 'darkgrey', 'darkgreen',\n",
    "            'darkkhaki', 'darkmagenta', 'darkolivegreen', 'darkorange',\n",
    "            'darkorchid', 'darkred', 'darksalmon', 'darkseagreen',\n",
    "            'darkslateblue', 'darkslategray', 'darkslategrey',\n",
    "            'darkturquoise', 'darkviolet', 'deeppink']"
   ]
  },
  {
   "cell_type": "markdown",
   "metadata": {},
   "source": [
    "## vcf analysis\n",
    "Jupyter notebook for the local analysis of genetic data stored in .vcf format.\n",
    "\n",
    "Perform analysis of structure across data set, followed by a more detailed study of variation across local genomic windows.\n",
    "\n",
    "### Input"
   ]
  },
  {
   "cell_type": "code",
   "execution_count": 2,
   "metadata": {},
   "outputs": [
    {
     "name": "stdout",
     "output_type": "stream",
     "text": [
      "{'fileformat': 'VCFv4.2', 'fileDate': '20190327', 'source': 'PLINKv1.90', 'contig': '<ID8,length28422468>', 'INFO': '<IDPR,Number0,TypeFlag,Description\"Provisional reference allele, may not be based on real reference genome\">', 'FORMAT': '<IDGT,Number1,TypeString,Description\"Genotype\">'}\n",
      "Number of markers: 15000\n",
      "Number of individuals: 3023\n"
     ]
    }
   ],
   "source": [
    "from structure_tools.vcf_geno_tools import simple_read_vcf\n",
    "from structure_tools.vcf_geno_tools import read_geno_nanum\n",
    "\n",
    "vcf_file= 'D:/GitHub/Tools_and_toys/VCF_analysis/Extract/vcf/Extract_Chr8_15000.vcf'\n",
    "#vcf_file= 'D:/GitHub/Tools_and_toys/VCF_analysis/Simu_17-03-2019/data.vcf'\n",
    "\n",
    "row_info= 6\n",
    "header_info= 9\n",
    "phased= False\n",
    "\n",
    "genotype, summary, Names= read_geno_nanum(vcf_file, row_info= row_info, header_info= header_info,phased= phased)\n",
    "\n",
    "print('Number of markers: {}'.format(genotype.shape[1]))\n",
    "print('Number of individuals: {}'.format(genotype.shape[0]))\n",
    "\n",
    "control_subset= 1\n",
    "clean= 1\n",
    "subbed= 1"
   ]
  },
  {
   "cell_type": "code",
   "execution_count": 3,
   "metadata": {},
   "outputs": [
    {
     "data": {
      "text/html": [
       "<div>\n",
       "<style scoped>\n",
       "    .dataframe tbody tr th:only-of-type {\n",
       "        vertical-align: middle;\n",
       "    }\n",
       "\n",
       "    .dataframe tbody tr th {\n",
       "        vertical-align: top;\n",
       "    }\n",
       "\n",
       "    .dataframe thead th {\n",
       "        text-align: right;\n",
       "    }\n",
       "</style>\n",
       "<table border=\"1\" class=\"dataframe\">\n",
       "  <thead>\n",
       "    <tr style=\"text-align: right;\">\n",
       "      <th></th>\n",
       "      <th>Unnamed: 0</th>\n",
       "      <th>ID</th>\n",
       "      <th>NAME</th>\n",
       "      <th>COUNTRY</th>\n",
       "      <th>REGION</th>\n",
       "      <th>sNMF_K3</th>\n",
       "      <th>Jap_K4</th>\n",
       "      <th>K9_cluster</th>\n",
       "      <th>Initial_subpop</th>\n",
       "      <th>genoIndex</th>\n",
       "      <th>code</th>\n",
       "      <th>label</th>\n",
       "    </tr>\n",
       "  </thead>\n",
       "  <tbody>\n",
       "    <tr>\n",
       "      <th>0</th>\n",
       "      <td>0</td>\n",
       "      <td>CX59</td>\n",
       "      <td>MILAGROSA,_ZAWA_BANDAY</td>\n",
       "      <td>Philippines</td>\n",
       "      <td>As5</td>\n",
       "      <td>4</td>\n",
       "      <td>1</td>\n",
       "      <td>cB_(Bas)</td>\n",
       "      <td>aro</td>\n",
       "      <td>296</td>\n",
       "      <td>4</td>\n",
       "      <td>aro</td>\n",
       "    </tr>\n",
       "    <tr>\n",
       "      <th>1</th>\n",
       "      <td>1</td>\n",
       "      <td>CX65</td>\n",
       "      <td>DOMSIAH</td>\n",
       "      <td>Iran</td>\n",
       "      <td>As1</td>\n",
       "      <td>4</td>\n",
       "      <td>1</td>\n",
       "      <td>cB_(Bas)</td>\n",
       "      <td>aro</td>\n",
       "      <td>301</td>\n",
       "      <td>4</td>\n",
       "      <td>aro</td>\n",
       "    </tr>\n",
       "    <tr>\n",
       "      <th>2</th>\n",
       "      <td>2</td>\n",
       "      <td>CX67</td>\n",
       "      <td>BINAM</td>\n",
       "      <td>Iran</td>\n",
       "      <td>As1</td>\n",
       "      <td>4</td>\n",
       "      <td>1</td>\n",
       "      <td>cB_(Bas)</td>\n",
       "      <td>aro</td>\n",
       "      <td>303</td>\n",
       "      <td>4</td>\n",
       "      <td>aro</td>\n",
       "    </tr>\n",
       "    <tr>\n",
       "      <th>3</th>\n",
       "      <td>3</td>\n",
       "      <td>CX104</td>\n",
       "      <td>SADRI_RICE_1</td>\n",
       "      <td>Iran</td>\n",
       "      <td>As1</td>\n",
       "      <td>4</td>\n",
       "      <td>1</td>\n",
       "      <td>cB_(Bas)</td>\n",
       "      <td>aro</td>\n",
       "      <td>338</td>\n",
       "      <td>4</td>\n",
       "      <td>aro</td>\n",
       "    </tr>\n",
       "    <tr>\n",
       "      <th>4</th>\n",
       "      <td>4</td>\n",
       "      <td>CX143</td>\n",
       "      <td>KHASAR</td>\n",
       "      <td>Iran</td>\n",
       "      <td>As1</td>\n",
       "      <td>4</td>\n",
       "      <td>1</td>\n",
       "      <td>cB_(Bas)</td>\n",
       "      <td>aro</td>\n",
       "      <td>372</td>\n",
       "      <td>4</td>\n",
       "      <td>aro</td>\n",
       "    </tr>\n",
       "  </tbody>\n",
       "</table>\n",
       "</div>"
      ],
      "text/plain": [
       "   Unnamed: 0     ID                    NAME      COUNTRY REGION  sNMF_K3  \\\n",
       "0           0   CX59  MILAGROSA,_ZAWA_BANDAY  Philippines    As5        4   \n",
       "1           1   CX65                 DOMSIAH         Iran    As1        4   \n",
       "2           2   CX67                   BINAM         Iran    As1        4   \n",
       "3           3  CX104            SADRI_RICE_1         Iran    As1        4   \n",
       "4           4  CX143                  KHASAR         Iran    As1        4   \n",
       "\n",
       "   Jap_K4 K9_cluster Initial_subpop  genoIndex  code label  \n",
       "0       1   cB_(Bas)            aro        296     4   aro  \n",
       "1       1   cB_(Bas)            aro        301     4   aro  \n",
       "2       1   cB_(Bas)            aro        303     4   aro  \n",
       "3       1   cB_(Bas)            aro        338     4   aro  \n",
       "4       1   cB_(Bas)            aro        372     4   aro  "
      ]
     },
     "execution_count": 3,
     "metadata": {},
     "output_type": "execute_result"
    }
   ],
   "source": [
    "## read passport information\n",
    "\n",
    "Input_file= 'D:/Rice/Project_external/metadata/orderCore_INFO.txt'\n",
    "\n",
    "RG_info= pd.read_csv(Input_file,sep= '\\t')\n",
    "\n",
    "RG_info.head()"
   ]
  },
  {
   "cell_type": "code",
   "execution_count": 4,
   "metadata": {},
   "outputs": [
    {
     "data": {
      "text/html": [
       "<div>\n",
       "<style scoped>\n",
       "    .dataframe tbody tr th:only-of-type {\n",
       "        vertical-align: middle;\n",
       "    }\n",
       "\n",
       "    .dataframe tbody tr th {\n",
       "        vertical-align: top;\n",
       "    }\n",
       "\n",
       "    .dataframe thead th {\n",
       "        text-align: right;\n",
       "    }\n",
       "</style>\n",
       "<table border=\"1\" class=\"dataframe\">\n",
       "  <thead>\n",
       "    <tr style=\"text-align: right;\">\n",
       "      <th></th>\n",
       "      <th>CHROM</th>\n",
       "      <th>POS</th>\n",
       "      <th>ID</th>\n",
       "      <th>REF</th>\n",
       "      <th>ALT</th>\n",
       "      <th>QUAL</th>\n",
       "      <th>FILTER</th>\n",
       "      <th>INFO</th>\n",
       "      <th>FORMAT</th>\n",
       "    </tr>\n",
       "  </thead>\n",
       "  <tbody>\n",
       "    <tr>\n",
       "      <th>0</th>\n",
       "      <td>8</td>\n",
       "      <td>14473</td>\n",
       "      <td>242044001</td>\n",
       "      <td>C</td>\n",
       "      <td>T</td>\n",
       "      <td>.</td>\n",
       "      <td>.</td>\n",
       "      <td>PR</td>\n",
       "      <td>GT</td>\n",
       "    </tr>\n",
       "    <tr>\n",
       "      <th>1</th>\n",
       "      <td>8</td>\n",
       "      <td>15216</td>\n",
       "      <td>242044744</td>\n",
       "      <td>T</td>\n",
       "      <td>C</td>\n",
       "      <td>.</td>\n",
       "      <td>.</td>\n",
       "      <td>PR</td>\n",
       "      <td>GT</td>\n",
       "    </tr>\n",
       "    <tr>\n",
       "      <th>2</th>\n",
       "      <td>8</td>\n",
       "      <td>18535</td>\n",
       "      <td>242048063</td>\n",
       "      <td>G</td>\n",
       "      <td>A</td>\n",
       "      <td>.</td>\n",
       "      <td>.</td>\n",
       "      <td>PR</td>\n",
       "      <td>GT</td>\n",
       "    </tr>\n",
       "    <tr>\n",
       "      <th>3</th>\n",
       "      <td>8</td>\n",
       "      <td>19970</td>\n",
       "      <td>242049498</td>\n",
       "      <td>C</td>\n",
       "      <td>T</td>\n",
       "      <td>.</td>\n",
       "      <td>.</td>\n",
       "      <td>PR</td>\n",
       "      <td>GT</td>\n",
       "    </tr>\n",
       "    <tr>\n",
       "      <th>4</th>\n",
       "      <td>8</td>\n",
       "      <td>26680</td>\n",
       "      <td>242056208</td>\n",
       "      <td>C</td>\n",
       "      <td>A</td>\n",
       "      <td>.</td>\n",
       "      <td>.</td>\n",
       "      <td>PR</td>\n",
       "      <td>GT</td>\n",
       "    </tr>\n",
       "  </tbody>\n",
       "</table>\n",
       "</div>"
      ],
      "text/plain": [
       "  CHROM    POS         ID REF ALT QUAL FILTER INFO FORMAT\n",
       "0     8  14473  242044001   C   T    .      .   PR     GT\n",
       "1     8  15216  242044744   T   C    .      .   PR     GT\n",
       "2     8  18535  242048063   G   A    .      .   PR     GT\n",
       "3     8  19970  242049498   C   T    .      .   PR     GT\n",
       "4     8  26680  242056208   C   A    .      .   PR     GT"
      ]
     },
     "execution_count": 4,
     "metadata": {},
     "output_type": "execute_result"
    }
   ],
   "source": [
    "summary.head()"
   ]
  },
  {
   "cell_type": "code",
   "execution_count": 5,
   "metadata": {},
   "outputs": [],
   "source": [
    "## Process Names vcf names.\n",
    "## Instance specific processing due to ID copy in VCF file.\n",
    "Names_vcf= list(Names)\n",
    "\n",
    "for x in range(len(Names_vcf)):\n",
    "    ind= Names_vcf[x]\n",
    "    newid= ind.split('_')\n",
    "    \n",
    "    if len(newid) > 2:\n",
    "        newid= '_'.join(newid[:2])\n",
    "    else:\n",
    "        newid= newid[0]\n",
    "    \n",
    "    Names_vcf[x]= newid\n"
   ]
  },
  {
   "cell_type": "code",
   "execution_count": 6,
   "metadata": {},
   "outputs": [],
   "source": [
    "### subset core\n",
    "core_subset= True\n",
    "\n",
    "coreID_file= 'D:/Rice/Project_external/metadata/Order_core.txt'\n",
    "\n",
    "\n",
    "with open(coreID_file,'r') as fp:\n",
    "    coreIDs= fp.readlines()\n",
    "\n",
    "coreIDs= [x.strip() for x in coreIDs]\n",
    "\n",
    "core_idx= [x for x in coreIDs if x in Names_vcf]\n",
    "core_idx= [Names_vcf.index(x) for x in core_idx]\n",
    "\n",
    "ID_pop= {\n",
    "    RG_info['ID'][x]: RG_info['Initial_subpop'][x] for x in range(RG_info.shape[0])\n",
    "}\n",
    "\n",
    "core_names= [Names_vcf[x] for x in core_idx]\n",
    "core_pop= [ID_pop[x] for x in core_names]\n"
   ]
  },
  {
   "cell_type": "code",
   "execution_count": 7,
   "metadata": {},
   "outputs": [],
   "source": [
    "\n",
    "if control_subset:\n",
    "    genotype= genotype[core_idx,:]\n",
    "    control_subset= 0\n",
    "    "
   ]
  },
  {
   "cell_type": "code",
   "execution_count": 8,
   "metadata": {},
   "outputs": [],
   "source": [
    "from impute_tools.genome_adapt import (\n",
    "    clean_geno\n",
    ")\n",
    "\n",
    "sub_sel= ['subtrop','trop','temp','aro']\n",
    "#sub_sel= ['ind1A','temp','aro','aus']\n",
    "\n",
    "if sub_sel and subbed: \n",
    "    sub_idx= [x for x in range(len(core_pop)) if core_pop[x] in sub_sel]\n",
    "    genotype= genotype[sub_idx]\n",
    "    core_pop= [core_pop[x] for x in sub_idx]\n",
    "    core_names= [core_names[x] for x in sub_idx]\n",
    "    subbed= 0\n",
    "    ##\n",
    "\n",
    "\n",
    "if clean:\n",
    "    keep_pos= clean_geno(genotype, nan_char= 9,\n",
    "               het_char= 1)\n",
    "    \n",
    "    genotype= genotype[:,keep_pos]\n",
    "    summary= summary.iloc[keep_pos]\n",
    "    summary= summary.reset_index()\n",
    "    clean= 0\n",
    "    \n",
    "\n"
   ]
  },
  {
   "cell_type": "code",
   "execution_count": 9,
   "metadata": {},
   "outputs": [
    {
     "data": {
      "text/html": [
       "<div>\n",
       "<style scoped>\n",
       "    .dataframe tbody tr th:only-of-type {\n",
       "        vertical-align: middle;\n",
       "    }\n",
       "\n",
       "    .dataframe tbody tr th {\n",
       "        vertical-align: top;\n",
       "    }\n",
       "\n",
       "    .dataframe thead th {\n",
       "        text-align: right;\n",
       "    }\n",
       "</style>\n",
       "<table border=\"1\" class=\"dataframe\">\n",
       "  <thead>\n",
       "    <tr style=\"text-align: right;\">\n",
       "      <th></th>\n",
       "      <th>index</th>\n",
       "      <th>CHROM</th>\n",
       "      <th>POS</th>\n",
       "      <th>ID</th>\n",
       "      <th>REF</th>\n",
       "      <th>ALT</th>\n",
       "      <th>QUAL</th>\n",
       "      <th>FILTER</th>\n",
       "      <th>INFO</th>\n",
       "      <th>FORMAT</th>\n",
       "    </tr>\n",
       "  </thead>\n",
       "  <tbody>\n",
       "    <tr>\n",
       "      <th>0</th>\n",
       "      <td>0</td>\n",
       "      <td>8</td>\n",
       "      <td>14473</td>\n",
       "      <td>242044001</td>\n",
       "      <td>C</td>\n",
       "      <td>T</td>\n",
       "      <td>.</td>\n",
       "      <td>.</td>\n",
       "      <td>PR</td>\n",
       "      <td>GT</td>\n",
       "    </tr>\n",
       "    <tr>\n",
       "      <th>1</th>\n",
       "      <td>10</td>\n",
       "      <td>8</td>\n",
       "      <td>34405</td>\n",
       "      <td>242063933</td>\n",
       "      <td>C</td>\n",
       "      <td>T</td>\n",
       "      <td>.</td>\n",
       "      <td>.</td>\n",
       "      <td>PR</td>\n",
       "      <td>GT</td>\n",
       "    </tr>\n",
       "    <tr>\n",
       "      <th>2</th>\n",
       "      <td>16</td>\n",
       "      <td>8</td>\n",
       "      <td>37535</td>\n",
       "      <td>242067063</td>\n",
       "      <td>A</td>\n",
       "      <td>C</td>\n",
       "      <td>.</td>\n",
       "      <td>.</td>\n",
       "      <td>PR</td>\n",
       "      <td>GT</td>\n",
       "    </tr>\n",
       "    <tr>\n",
       "      <th>3</th>\n",
       "      <td>20</td>\n",
       "      <td>8</td>\n",
       "      <td>46573</td>\n",
       "      <td>242076101</td>\n",
       "      <td>G</td>\n",
       "      <td>A</td>\n",
       "      <td>.</td>\n",
       "      <td>.</td>\n",
       "      <td>PR</td>\n",
       "      <td>GT</td>\n",
       "    </tr>\n",
       "    <tr>\n",
       "      <th>4</th>\n",
       "      <td>22</td>\n",
       "      <td>8</td>\n",
       "      <td>61005</td>\n",
       "      <td>242090533</td>\n",
       "      <td>T</td>\n",
       "      <td>G</td>\n",
       "      <td>.</td>\n",
       "      <td>.</td>\n",
       "      <td>PR</td>\n",
       "      <td>GT</td>\n",
       "    </tr>\n",
       "  </tbody>\n",
       "</table>\n",
       "</div>"
      ],
      "text/plain": [
       "   index CHROM    POS         ID REF ALT QUAL FILTER INFO FORMAT\n",
       "0      0     8  14473  242044001   C   T    .      .   PR     GT\n",
       "1     10     8  34405  242063933   C   T    .      .   PR     GT\n",
       "2     16     8  37535  242067063   A   C    .      .   PR     GT\n",
       "3     20     8  46573  242076101   G   A    .      .   PR     GT\n",
       "4     22     8  61005  242090533   T   G    .      .   PR     GT"
      ]
     },
     "execution_count": 9,
     "metadata": {},
     "output_type": "execute_result"
    }
   ],
   "source": [
    "summary.head()"
   ]
  },
  {
   "cell_type": "markdown",
   "metadata": {},
   "source": [
    "### Global variation\n",
    "\n",
    "Perform PCA across data set.\n",
    "\n",
    "Perform Mean shift clustering to attempt to extract genetically coherent groups of accessions.\n",
    "\n",
    "These will later be used for supervised analysis."
   ]
  },
  {
   "cell_type": "code",
   "execution_count": 10,
   "metadata": {},
   "outputs": [],
   "source": [
    "## Perform PCA\n",
    "n_comp= 4\n",
    "pca_global = PCA(n_components=n_comp, whiten=False,svd_solver='randomized')\n",
    "\n",
    "feats= pca_global.fit_transform(genotype)"
   ]
  },
  {
   "cell_type": "code",
   "execution_count": 11,
   "metadata": {},
   "outputs": [],
   "source": [
    "from sklearn.cluster import MeanShift, estimate_bandwidth\n",
    "\n",
    "from structure_tools.Tutorial_subplots import plot_global_pca\n",
    "## perform MeanShift clustering.\n",
    "bandwidth = estimate_bandwidth(feats, quantile=0.2)\n",
    "\n",
    "ms = MeanShift(bandwidth=bandwidth, bin_seeding=False, cluster_all=True, min_bin_freq=15)\n",
    "ms.fit(feats)\n",
    "labels1 = ms.labels_\n",
    "label_select = {y:[x for x in range(len(labels1)) if labels1[x] == y] for y in sorted(list(set(labels1)))}\n",
    "\n",
    "idvector= ['i{}_pop{}_{}'.format(x,labels1[x],core_pop[x]) for x in range(len(labels1))]\n",
    "\n",
    "###\n",
    "label_pops= {z: [core_pop[x] for x in g] for z,g in label_select.items()}\n",
    "label_connect= {z: g[np.random.randint(0,len(g))] for z,g in label_pops.items()}\n",
    "colordict= {z: PCA_color_ref[z] for z in label_pops.keys()}\n"
   ]
  },
  {
   "cell_type": "code",
   "execution_count": 12,
   "metadata": {},
   "outputs": [
    {
     "name": "stderr",
     "output_type": "stream",
     "text": [
      "c:\\users\\floyd\\appdata\\local\\programs\\python\\python37-32\\lib\\site-packages\\plotly\\tools.py:465: DeprecationWarning:\n",
      "\n",
      "plotly.tools.make_subplots is deprecated, please use plotly.subplots.make_subplots instead\n",
      "\n"
     ]
    },
    {
     "data": {
      "application/vnd.plotly.v1+json": {
       "config": {
        "linkText": "Export to plot.ly",
        "plotlyServerURL": "https://plot.ly",
        "showLink": false
       },
       "data": [
        {
         "marker": {
          "color": "darkseagreen",
          "line": {
           "width": 0
          },
          "opacity": 0.8,
          "size": 6,
          "symbol": "circle"
         },
         "mode": "markers",
         "name": "0",
         "text": [
          "temp",
          "temp",
          "temp",
          "temp",
          "temp",
          "temp",
          "temp",
          "temp",
          "temp",
          "temp",
          "temp",
          "temp",
          "temp",
          "temp",
          "temp",
          "temp",
          "temp",
          "temp",
          "temp",
          "temp",
          "temp",
          "temp",
          "subtrop",
          "temp",
          "temp",
          "temp",
          "temp",
          "temp",
          "temp",
          "temp",
          "temp",
          "temp",
          "temp",
          "temp",
          "temp",
          "temp",
          "temp",
          "temp",
          "temp",
          "temp",
          "temp",
          "subtrop",
          "temp",
          "temp",
          "temp",
          "temp",
          "temp",
          "temp",
          "temp",
          "temp",
          "temp",
          "temp",
          "temp",
          "temp",
          "temp",
          "temp",
          "temp",
          "temp",
          "temp",
          "temp",
          "temp",
          "temp",
          "temp",
          "temp",
          "temp",
          "temp",
          "temp",
          "temp",
          "temp",
          "temp",
          "temp",
          "temp",
          "temp",
          "temp",
          "temp",
          "temp",
          "temp",
          "temp",
          "temp",
          "temp",
          "temp",
          "temp",
          "temp",
          "temp",
          "temp",
          "temp",
          "temp",
          "temp",
          "temp",
          "temp",
          "temp",
          "temp",
          "temp",
          "temp",
          "temp",
          "temp",
          "temp",
          "temp",
          "temp",
          "temp",
          "temp",
          "temp",
          "temp",
          "temp",
          "temp",
          "temp",
          "temp",
          "temp",
          "temp",
          "temp",
          "temp",
          "temp",
          "temp",
          "temp",
          "temp",
          "temp",
          "temp"
         ],
         "type": "scatter",
         "x": [
          -7.219715976717342,
          -3.6387817104853326,
          -3.554961471343668,
          -14.089313471904715,
          -12.971494747348816,
          -17.751584277757946,
          -17.28485918769023,
          -15.133835336237377,
          -16.69474205401462,
          -17.267153203185682,
          -15.701199931800941,
          -14.6051015817956,
          -8.486702441165995,
          -15.69337334720742,
          -15.844280689088688,
          -12.6819814852018,
          -10.880625108710266,
          -11.81980399100704,
          -6.876191916340542,
          -12.459473727951798,
          -13.08125846553181,
          -15.78462748943745,
          -13.585067355856067,
          -13.39478246814693,
          -17.244906907868884,
          -11.757992340657962,
          -14.712538105914293,
          -16.562860637985267,
          -14.671862308791859,
          -17.016634376160045,
          -17.05137969735287,
          -14.743063573300415,
          -7.3452942768797405,
          -16.280454058797336,
          -15.628531947935398,
          -8.374489303794928,
          -8.140307280824185,
          -13.556250726728782,
          -15.977806759481032,
          -16.029336561254034,
          -15.241625436003295,
          -12.754086104619251,
          -14.488990300564877,
          -13.250216156689486,
          -17.21323156734888,
          -16.527016684043016,
          -17.398524252076562,
          -16.189946423973193,
          -14.390824491426569,
          -15.582982748701308,
          -13.885824694830626,
          -15.929839870558055,
          -11.721147915110535,
          -17.446463881248707,
          -17.035746574607543,
          -16.25106004136075,
          -13.823970413515735,
          -16.18714361319663,
          -16.92910082950602,
          -14.020796878660175,
          -13.631179715434023,
          -15.838155101684949,
          -16.182492041459863,
          -14.206686044739183,
          -16.726515390618626,
          -15.727078004595695,
          -16.121300506979043,
          -14.072130290730145,
          -13.952628327411517,
          -17.08153930745506,
          -16.473831202586272,
          -16.10468079294439,
          -15.505535014253791,
          -15.846442357019349,
          -16.36171733479431,
          -15.29992225958586,
          -8.08814080594574,
          -15.922581240612466,
          -17.271396545305826,
          -6.620710551285904,
          -15.11911083985225,
          -14.26704662759239,
          -15.778707148850614,
          -15.28599381669864,
          -16.144803330411175,
          -17.005536856475473,
          -17.34355071143359,
          -17.37391967517205,
          -16.142326207978037,
          -16.060781273661256,
          -14.134065950478684,
          -15.982389144754618,
          -16.6970223415262,
          -13.56462698890991,
          -16.674271861143325,
          -15.522985400056166,
          -16.082815197464218,
          -9.963193349993158,
          -16.422031899440412,
          -12.807592163484511,
          -14.648193315096625,
          -16.73709150771916,
          -16.766993503200847,
          -8.70000526407635,
          -17.31234130712905,
          -15.779087759922946,
          -16.86121892589926,
          -16.04906677490259,
          -15.16274889441264,
          -16.75888290196492,
          -14.904180090678164,
          -13.578052411379906,
          -15.137401066229595,
          -11.949398314300389,
          -14.451689081110699,
          -16.24483475685757,
          -16.489296368129352
         ],
         "xaxis": "x",
         "y": [
          7.65818225256439,
          7.158866362787942,
          8.209074673407851,
          9.28972429040487,
          9.594825716061512,
          10.183168300164764,
          9.53111975111354,
          9.541790510785336,
          8.867309684474856,
          9.762269254530402,
          9.615756767602127,
          8.121531155057033,
          4.2288452978436135,
          9.82316737400961,
          9.203896106861007,
          8.631929674330191,
          5.449275450034743,
          7.570923679014675,
          2.8586189815755683,
          7.346539486002802,
          7.855861561065432,
          10.079929742397665,
          3.232249587288526,
          9.296522903431326,
          9.567647931964824,
          8.468428229910339,
          9.114226030915141,
          9.564480423735802,
          8.624875114035097,
          9.096926995337798,
          9.496617701020176,
          8.94414097208835,
          5.242513911674069,
          9.42387860161382,
          9.386464653800658,
          2.0436319527792244,
          3.4502793318580123,
          8.453857627570432,
          9.670807333632997,
          9.872049838284367,
          9.19693493806222,
          6.359011439842723,
          9.608483299299213,
          8.836698909983285,
          9.397264607899244,
          9.37388923630192,
          9.845197133774889,
          9.902043762359732,
          9.52410814942731,
          9.402153760408495,
          8.978761314166226,
          9.851540076604861,
          4.548245026471541,
          10.176221497621135,
          6.587438954002125,
          9.04421172018559,
          9.234790454729652,
          8.87587663674974,
          9.564911649462017,
          9.181348323627734,
          7.936245963757793,
          9.534331670490873,
          9.367466031322547,
          9.79909160756268,
          5.387364905888142,
          10.203422142573578,
          8.782666395986634,
          9.270702396147378,
          9.357144996561031,
          10.105039161322106,
          9.36451292089873,
          9.872892379276449,
          9.098677900205601,
          8.888510757956048,
          9.52005723790292,
          8.907058722223548,
          2.521174594465822,
          9.922411439110558,
          9.68583205036215,
          1.8227369947209535,
          9.147610915725684,
          9.375145562997515,
          9.030045776635317,
          9.462641284974758,
          10.098333713942376,
          9.76481980565162,
          9.735003392631159,
          10.121418080600675,
          9.935018441098743,
          9.884233691967658,
          8.249213648614807,
          9.583833181772965,
          9.011922981538396,
          7.7302863248999545,
          8.872694347188151,
          9.075163058054462,
          9.59443303249211,
          5.534887440118671,
          10.132628011416276,
          6.8041816112896765,
          8.714020316757123,
          6.367724376218826,
          7.510837711892805,
          0.39498819617915926,
          10.121676957438517,
          9.731442837113958,
          9.885991583358303,
          9.614825729920677,
          8.932727554887625,
          9.798687356104576,
          8.6675457843408,
          8.140776824201083,
          8.650659887185535,
          7.9138011205968235,
          8.10381097849315,
          9.379050344517227,
          9.97538523613507
         ],
         "yaxis": "y"
        },
        {
         "marker": {
          "color": "crimson",
          "line": {
           "width": 0
          },
          "opacity": 0.8,
          "size": 6,
          "symbol": "circle"
         },
         "mode": "markers",
         "name": "1",
         "text": [
          "trop",
          "trop",
          "trop",
          "trop",
          "subtrop",
          "trop",
          "trop",
          "trop",
          "trop",
          "subtrop",
          "trop",
          "subtrop",
          "subtrop",
          "subtrop",
          "trop",
          "trop",
          "subtrop",
          "trop",
          "trop",
          "trop",
          "trop",
          "trop",
          "trop",
          "trop",
          "trop",
          "trop",
          "trop",
          "trop",
          "trop",
          "trop",
          "subtrop",
          "subtrop",
          "trop",
          "trop",
          "trop",
          "trop",
          "trop",
          "trop",
          "subtrop",
          "subtrop",
          "subtrop",
          "subtrop",
          "subtrop",
          "subtrop",
          "subtrop",
          "trop",
          "trop",
          "trop",
          "subtrop",
          "subtrop",
          "subtrop",
          "trop",
          "trop",
          "trop",
          "trop",
          "subtrop",
          "subtrop",
          "subtrop",
          "subtrop",
          "trop",
          "subtrop",
          "subtrop",
          "subtrop",
          "subtrop",
          "subtrop",
          "trop",
          "trop",
          "trop",
          "subtrop",
          "subtrop",
          "subtrop",
          "subtrop",
          "subtrop",
          "subtrop",
          "subtrop",
          "subtrop",
          "subtrop",
          "subtrop",
          "subtrop",
          "subtrop",
          "subtrop",
          "subtrop",
          "subtrop",
          "subtrop",
          "subtrop",
          "subtrop",
          "subtrop",
          "subtrop",
          "subtrop",
          "subtrop",
          "subtrop",
          "subtrop",
          "subtrop",
          "subtrop",
          "subtrop",
          "subtrop",
          "subtrop",
          "subtrop",
          "subtrop",
          "subtrop"
         ],
         "type": "scatter",
         "x": [
          9.3462557594137,
          4.427097706619372,
          5.207649389633806,
          4.675585445712754,
          1.6603644508085031,
          8.461875379369435,
          9.040809488401713,
          7.188572974226337,
          4.960451153738537,
          0.5267954583763694,
          6.066316217091196,
          3.5139000979999713,
          1.3557365770025107,
          5.185878435977534,
          8.306128323971619,
          7.95664142180746,
          5.479892529890413,
          6.958103552436612,
          7.041057000529393,
          6.168670019699006,
          5.218976746252051,
          5.318674683982303,
          6.115919410549683,
          4.522830339656083,
          5.2690991735092,
          6.073142807892717,
          4.916087013754213,
          6.406576194641487,
          3.551831523112663,
          6.107533028938782,
          7.757176511673717,
          4.748790081545983,
          3.6583749214612227,
          6.770000823075216,
          6.9519052027434105,
          8.730622762598344,
          6.744653172048368,
          8.428056998280297,
          2.3703838100184416,
          4.222829598469046,
          8.112662605590705,
          2.717093608293604,
          8.016613176019558,
          4.514864526224657,
          2.876675779496726,
          7.213282722677776,
          7.1817744640217045,
          8.051676119250324,
          1.1301096212216686,
          4.057418634974967,
          5.4799733937860395,
          7.9848123729276335,
          6.077501380540532,
          1.789726297201507,
          4.658548172261784,
          2.280883144310179,
          4.954675513442638,
          5.1254030640291335,
          6.192460565619125,
          4.893505228329599,
          4.53683030997769,
          4.620465768655818,
          2.2547348732712242,
          2.9362522495139234,
          3.2352527243736615,
          5.9362801991445915,
          3.930826986489878,
          6.640175178517943,
          1.9545092765235252,
          7.35326949782801,
          6.273129165701744,
          2.8953537926766897,
          0.38466466041073893,
          4.357308288849394,
          1.5845008552302469,
          3.4317469882917013,
          6.3920082020885,
          1.5104403945292504,
          1.6900987100391345,
          2.7110446646540596,
          2.0762053885502207,
          5.322222028636392,
          1.8699502107700379,
          2.518860688709711,
          4.347019889166587,
          3.962399850667009,
          1.5204517348377116,
          3.276146120969784,
          3.270563261501802,
          5.234030845844233,
          3.0103394003821853,
          1.8748401456066048,
          4.736903480226136,
          0.8833111414560036,
          2.734970602420224,
          2.9012679025522834,
          4.630382074567644,
          2.4352008619606065,
          5.103711448069216,
          0.6402065053152147
         ],
         "xaxis": "x",
         "y": [
          -5.1278635598391,
          -14.404636924625569,
          -8.548964158233556,
          -11.87190455851508,
          -9.457441598540173,
          -15.733956285761092,
          -14.608057886621694,
          -14.02807546184788,
          -11.763348211168907,
          -10.38723116214423,
          -13.960143126617808,
          -12.87731663798744,
          -8.988066461209979,
          -15.381731068440518,
          -12.987171401510995,
          -13.559356353811001,
          -15.497701565119694,
          -14.696041292275117,
          -8.03686266974378,
          -16.65040251496124,
          -12.642582558179265,
          -12.642063734295293,
          -13.44384522557563,
          -11.878211572305203,
          -12.785647018058855,
          -13.531245388735407,
          -12.369707492258275,
          -14.716575239178344,
          -11.836390346729685,
          -13.695074108777677,
          -16.239714149742685,
          -12.603585983485516,
          -12.183740906467618,
          -10.921106676174137,
          -14.272724139546742,
          -17.5611302005424,
          -17.49559253792442,
          -15.024399960901082,
          -10.221455753667941,
          -7.554545887669764,
          -9.282652831943393,
          -11.080734882097978,
          -11.502418690338237,
          -10.423010948126434,
          -10.12774500566954,
          -15.313126147796675,
          -13.755012083327992,
          -15.330561100007085,
          -10.988840393747997,
          -13.198730413689717,
          -14.880822848145739,
          -15.46958433292677,
          -14.006751995832227,
          -11.575088753383405,
          -14.804206505942359,
          -13.410796874484484,
          -15.782123950868394,
          -15.286231653794575,
          -14.121448959688639,
          -12.859807124144554,
          -12.531435973174007,
          -11.333619168255552,
          -9.801143387495777,
          -13.439649841232953,
          -8.872615534942824,
          -11.248489203627873,
          -13.08280077104205,
          -13.953775831149052,
          -12.556379240427018,
          -14.975989914222916,
          -16.086835589716394,
          -12.951448630396442,
          -12.527253090114504,
          -13.513160506154131,
          -12.803553302012899,
          -14.330202107769308,
          -16.081681741586713,
          -12.44690079618643,
          -12.59536071949902,
          -12.53206428641713,
          -8.112164512589343,
          -14.612652025847886,
          -13.032286352479352,
          -9.875472376062099,
          -13.630364648880663,
          -16.486654734331445,
          -9.95669787721698,
          -12.233266483809697,
          -9.759243582198748,
          -16.86588277342419,
          -13.324113036293442,
          -14.327560573381692,
          -12.298199635669143,
          -13.635838289121393,
          -14.305867800952004,
          -16.891304197894556,
          -10.570538347866993,
          -14.074560396108355,
          -10.015278406431026,
          -12.269162157177284
         ],
         "yaxis": "y"
        },
        {
         "marker": {
          "color": "darkorange",
          "line": {
           "width": 0
          },
          "opacity": 0.8,
          "size": 6,
          "symbol": "circle"
         },
         "mode": "markers",
         "name": "2",
         "text": [
          "aro",
          "temp",
          "temp",
          "trop",
          "trop",
          "aro",
          "subtrop",
          "trop",
          "trop",
          "trop",
          "trop",
          "trop",
          "subtrop",
          "subtrop",
          "subtrop",
          "trop",
          "subtrop",
          "subtrop",
          "subtrop",
          "trop",
          "subtrop",
          "subtrop",
          "trop",
          "trop",
          "subtrop",
          "trop",
          "trop",
          "trop",
          "trop",
          "trop",
          "trop",
          "trop",
          "subtrop",
          "subtrop",
          "subtrop",
          "subtrop",
          "subtrop",
          "subtrop",
          "subtrop",
          "subtrop",
          "trop",
          "trop",
          "trop",
          "trop",
          "trop",
          "trop",
          "trop",
          "trop",
          "trop",
          "trop",
          "trop",
          "subtrop",
          "trop",
          "subtrop",
          "trop",
          "subtrop",
          "trop",
          "trop",
          "trop",
          "trop",
          "trop",
          "trop",
          "temp",
          "trop",
          "trop",
          "trop",
          "trop",
          "trop",
          "trop",
          "subtrop"
         ],
         "type": "scatter",
         "x": [
          4.731928722135905,
          -2.6837960691849747,
          -6.484818036901399,
          0.26278243974513277,
          -2.6251824216117985,
          -1.167772765622443,
          -3.523278312057323,
          -3.6344043217532884,
          -4.419460697834921,
          -3.4574805172434306,
          -3.388205145812324,
          -4.488544787968396,
          -7.184860568454486,
          -6.785942773698581,
          -4.104694467492011,
          -0.6829849246833715,
          -5.226929002528948,
          -5.835213197829934,
          -5.755695721294264,
          -0.7251444544077874,
          -1.0315703690284725,
          -6.912760181429894,
          -4.464801586638841,
          -0.9851871639261334,
          -5.843404966749323,
          1.4042903564361802,
          -1.090701260509653,
          -0.6804836327757721,
          -2.544529550208267,
          -4.671327465584246,
          -2.9576542318923953,
          -3.0137163708634986,
          -4.632102071474819,
          -4.201532838352841,
          -4.626156181350263,
          -0.31137837998430307,
          -5.3961677384967555,
          -4.545875445428664,
          -3.0378257766145063,
          0.026527527075890792,
          -1.0354041119783204,
          -3.581580810146217,
          -2.848593622827212,
          -5.845587236165073,
          -3.4419407158148805,
          -5.264299379317666,
          -2.6795903085650528,
          -0.9645458757397529,
          -0.6883622306236903,
          -3.9066890936188985,
          -3.4201741046432357,
          -2.2355049229227992,
          -5.4622969563746135,
          -5.881304685794937,
          -3.7904341075094767,
          -6.087985113324072,
          -3.5540796024010466,
          -6.169507432063719,
          -5.685269827506271,
          -5.44197467527993,
          -0.5167652453875063,
          -5.1589433550067465,
          -8.626017943202992,
          0.2891450918133028,
          -4.576373059495902,
          -1.416208330190708,
          -4.73206115859954,
          -3.966547083580456,
          0.7193420434910976,
          -3.5856189289330658
         ],
         "xaxis": "x",
         "y": [
          7.6229000500547714,
          6.753093169967134,
          3.7589448351828083,
          -3.6433869711428235,
          -7.613345812823183,
          2.1785488667746153,
          -3.4889267323095963,
          -10.46592372113316,
          -9.411787627050808,
          -5.5454449413855915,
          -10.718785788397936,
          -11.751182927357057,
          -1.408996430570749,
          -2.842279138189398,
          -2.750062898746374,
          -10.19255436625439,
          -0.46086400549978374,
          -1.7033947649483427,
          -1.730736339099857,
          -10.526689551035208,
          -6.2687727196030645,
          -1.1666072263592122,
          -6.053129972735198,
          -10.270915932290682,
          -3.3333857869849375,
          -7.045823014670481,
          -12.361686759401618,
          -10.62473173035544,
          -9.57659697490282,
          -10.461348616324603,
          -8.473409910508083,
          -8.901745179718347,
          -4.736934820231943,
          -3.261722254153834,
          -3.3187441215742854,
          -8.168939992862516,
          -3.00148930299619,
          -5.3223950068105115,
          -7.03724495414356,
          -10.925642023357824,
          -11.1127868740955,
          -10.928473738647579,
          -9.828141074836456,
          -6.569493856841097,
          -7.443065873758185,
          -8.377407285193588,
          -7.295290205433963,
          -9.736555505785265,
          -9.186351429115515,
          -8.073329064453874,
          -8.594129961503457,
          -7.128103292211621,
          -8.899322601915893,
          -8.36191833129917,
          -10.368425251289905,
          -1.9890282540313164,
          -9.442489181959415,
          -4.118470042884338,
          -6.454116726913198,
          -6.885388917046769,
          -14.994868931171142,
          -10.83235736380219,
          0.9216587498674431,
          -12.544286032138075,
          -7.006879762585207,
          -10.577498872825212,
          -6.247217623309079,
          -9.03371795881322,
          -11.117154956879078,
          -8.362733359370816
         ],
         "yaxis": "y"
        },
        {
         "marker": {
          "color": "darkblue",
          "line": {
           "width": 0
          },
          "opacity": 0.8,
          "size": 6,
          "symbol": "circle"
         },
         "mode": "markers",
         "name": "3",
         "text": [
          "aro",
          "aro",
          "aro",
          "aro",
          "aro",
          "aro",
          "aro",
          "aro",
          "aro",
          "aro",
          "aro",
          "aro",
          "aro",
          "aro",
          "aro",
          "aro",
          "aro",
          "aro",
          "aro",
          "aro",
          "aro",
          "aro",
          "aro",
          "aro",
          "aro",
          "aro",
          "aro",
          "aro",
          "aro",
          "aro",
          "aro",
          "aro",
          "aro",
          "aro",
          "aro",
          "aro",
          "aro",
          "aro",
          "aro",
          "aro",
          "aro",
          "aro",
          "aro",
          "aro",
          "aro",
          "aro",
          "aro",
          "aro",
          "aro",
          "aro",
          "aro",
          "aro",
          "aro",
          "aro",
          "aro",
          "aro",
          "aro",
          "aro",
          "aro",
          "aro",
          "aro",
          "aro",
          "aro",
          "aro",
          "aro",
          "aro",
          "aro"
         ],
         "type": "scatter",
         "x": [
          29.83254206276659,
          30.442023382573396,
          29.868735919589593,
          29.45384862654972,
          30.02127556227653,
          29.48863805142796,
          22.959282884724374,
          23.453320257213086,
          23.20273853777197,
          30.231664160264714,
          21.589995526718575,
          18.591496864333934,
          29.372192587853633,
          29.6713022941636,
          20.26790690358028,
          29.566394019590216,
          29.522927904758717,
          25.309648619542614,
          15.672703655421465,
          29.761005102448838,
          25.637806098933446,
          23.740428136618124,
          26.74582905774423,
          28.970442145597335,
          27.02354996848932,
          30.40732989531511,
          29.360534082816287,
          22.54384490966655,
          21.272516810568934,
          20.55644993481497,
          29.085209945950012,
          25.58243543143099,
          29.793632227581142,
          10.18063927149163,
          22.803913483365985,
          27.289769883700167,
          27.75800327939213,
          23.810506526790792,
          29.397339956486704,
          28.366232352210822,
          23.121823320439937,
          29.089224703449275,
          30.305841490212913,
          23.832180694304306,
          12.56143054308581,
          28.82338515115556,
          24.39139823692373,
          24.94732273080825,
          29.50488999502807,
          29.775196578118653,
          20.078335595077245,
          18.86245705059189,
          29.030007510293597,
          29.178866423923214,
          29.417415371193297,
          28.998759571211718,
          16.546739444116536,
          22.80873834880782,
          26.628228758487335,
          28.598977500863455,
          25.81210174973594,
          29.618474371067265,
          24.12557717980736,
          25.163423445422236,
          17.97951784386124,
          16.508981285817885,
          20.64982030499449
         ],
         "xaxis": "x",
         "y": [
          14.539614225408126,
          14.568235084974548,
          14.233022841464354,
          13.877898176665465,
          14.201004765370332,
          14.041035984565344,
          8.104127443570802,
          7.735891006227638,
          7.657213263617597,
          14.438973742667244,
          8.12984345933145,
          18.679283814676243,
          11.223043263616495,
          13.890928330529437,
          6.649227259982615,
          13.38169665128714,
          14.34535540053533,
          10.675645023930484,
          9.73140913525201,
          14.017842286654131,
          7.624357606317632,
          10.651960579718056,
          9.815575835586895,
          13.737543564189712,
          9.66844900479122,
          14.527897514259857,
          13.214503294348118,
          8.131472662982226,
          8.528687914561413,
          7.615306001829218,
          13.915933723901542,
          11.53651524373793,
          14.346725720044814,
          12.359795687633058,
          8.263171944059492,
          11.342855381928462,
          12.395718590199102,
          7.105749311708,
          14.107410354440493,
          13.597553627381949,
          11.625175994749934,
          14.614383218395398,
          14.61782889746833,
          8.87835958702676,
          11.330211337207832,
          11.18814258947965,
          10.392469608268629,
          10.754787421239648,
          14.368584573568059,
          14.312461664214696,
          11.922070293443305,
          7.853532881478613,
          13.675160921761234,
          14.14734471017577,
          13.947337326277978,
          14.115973111256611,
          8.82015520518911,
          10.728429931675835,
          10.623751789295945,
          13.826442225663918,
          11.24799244639863,
          12.428856766249838,
          6.624424076798187,
          9.262858923022018,
          9.225332567594716,
          5.299674247986757,
          8.778345349620245
         ],
         "yaxis": "y"
        },
        {
         "marker": {
          "color": "darkcyan",
          "line": {
           "width": 0
          },
          "opacity": 0.8,
          "size": 6,
          "symbol": "circle"
         },
         "mode": "markers",
         "name": "4",
         "text": [
          "trop",
          "trop",
          "trop",
          "trop",
          "trop",
          "trop",
          "trop",
          "trop",
          "trop",
          "trop",
          "trop",
          "trop",
          "trop",
          "trop",
          "trop",
          "trop",
          "trop",
          "trop",
          "trop",
          "trop",
          "trop",
          "trop",
          "trop",
          "trop",
          "trop",
          "trop",
          "trop",
          "trop",
          "trop",
          "trop",
          "trop"
         ],
         "type": "scatter",
         "x": [
          -11.185620072777422,
          -0.09657493901013099,
          0.07351526159177998,
          -1.830985482385209,
          5.345651003161152,
          -10.751102624104172,
          2.380655516244341,
          -6.6068558054139075,
          -10.79791250144275,
          -9.345300440672162,
          -8.943845906149853,
          -12.443192740832233,
          -0.19828957009232226,
          -5.674396964445725,
          -11.292387715612236,
          -11.779165385133457,
          -9.140963837374116,
          -9.199179981867424,
          -5.02058227270001,
          -9.00876395740573,
          -9.408527064995058,
          -11.965683551219128,
          -9.681177226193878,
          -11.881352531653892,
          -9.442901784600103,
          -10.049027438672182,
          -10.855225568653,
          -9.64180828771715,
          -9.344651187365846,
          -8.898075395445007,
          -8.92792383897383
         ],
         "xaxis": "x",
         "y": [
          2.0096939035036687,
          -7.080710591639284,
          -7.113917436939429,
          -3.6670345732624274,
          -10.362243192512805,
          2.4242847681515696,
          -6.471344750737682,
          1.3567200880224994,
          1.265430854980643,
          2.1447469924546962,
          1.4648101793525685,
          2.4870329593167817,
          -6.2978496809437905,
          2.298044966978451,
          1.7183062208556368,
          3.083649696615413,
          1.6943267916232718,
          2.3385758421928275,
          -5.7481983726322925,
          1.510016643837534,
          -0.26458058573856774,
          1.714069917813548,
          1.9710125688011053,
          -0.19617975028027507,
          -0.4458424298967839,
          -0.1910541514952643,
          2.4996008072587816,
          -0.3471130892253177,
          2.29407368221753,
          2.369499710111119,
          1.0737262425630762
         ],
         "yaxis": "y"
        },
        {
         "marker": {
          "color": "darkseagreen",
          "line": {
           "width": 0
          },
          "opacity": 0.8,
          "size": 6,
          "symbol": "circle"
         },
         "mode": "markers",
         "name": "0",
         "text": [
          "temp",
          "temp",
          "temp",
          "temp",
          "temp",
          "temp",
          "temp",
          "temp",
          "temp",
          "temp",
          "temp",
          "temp",
          "temp",
          "temp",
          "temp",
          "temp",
          "temp",
          "temp",
          "temp",
          "temp",
          "temp",
          "temp",
          "subtrop",
          "temp",
          "temp",
          "temp",
          "temp",
          "temp",
          "temp",
          "temp",
          "temp",
          "temp",
          "temp",
          "temp",
          "temp",
          "temp",
          "temp",
          "temp",
          "temp",
          "temp",
          "temp",
          "subtrop",
          "temp",
          "temp",
          "temp",
          "temp",
          "temp",
          "temp",
          "temp",
          "temp",
          "temp",
          "temp",
          "temp",
          "temp",
          "temp",
          "temp",
          "temp",
          "temp",
          "temp",
          "temp",
          "temp",
          "temp",
          "temp",
          "temp",
          "temp",
          "temp",
          "temp",
          "temp",
          "temp",
          "temp",
          "temp",
          "temp",
          "temp",
          "temp",
          "temp",
          "temp",
          "temp",
          "temp",
          "temp",
          "temp",
          "temp",
          "temp",
          "temp",
          "temp",
          "temp",
          "temp",
          "temp",
          "temp",
          "temp",
          "temp",
          "temp",
          "temp",
          "temp",
          "temp",
          "temp",
          "temp",
          "temp",
          "temp",
          "temp",
          "temp",
          "temp",
          "temp",
          "temp",
          "temp",
          "temp",
          "temp",
          "temp",
          "temp",
          "temp",
          "temp",
          "temp",
          "temp",
          "temp",
          "temp",
          "temp",
          "temp",
          "temp"
         ],
         "type": "scatter",
         "x": [
          -7.219715976717342,
          -3.6387817104853326,
          -3.554961471343668,
          -14.089313471904715,
          -12.971494747348816,
          -17.751584277757946,
          -17.28485918769023,
          -15.133835336237377,
          -16.69474205401462,
          -17.267153203185682,
          -15.701199931800941,
          -14.6051015817956,
          -8.486702441165995,
          -15.69337334720742,
          -15.844280689088688,
          -12.6819814852018,
          -10.880625108710266,
          -11.81980399100704,
          -6.876191916340542,
          -12.459473727951798,
          -13.08125846553181,
          -15.78462748943745,
          -13.585067355856067,
          -13.39478246814693,
          -17.244906907868884,
          -11.757992340657962,
          -14.712538105914293,
          -16.562860637985267,
          -14.671862308791859,
          -17.016634376160045,
          -17.05137969735287,
          -14.743063573300415,
          -7.3452942768797405,
          -16.280454058797336,
          -15.628531947935398,
          -8.374489303794928,
          -8.140307280824185,
          -13.556250726728782,
          -15.977806759481032,
          -16.029336561254034,
          -15.241625436003295,
          -12.754086104619251,
          -14.488990300564877,
          -13.250216156689486,
          -17.21323156734888,
          -16.527016684043016,
          -17.398524252076562,
          -16.189946423973193,
          -14.390824491426569,
          -15.582982748701308,
          -13.885824694830626,
          -15.929839870558055,
          -11.721147915110535,
          -17.446463881248707,
          -17.035746574607543,
          -16.25106004136075,
          -13.823970413515735,
          -16.18714361319663,
          -16.92910082950602,
          -14.020796878660175,
          -13.631179715434023,
          -15.838155101684949,
          -16.182492041459863,
          -14.206686044739183,
          -16.726515390618626,
          -15.727078004595695,
          -16.121300506979043,
          -14.072130290730145,
          -13.952628327411517,
          -17.08153930745506,
          -16.473831202586272,
          -16.10468079294439,
          -15.505535014253791,
          -15.846442357019349,
          -16.36171733479431,
          -15.29992225958586,
          -8.08814080594574,
          -15.922581240612466,
          -17.271396545305826,
          -6.620710551285904,
          -15.11911083985225,
          -14.26704662759239,
          -15.778707148850614,
          -15.28599381669864,
          -16.144803330411175,
          -17.005536856475473,
          -17.34355071143359,
          -17.37391967517205,
          -16.142326207978037,
          -16.060781273661256,
          -14.134065950478684,
          -15.982389144754618,
          -16.6970223415262,
          -13.56462698890991,
          -16.674271861143325,
          -15.522985400056166,
          -16.082815197464218,
          -9.963193349993158,
          -16.422031899440412,
          -12.807592163484511,
          -14.648193315096625,
          -16.73709150771916,
          -16.766993503200847,
          -8.70000526407635,
          -17.31234130712905,
          -15.779087759922946,
          -16.86121892589926,
          -16.04906677490259,
          -15.16274889441264,
          -16.75888290196492,
          -14.904180090678164,
          -13.578052411379906,
          -15.137401066229595,
          -11.949398314300389,
          -14.451689081110699,
          -16.24483475685757,
          -16.489296368129352
         ],
         "xaxis": "x2",
         "y": [
          0.2887528983720994,
          2.8163877409339397,
          4.4458689079785385,
          -2.1556017014823063,
          -2.984722380220075,
          -4.209315375760504,
          -4.718105354459998,
          -4.358223272946942,
          -3.9511129901806856,
          -3.8353414225552633,
          -3.5387551013384684,
          -4.196378265359949,
          -3.967430887497567,
          -4.459923438814669,
          -3.391010122058082,
          -3.648480297878055,
          -3.9557265325058175,
          -4.638162972515516,
          -2.678136265296607,
          -2.3164544262693623,
          -2.516686184439293,
          -4.560992873303819,
          -3.014097958818532,
          -2.060092474931535,
          -4.713560946815523,
          -3.5908182599384704,
          -4.505479624527803,
          -4.168638521419201,
          -5.56593210828213,
          -4.268166514308603,
          -3.4963217743289836,
          -3.698511757094883,
          -2.487330698255404,
          -3.7462039260380258,
          -4.606046698262713,
          -3.4513033341140886,
          -2.667173050125205,
          -2.539127839234487,
          -4.858748486896172,
          -4.8325909823482665,
          -4.854957164293752,
          -5.385090838542534,
          -3.442774461961511,
          -2.9160857426735514,
          -4.382809774035744,
          -3.770870956169095,
          -4.073834428970014,
          -4.863109249508713,
          -4.166572958803396,
          -4.43385199280433,
          -2.9669250085918386,
          -4.8568419484395,
          -2.7908060108061226,
          -4.366533250517419,
          -3.2083253981179376,
          -3.0627418544259077,
          -4.889033037014258,
          -3.213699057946743,
          -4.519309981715692,
          -4.709028610975435,
          -3.402882246502168,
          -4.646258578564385,
          -3.7158125086024945,
          -4.502200504841749,
          -3.0438948587278536,
          -5.563403337857775,
          -2.769990881646669,
          -3.863548847688341,
          -3.867540615861309,
          -3.6746153681290292,
          -3.38775368060761,
          -4.843803629403174,
          -4.566150386756481,
          -3.6037023507580535,
          -3.4914823826648815,
          -6.082059742990427,
          -3.6068181567831026,
          -4.84564678864374,
          -4.252335308164234,
          -2.1100585126579823,
          -4.20662530010166,
          -5.900202131982824,
          -5.778992891938983,
          -4.864708186265055,
          -4.8206032872544355,
          -3.408252317177147,
          -4.152933227368875,
          -3.884119990678638,
          -4.764265203009801,
          -4.748046273066249,
          -2.9786279165350407,
          -4.193700065676536,
          -4.072276136200285,
          -2.8224700288866265,
          -3.1103099905702183,
          -4.066032252031916,
          -3.709973817536617,
          -6.139352595778068,
          -3.7027301659909453,
          -5.1675693238530735,
          -4.059895846785329,
          -3.023701880083705,
          -3.6332673607895805,
          -4.353451774130499,
          -3.9617221447854645,
          -4.560391819720114,
          -4.468354504285459,
          -4.716311671669424,
          -5.235287333448905,
          -4.309506681743874,
          -2.3729009097749536,
          -3.1364571563236825,
          -2.707866720610626,
          -4.409445238763787,
          -3.2382330722447925,
          -3.37260694091237,
          -4.126032118919223
         ],
         "yaxis": "y2"
        },
        {
         "marker": {
          "color": "crimson",
          "line": {
           "width": 0
          },
          "opacity": 0.8,
          "size": 6,
          "symbol": "circle"
         },
         "mode": "markers",
         "name": "1",
         "text": [
          "trop",
          "trop",
          "trop",
          "trop",
          "subtrop",
          "trop",
          "trop",
          "trop",
          "trop",
          "subtrop",
          "trop",
          "subtrop",
          "subtrop",
          "subtrop",
          "trop",
          "trop",
          "subtrop",
          "trop",
          "trop",
          "trop",
          "trop",
          "trop",
          "trop",
          "trop",
          "trop",
          "trop",
          "trop",
          "trop",
          "trop",
          "trop",
          "subtrop",
          "subtrop",
          "trop",
          "trop",
          "trop",
          "trop",
          "trop",
          "trop",
          "subtrop",
          "subtrop",
          "subtrop",
          "subtrop",
          "subtrop",
          "subtrop",
          "subtrop",
          "trop",
          "trop",
          "trop",
          "subtrop",
          "subtrop",
          "subtrop",
          "trop",
          "trop",
          "trop",
          "trop",
          "subtrop",
          "subtrop",
          "subtrop",
          "subtrop",
          "trop",
          "subtrop",
          "subtrop",
          "subtrop",
          "subtrop",
          "subtrop",
          "trop",
          "trop",
          "trop",
          "subtrop",
          "subtrop",
          "subtrop",
          "subtrop",
          "subtrop",
          "subtrop",
          "subtrop",
          "subtrop",
          "subtrop",
          "subtrop",
          "subtrop",
          "subtrop",
          "subtrop",
          "subtrop",
          "subtrop",
          "subtrop",
          "subtrop",
          "subtrop",
          "subtrop",
          "subtrop",
          "subtrop",
          "subtrop",
          "subtrop",
          "subtrop",
          "subtrop",
          "subtrop",
          "subtrop",
          "subtrop",
          "subtrop",
          "subtrop",
          "subtrop",
          "subtrop"
         ],
         "type": "scatter",
         "x": [
          9.3462557594137,
          4.427097706619372,
          5.207649389633806,
          4.675585445712754,
          1.6603644508085031,
          8.461875379369435,
          9.040809488401713,
          7.188572974226337,
          4.960451153738537,
          0.5267954583763694,
          6.066316217091196,
          3.5139000979999713,
          1.3557365770025107,
          5.185878435977534,
          8.306128323971619,
          7.95664142180746,
          5.479892529890413,
          6.958103552436612,
          7.041057000529393,
          6.168670019699006,
          5.218976746252051,
          5.318674683982303,
          6.115919410549683,
          4.522830339656083,
          5.2690991735092,
          6.073142807892717,
          4.916087013754213,
          6.406576194641487,
          3.551831523112663,
          6.107533028938782,
          7.757176511673717,
          4.748790081545983,
          3.6583749214612227,
          6.770000823075216,
          6.9519052027434105,
          8.730622762598344,
          6.744653172048368,
          8.428056998280297,
          2.3703838100184416,
          4.222829598469046,
          8.112662605590705,
          2.717093608293604,
          8.016613176019558,
          4.514864526224657,
          2.876675779496726,
          7.213282722677776,
          7.1817744640217045,
          8.051676119250324,
          1.1301096212216686,
          4.057418634974967,
          5.4799733937860395,
          7.9848123729276335,
          6.077501380540532,
          1.789726297201507,
          4.658548172261784,
          2.280883144310179,
          4.954675513442638,
          5.1254030640291335,
          6.192460565619125,
          4.893505228329599,
          4.53683030997769,
          4.620465768655818,
          2.2547348732712242,
          2.9362522495139234,
          3.2352527243736615,
          5.9362801991445915,
          3.930826986489878,
          6.640175178517943,
          1.9545092765235252,
          7.35326949782801,
          6.273129165701744,
          2.8953537926766897,
          0.38466466041073893,
          4.357308288849394,
          1.5845008552302469,
          3.4317469882917013,
          6.3920082020885,
          1.5104403945292504,
          1.6900987100391345,
          2.7110446646540596,
          2.0762053885502207,
          5.322222028636392,
          1.8699502107700379,
          2.518860688709711,
          4.347019889166587,
          3.962399850667009,
          1.5204517348377116,
          3.276146120969784,
          3.270563261501802,
          5.234030845844233,
          3.0103394003821853,
          1.8748401456066048,
          4.736903480226136,
          0.8833111414560036,
          2.734970602420224,
          2.9012679025522834,
          4.630382074567644,
          2.4352008619606065,
          5.103711448069216,
          0.6402065053152147
         ],
         "xaxis": "x2",
         "y": [
          4.226031607206161,
          0.5854138253653146,
          -0.8423085795468068,
          -7.134409309985061,
          -15.797551939105755,
          -1.6110558774894117,
          0.9797338085965543,
          1.7149018764690613,
          -7.44090208334016,
          -14.323207915956148,
          1.2818075050907196,
          -13.334234369035931,
          -12.844657665756616,
          -4.367929283439285,
          -2.7989614695277023,
          -4.172122510876525,
          -2.06298652389388,
          -4.0759033285471915,
          1.7318753686636803,
          -1.1966186297149888,
          -6.5103064244329625,
          -6.44154750589124,
          -4.806770495985419,
          -6.966054945355744,
          -6.535585445688572,
          -4.731941259499966,
          -5.980164033928418,
          2.7145463069550653,
          -0.5739790073012897,
          0.6343438653315803,
          -4.508254087318378,
          -10.004422648754169,
          -0.8792954110136135,
          6.118104115624437,
          -3.916086537179317,
          -1.5040597547700472,
          -0.6207684302078084,
          2.8430212761147535,
          -14.32207691435589,
          -12.387195407338503,
          -7.818362121062151,
          -14.542634727843538,
          -5.53958669908643,
          -10.791123748060668,
          -13.364581814561582,
          -2.4265351608501913,
          -3.799334992443598,
          -2.9594124535868893,
          -14.926028377568231,
          -13.732712530901903,
          -7.564666710226948,
          -1.534240605375632,
          1.5291137604391096,
          1.880863159161778,
          -1.5420861852675607,
          -15.064368520432543,
          -4.53826070933578,
          -8.53675996634386,
          -6.314438096322921,
          3.3357192339193973,
          -10.11682006227887,
          -13.820546880636204,
          -16.18816003523808,
          -14.099371852719756,
          -13.324071696580491,
          -3.4181679553990953,
          0.19353532132853452,
          -3.2033217578878075,
          -15.705681926610133,
          -6.3606174366519435,
          -6.134449593868561,
          -15.416221775836384,
          -15.551152967410633,
          -5.9171165483046515,
          -15.152673592927442,
          -13.962769166488664,
          -6.3180519047338555,
          -15.116901161261254,
          -15.239559790181778,
          -15.730332513713613,
          -11.626363804070936,
          -7.487222104852665,
          -15.82985049837606,
          -16.64658704213802,
          -9.859478842039323,
          -11.272499177795398,
          -16.31443959865854,
          -13.277827489801524,
          -15.98367431617881,
          -4.858390857973259,
          -14.358760175106948,
          -14.594855973140831,
          -10.107222199003493,
          -14.170656936994012,
          -9.03186438135833,
          -8.721732727412714,
          -11.823139064088641,
          -14.247206180759084,
          -12.780601665712917,
          -15.354703112283438
         ],
         "yaxis": "y2"
        },
        {
         "marker": {
          "color": "darkorange",
          "line": {
           "width": 0
          },
          "opacity": 0.8,
          "size": 6,
          "symbol": "circle"
         },
         "mode": "markers",
         "name": "2",
         "text": [
          "aro",
          "temp",
          "temp",
          "trop",
          "trop",
          "aro",
          "subtrop",
          "trop",
          "trop",
          "trop",
          "trop",
          "trop",
          "subtrop",
          "subtrop",
          "subtrop",
          "trop",
          "subtrop",
          "subtrop",
          "subtrop",
          "trop",
          "subtrop",
          "subtrop",
          "trop",
          "trop",
          "subtrop",
          "trop",
          "trop",
          "trop",
          "trop",
          "trop",
          "trop",
          "trop",
          "subtrop",
          "subtrop",
          "subtrop",
          "subtrop",
          "subtrop",
          "subtrop",
          "subtrop",
          "subtrop",
          "trop",
          "trop",
          "trop",
          "trop",
          "trop",
          "trop",
          "trop",
          "trop",
          "trop",
          "trop",
          "trop",
          "subtrop",
          "trop",
          "subtrop",
          "trop",
          "subtrop",
          "trop",
          "trop",
          "trop",
          "trop",
          "trop",
          "trop",
          "temp",
          "trop",
          "trop",
          "trop",
          "trop",
          "trop",
          "trop",
          "subtrop"
         ],
         "type": "scatter",
         "x": [
          4.731928722135905,
          -2.6837960691849747,
          -6.484818036901399,
          0.26278243974513277,
          -2.6251824216117985,
          -1.167772765622443,
          -3.523278312057323,
          -3.6344043217532884,
          -4.419460697834921,
          -3.4574805172434306,
          -3.388205145812324,
          -4.488544787968396,
          -7.184860568454486,
          -6.785942773698581,
          -4.104694467492011,
          -0.6829849246833715,
          -5.226929002528948,
          -5.835213197829934,
          -5.755695721294264,
          -0.7251444544077874,
          -1.0315703690284725,
          -6.912760181429894,
          -4.464801586638841,
          -0.9851871639261334,
          -5.843404966749323,
          1.4042903564361802,
          -1.090701260509653,
          -0.6804836327757721,
          -2.544529550208267,
          -4.671327465584246,
          -2.9576542318923953,
          -3.0137163708634986,
          -4.632102071474819,
          -4.201532838352841,
          -4.626156181350263,
          -0.31137837998430307,
          -5.3961677384967555,
          -4.545875445428664,
          -3.0378257766145063,
          0.026527527075890792,
          -1.0354041119783204,
          -3.581580810146217,
          -2.848593622827212,
          -5.845587236165073,
          -3.4419407158148805,
          -5.264299379317666,
          -2.6795903085650528,
          -0.9645458757397529,
          -0.6883622306236903,
          -3.9066890936188985,
          -3.4201741046432357,
          -2.2355049229227992,
          -5.4622969563746135,
          -5.881304685794937,
          -3.7904341075094767,
          -6.087985113324072,
          -3.5540796024010466,
          -6.169507432063719,
          -5.685269827506271,
          -5.44197467527993,
          -0.5167652453875063,
          -5.1589433550067465,
          -8.626017943202992,
          0.2891450918133028,
          -4.576373059495902,
          -1.416208330190708,
          -4.73206115859954,
          -3.966547083580456,
          0.7193420434910976,
          -3.5856189289330658
         ],
         "xaxis": "x2",
         "y": [
          7.520284019506941,
          3.62701295944054,
          -0.14151472492114986,
          7.1913842297639965,
          16.7313452188681,
          13.27543988506494,
          2.3749062718677854,
          14.288435105902689,
          15.509926870253743,
          6.147529103998559,
          11.541418090276558,
          10.100778345322214,
          1.728468316653567,
          1.6448062997105595,
          0.22361180156105576,
          15.105097736323087,
          4.474573176240888,
          2.1428834490830972,
          2.2290482478064106,
          15.177273425546579,
          10.980771802884249,
          2.0819403693593017,
          15.226638186018468,
          13.313549547909346,
          2.6539954056686694,
          19.084226118342915,
          18.766483605772933,
          15.12735192047739,
          11.37921140045654,
          9.72195425677594,
          11.433940568831517,
          14.566238634998076,
          5.8566370143001265,
          -0.028679108318230215,
          -0.7604760990198975,
          11.049186689202664,
          1.5039875111481487,
          -0.7557890542615014,
          11.47225402686654,
          8.072729401921587,
          16.356891799632017,
          7.3479578104997785,
          11.099486326508408,
          12.215911233587422,
          16.798869763483538,
          12.036182870465113,
          15.626888780298334,
          15.07483296302144,
          12.984054468907367,
          18.158922105780402,
          14.153444424501496,
          8.09327733003417,
          6.1577254382089635,
          -4.16596951586985,
          19.003447339459008,
          2.0524773616868726,
          9.587811981761238,
          11.294253390889065,
          14.248444444222596,
          13.795929190979729,
          16.730130069824135,
          15.379037792401078,
          -0.6370409837544956,
          18.299225571770567,
          5.205830073865606,
          16.566696386655632,
          14.69061235914401,
          15.565415527487076,
          15.426839418146143,
          -1.5569239658428944
         ],
         "yaxis": "y2"
        },
        {
         "marker": {
          "color": "darkblue",
          "line": {
           "width": 0
          },
          "opacity": 0.8,
          "size": 6,
          "symbol": "circle"
         },
         "mode": "markers",
         "name": "3",
         "text": [
          "aro",
          "aro",
          "aro",
          "aro",
          "aro",
          "aro",
          "aro",
          "aro",
          "aro",
          "aro",
          "aro",
          "aro",
          "aro",
          "aro",
          "aro",
          "aro",
          "aro",
          "aro",
          "aro",
          "aro",
          "aro",
          "aro",
          "aro",
          "aro",
          "aro",
          "aro",
          "aro",
          "aro",
          "aro",
          "aro",
          "aro",
          "aro",
          "aro",
          "aro",
          "aro",
          "aro",
          "aro",
          "aro",
          "aro",
          "aro",
          "aro",
          "aro",
          "aro",
          "aro",
          "aro",
          "aro",
          "aro",
          "aro",
          "aro",
          "aro",
          "aro",
          "aro",
          "aro",
          "aro",
          "aro",
          "aro",
          "aro",
          "aro",
          "aro",
          "aro",
          "aro",
          "aro",
          "aro",
          "aro",
          "aro",
          "aro",
          "aro"
         ],
         "type": "scatter",
         "x": [
          29.83254206276659,
          30.442023382573396,
          29.868735919589593,
          29.45384862654972,
          30.02127556227653,
          29.48863805142796,
          22.959282884724374,
          23.453320257213086,
          23.20273853777197,
          30.231664160264714,
          21.589995526718575,
          18.591496864333934,
          29.372192587853633,
          29.6713022941636,
          20.26790690358028,
          29.566394019590216,
          29.522927904758717,
          25.309648619542614,
          15.672703655421465,
          29.761005102448838,
          25.637806098933446,
          23.740428136618124,
          26.74582905774423,
          28.970442145597335,
          27.02354996848932,
          30.40732989531511,
          29.360534082816287,
          22.54384490966655,
          21.272516810568934,
          20.55644993481497,
          29.085209945950012,
          25.58243543143099,
          29.793632227581142,
          10.18063927149163,
          22.803913483365985,
          27.289769883700167,
          27.75800327939213,
          23.810506526790792,
          29.397339956486704,
          28.366232352210822,
          23.121823320439937,
          29.089224703449275,
          30.305841490212913,
          23.832180694304306,
          12.56143054308581,
          28.82338515115556,
          24.39139823692373,
          24.94732273080825,
          29.50488999502807,
          29.775196578118653,
          20.078335595077245,
          18.86245705059189,
          29.030007510293597,
          29.178866423923214,
          29.417415371193297,
          28.998759571211718,
          16.546739444116536,
          22.80873834880782,
          26.628228758487335,
          28.598977500863455,
          25.81210174973594,
          29.618474371067265,
          24.12557717980736,
          25.163423445422236,
          17.97951784386124,
          16.508981285817885,
          20.64982030499449
         ],
         "xaxis": "x2",
         "y": [
          0.8731003600837036,
          0.006623167201125633,
          0.3025276187278686,
          0.4264832403054352,
          -0.44112028772519285,
          1.2382386266398626,
          -0.15097593469876833,
          -1.3213803361340122,
          -1.2544861558901874,
          -0.006420005323778792,
          -4.53470840421822,
          7.18741589529973,
          3.3199655910947783,
          0.20269890086823583,
          -5.231042377787592,
          0.5792986226666355,
          0.14031126366331034,
          -0.8699608287852397,
          15.536732190389147,
          -0.15802420064713524,
          1.5541776196527737,
          -2.8884515050338284,
          1.1155006168385186,
          0.9963361985599256,
          1.092753233152511,
          -0.010016342947211246,
          1.0961788536029626,
          -3.638450642917319,
          -4.632909898325081,
          -4.845415881885291,
          0.733793329955612,
          -0.9701259577899504,
          0.10345096472526184,
          10.019266692857121,
          0.7198369922229593,
          1.6684791307978715,
          1.088342435997055,
          0.5037399579246407,
          -0.19931555982252755,
          0.35893327896501825,
          -2.2251040194141765,
          -1.4564441538534156,
          0.3168326558961344,
          -0.5831725490698031,
          12.381696888848065,
          2.3854586111873153,
          -0.9753635321768722,
          -1.4278242071762082,
          0.3770458896406714,
          0.23693268564715825,
          5.547445009901601,
          -3.47192684302507,
          -0.41397132469429093,
          0.5328941566793706,
          -0.315133613974884,
          0.7392199956766157,
          5.269235728753345,
          -3.554839204299533,
          0.23345015521103002,
          1.5294494555087266,
          0.996374719726429,
          1.8543505993182936,
          2.4982263415217845,
          0.5189358603211985,
          3.588179734139372,
          2.0228462686979536,
          1.8113905936948016
         ],
         "yaxis": "y2"
        },
        {
         "marker": {
          "color": "darkcyan",
          "line": {
           "width": 0
          },
          "opacity": 0.8,
          "size": 6,
          "symbol": "circle"
         },
         "mode": "markers",
         "name": "4",
         "text": [
          "trop",
          "trop",
          "trop",
          "trop",
          "trop",
          "trop",
          "trop",
          "trop",
          "trop",
          "trop",
          "trop",
          "trop",
          "trop",
          "trop",
          "trop",
          "trop",
          "trop",
          "trop",
          "trop",
          "trop",
          "trop",
          "trop",
          "trop",
          "trop",
          "trop",
          "trop",
          "trop",
          "trop",
          "trop",
          "trop",
          "trop"
         ],
         "type": "scatter",
         "x": [
          -11.185620072777422,
          -0.09657493901013099,
          0.07351526159177998,
          -1.830985482385209,
          5.345651003161152,
          -10.751102624104172,
          2.380655516244341,
          -6.6068558054139075,
          -10.79791250144275,
          -9.345300440672162,
          -8.943845906149853,
          -12.443192740832233,
          -0.19828957009232226,
          -5.674396964445725,
          -11.292387715612236,
          -11.779165385133457,
          -9.140963837374116,
          -9.199179981867424,
          -5.02058227270001,
          -9.00876395740573,
          -9.408527064995058,
          -11.965683551219128,
          -9.681177226193878,
          -11.881352531653892,
          -9.442901784600103,
          -10.049027438672182,
          -10.855225568653,
          -9.64180828771715,
          -9.344651187365846,
          -8.898075395445007,
          -8.92792383897383
         ],
         "xaxis": "x2",
         "y": [
          13.199935310855292,
          26.214053398883394,
          26.120107364448373,
          16.83029501638069,
          6.861304756478577,
          13.121257434635515,
          25.03497760955483,
          15.52335319397355,
          12.750050684467979,
          14.074912187864578,
          13.787365543532925,
          12.021758280913216,
          25.817250256675738,
          14.76057683476509,
          13.368699091262876,
          11.769842685879132,
          14.143071703320478,
          14.09856013577864,
          20.05929021939161,
          12.754824961270751,
          14.935369799813685,
          12.621865240847994,
          13.74821172882788,
          11.441192980200851,
          15.092871379811864,
          14.288435152500353,
          12.706983957392543,
          14.914992026085473,
          14.083620035074805,
          14.362884322054914,
          12.865623471864739
         ],
         "yaxis": "y2"
        }
       ],
       "layout": {
        "annotations": [
         {
          "font": {
           "size": 16
          },
          "showarrow": false,
          "text": "global_pca",
          "x": 0.225,
          "xanchor": "center",
          "xref": "paper",
          "y": 1,
          "yanchor": "bottom",
          "yref": "paper"
         },
         {
          "font": {
           "size": 16
          },
          "showarrow": false,
          "text": "global_pca",
          "x": 0.775,
          "xanchor": "center",
          "xref": "paper",
          "y": 1,
          "yanchor": "bottom",
          "yref": "paper"
         }
        ],
        "height": 500,
        "template": {
         "data": {
          "bar": [
           {
            "error_x": {
             "color": "#2a3f5f"
            },
            "error_y": {
             "color": "#2a3f5f"
            },
            "marker": {
             "line": {
              "color": "#E5ECF6",
              "width": 0.5
             }
            },
            "type": "bar"
           }
          ],
          "barpolar": [
           {
            "marker": {
             "line": {
              "color": "#E5ECF6",
              "width": 0.5
             }
            },
            "type": "barpolar"
           }
          ],
          "carpet": [
           {
            "aaxis": {
             "endlinecolor": "#2a3f5f",
             "gridcolor": "white",
             "linecolor": "white",
             "minorgridcolor": "white",
             "startlinecolor": "#2a3f5f"
            },
            "baxis": {
             "endlinecolor": "#2a3f5f",
             "gridcolor": "white",
             "linecolor": "white",
             "minorgridcolor": "white",
             "startlinecolor": "#2a3f5f"
            },
            "type": "carpet"
           }
          ],
          "choropleth": [
           {
            "colorbar": {
             "outlinewidth": 0,
             "ticks": ""
            },
            "type": "choropleth"
           }
          ],
          "contour": [
           {
            "colorbar": {
             "outlinewidth": 0,
             "ticks": ""
            },
            "colorscale": [
             [
              0,
              "#0d0887"
             ],
             [
              0.1111111111111111,
              "#46039f"
             ],
             [
              0.2222222222222222,
              "#7201a8"
             ],
             [
              0.3333333333333333,
              "#9c179e"
             ],
             [
              0.4444444444444444,
              "#bd3786"
             ],
             [
              0.5555555555555556,
              "#d8576b"
             ],
             [
              0.6666666666666666,
              "#ed7953"
             ],
             [
              0.7777777777777778,
              "#fb9f3a"
             ],
             [
              0.8888888888888888,
              "#fdca26"
             ],
             [
              1,
              "#f0f921"
             ]
            ],
            "type": "contour"
           }
          ],
          "contourcarpet": [
           {
            "colorbar": {
             "outlinewidth": 0,
             "ticks": ""
            },
            "type": "contourcarpet"
           }
          ],
          "heatmap": [
           {
            "colorbar": {
             "outlinewidth": 0,
             "ticks": ""
            },
            "colorscale": [
             [
              0,
              "#0d0887"
             ],
             [
              0.1111111111111111,
              "#46039f"
             ],
             [
              0.2222222222222222,
              "#7201a8"
             ],
             [
              0.3333333333333333,
              "#9c179e"
             ],
             [
              0.4444444444444444,
              "#bd3786"
             ],
             [
              0.5555555555555556,
              "#d8576b"
             ],
             [
              0.6666666666666666,
              "#ed7953"
             ],
             [
              0.7777777777777778,
              "#fb9f3a"
             ],
             [
              0.8888888888888888,
              "#fdca26"
             ],
             [
              1,
              "#f0f921"
             ]
            ],
            "type": "heatmap"
           }
          ],
          "heatmapgl": [
           {
            "colorbar": {
             "outlinewidth": 0,
             "ticks": ""
            },
            "colorscale": [
             [
              0,
              "#0d0887"
             ],
             [
              0.1111111111111111,
              "#46039f"
             ],
             [
              0.2222222222222222,
              "#7201a8"
             ],
             [
              0.3333333333333333,
              "#9c179e"
             ],
             [
              0.4444444444444444,
              "#bd3786"
             ],
             [
              0.5555555555555556,
              "#d8576b"
             ],
             [
              0.6666666666666666,
              "#ed7953"
             ],
             [
              0.7777777777777778,
              "#fb9f3a"
             ],
             [
              0.8888888888888888,
              "#fdca26"
             ],
             [
              1,
              "#f0f921"
             ]
            ],
            "type": "heatmapgl"
           }
          ],
          "histogram": [
           {
            "marker": {
             "colorbar": {
              "outlinewidth": 0,
              "ticks": ""
             }
            },
            "type": "histogram"
           }
          ],
          "histogram2d": [
           {
            "colorbar": {
             "outlinewidth": 0,
             "ticks": ""
            },
            "colorscale": [
             [
              0,
              "#0d0887"
             ],
             [
              0.1111111111111111,
              "#46039f"
             ],
             [
              0.2222222222222222,
              "#7201a8"
             ],
             [
              0.3333333333333333,
              "#9c179e"
             ],
             [
              0.4444444444444444,
              "#bd3786"
             ],
             [
              0.5555555555555556,
              "#d8576b"
             ],
             [
              0.6666666666666666,
              "#ed7953"
             ],
             [
              0.7777777777777778,
              "#fb9f3a"
             ],
             [
              0.8888888888888888,
              "#fdca26"
             ],
             [
              1,
              "#f0f921"
             ]
            ],
            "type": "histogram2d"
           }
          ],
          "histogram2dcontour": [
           {
            "colorbar": {
             "outlinewidth": 0,
             "ticks": ""
            },
            "colorscale": [
             [
              0,
              "#0d0887"
             ],
             [
              0.1111111111111111,
              "#46039f"
             ],
             [
              0.2222222222222222,
              "#7201a8"
             ],
             [
              0.3333333333333333,
              "#9c179e"
             ],
             [
              0.4444444444444444,
              "#bd3786"
             ],
             [
              0.5555555555555556,
              "#d8576b"
             ],
             [
              0.6666666666666666,
              "#ed7953"
             ],
             [
              0.7777777777777778,
              "#fb9f3a"
             ],
             [
              0.8888888888888888,
              "#fdca26"
             ],
             [
              1,
              "#f0f921"
             ]
            ],
            "type": "histogram2dcontour"
           }
          ],
          "mesh3d": [
           {
            "colorbar": {
             "outlinewidth": 0,
             "ticks": ""
            },
            "type": "mesh3d"
           }
          ],
          "parcoords": [
           {
            "line": {
             "colorbar": {
              "outlinewidth": 0,
              "ticks": ""
             }
            },
            "type": "parcoords"
           }
          ],
          "pie": [
           {
            "automargin": true,
            "type": "pie"
           }
          ],
          "scatter": [
           {
            "marker": {
             "colorbar": {
              "outlinewidth": 0,
              "ticks": ""
             }
            },
            "type": "scatter"
           }
          ],
          "scatter3d": [
           {
            "line": {
             "colorbar": {
              "outlinewidth": 0,
              "ticks": ""
             }
            },
            "marker": {
             "colorbar": {
              "outlinewidth": 0,
              "ticks": ""
             }
            },
            "type": "scatter3d"
           }
          ],
          "scattercarpet": [
           {
            "marker": {
             "colorbar": {
              "outlinewidth": 0,
              "ticks": ""
             }
            },
            "type": "scattercarpet"
           }
          ],
          "scattergeo": [
           {
            "marker": {
             "colorbar": {
              "outlinewidth": 0,
              "ticks": ""
             }
            },
            "type": "scattergeo"
           }
          ],
          "scattergl": [
           {
            "marker": {
             "colorbar": {
              "outlinewidth": 0,
              "ticks": ""
             }
            },
            "type": "scattergl"
           }
          ],
          "scattermapbox": [
           {
            "marker": {
             "colorbar": {
              "outlinewidth": 0,
              "ticks": ""
             }
            },
            "type": "scattermapbox"
           }
          ],
          "scatterpolar": [
           {
            "marker": {
             "colorbar": {
              "outlinewidth": 0,
              "ticks": ""
             }
            },
            "type": "scatterpolar"
           }
          ],
          "scatterpolargl": [
           {
            "marker": {
             "colorbar": {
              "outlinewidth": 0,
              "ticks": ""
             }
            },
            "type": "scatterpolargl"
           }
          ],
          "scatterternary": [
           {
            "marker": {
             "colorbar": {
              "outlinewidth": 0,
              "ticks": ""
             }
            },
            "type": "scatterternary"
           }
          ],
          "surface": [
           {
            "colorbar": {
             "outlinewidth": 0,
             "ticks": ""
            },
            "colorscale": [
             [
              0,
              "#0d0887"
             ],
             [
              0.1111111111111111,
              "#46039f"
             ],
             [
              0.2222222222222222,
              "#7201a8"
             ],
             [
              0.3333333333333333,
              "#9c179e"
             ],
             [
              0.4444444444444444,
              "#bd3786"
             ],
             [
              0.5555555555555556,
              "#d8576b"
             ],
             [
              0.6666666666666666,
              "#ed7953"
             ],
             [
              0.7777777777777778,
              "#fb9f3a"
             ],
             [
              0.8888888888888888,
              "#fdca26"
             ],
             [
              1,
              "#f0f921"
             ]
            ],
            "type": "surface"
           }
          ],
          "table": [
           {
            "cells": {
             "fill": {
              "color": "#EBF0F8"
             },
             "line": {
              "color": "white"
             }
            },
            "header": {
             "fill": {
              "color": "#C8D4E3"
             },
             "line": {
              "color": "white"
             }
            },
            "type": "table"
           }
          ]
         },
         "layout": {
          "annotationdefaults": {
           "arrowcolor": "#2a3f5f",
           "arrowhead": 0,
           "arrowwidth": 1
          },
          "coloraxis": {
           "colorbar": {
            "outlinewidth": 0,
            "ticks": ""
           }
          },
          "colorscale": {
           "diverging": [
            [
             0,
             "#8e0152"
            ],
            [
             0.1,
             "#c51b7d"
            ],
            [
             0.2,
             "#de77ae"
            ],
            [
             0.3,
             "#f1b6da"
            ],
            [
             0.4,
             "#fde0ef"
            ],
            [
             0.5,
             "#f7f7f7"
            ],
            [
             0.6,
             "#e6f5d0"
            ],
            [
             0.7,
             "#b8e186"
            ],
            [
             0.8,
             "#7fbc41"
            ],
            [
             0.9,
             "#4d9221"
            ],
            [
             1,
             "#276419"
            ]
           ],
           "sequential": [
            [
             0,
             "#0d0887"
            ],
            [
             0.1111111111111111,
             "#46039f"
            ],
            [
             0.2222222222222222,
             "#7201a8"
            ],
            [
             0.3333333333333333,
             "#9c179e"
            ],
            [
             0.4444444444444444,
             "#bd3786"
            ],
            [
             0.5555555555555556,
             "#d8576b"
            ],
            [
             0.6666666666666666,
             "#ed7953"
            ],
            [
             0.7777777777777778,
             "#fb9f3a"
            ],
            [
             0.8888888888888888,
             "#fdca26"
            ],
            [
             1,
             "#f0f921"
            ]
           ],
           "sequentialminus": [
            [
             0,
             "#0d0887"
            ],
            [
             0.1111111111111111,
             "#46039f"
            ],
            [
             0.2222222222222222,
             "#7201a8"
            ],
            [
             0.3333333333333333,
             "#9c179e"
            ],
            [
             0.4444444444444444,
             "#bd3786"
            ],
            [
             0.5555555555555556,
             "#d8576b"
            ],
            [
             0.6666666666666666,
             "#ed7953"
            ],
            [
             0.7777777777777778,
             "#fb9f3a"
            ],
            [
             0.8888888888888888,
             "#fdca26"
            ],
            [
             1,
             "#f0f921"
            ]
           ]
          },
          "colorway": [
           "#636efa",
           "#EF553B",
           "#00cc96",
           "#ab63fa",
           "#FFA15A",
           "#19d3f3",
           "#FF6692",
           "#B6E880",
           "#FF97FF",
           "#FECB52"
          ],
          "font": {
           "color": "#2a3f5f"
          },
          "geo": {
           "bgcolor": "white",
           "lakecolor": "white",
           "landcolor": "#E5ECF6",
           "showlakes": true,
           "showland": true,
           "subunitcolor": "white"
          },
          "hoverlabel": {
           "align": "left"
          },
          "hovermode": "closest",
          "mapbox": {
           "style": "light"
          },
          "paper_bgcolor": "white",
          "plot_bgcolor": "#E5ECF6",
          "polar": {
           "angularaxis": {
            "gridcolor": "white",
            "linecolor": "white",
            "ticks": ""
           },
           "bgcolor": "#E5ECF6",
           "radialaxis": {
            "gridcolor": "white",
            "linecolor": "white",
            "ticks": ""
           }
          },
          "scene": {
           "xaxis": {
            "backgroundcolor": "#E5ECF6",
            "gridcolor": "white",
            "gridwidth": 2,
            "linecolor": "white",
            "showbackground": true,
            "ticks": "",
            "zerolinecolor": "white"
           },
           "yaxis": {
            "backgroundcolor": "#E5ECF6",
            "gridcolor": "white",
            "gridwidth": 2,
            "linecolor": "white",
            "showbackground": true,
            "ticks": "",
            "zerolinecolor": "white"
           },
           "zaxis": {
            "backgroundcolor": "#E5ECF6",
            "gridcolor": "white",
            "gridwidth": 2,
            "linecolor": "white",
            "showbackground": true,
            "ticks": "",
            "zerolinecolor": "white"
           }
          },
          "shapedefaults": {
           "line": {
            "color": "#2a3f5f"
           }
          },
          "ternary": {
           "aaxis": {
            "gridcolor": "white",
            "linecolor": "white",
            "ticks": ""
           },
           "baxis": {
            "gridcolor": "white",
            "linecolor": "white",
            "ticks": ""
           },
           "bgcolor": "#E5ECF6",
           "caxis": {
            "gridcolor": "white",
            "linecolor": "white",
            "ticks": ""
           }
          },
          "title": {
           "x": 0.05
          },
          "xaxis": {
           "automargin": true,
           "gridcolor": "white",
           "linecolor": "white",
           "ticks": "",
           "title": {
            "standoff": 15
           },
           "zerolinecolor": "white",
           "zerolinewidth": 2
          },
          "yaxis": {
           "automargin": true,
           "gridcolor": "white",
           "linecolor": "white",
           "ticks": "",
           "title": {
            "standoff": 15
           },
           "zerolinecolor": "white",
           "zerolinewidth": 2
          }
         }
        },
        "width": 950,
        "xaxis": {
         "anchor": "y",
         "domain": [
          0,
          0.45
         ],
         "title": {
          "text": "PC1"
         }
        },
        "xaxis2": {
         "anchor": "y2",
         "domain": [
          0.55,
          1
         ],
         "title": {
          "text": "PC1"
         }
        },
        "yaxis": {
         "anchor": "x",
         "domain": [
          0,
          1
         ],
         "title": {
          "text": "PC2"
         }
        },
        "yaxis2": {
         "anchor": "x2",
         "domain": [
          0,
          1
         ],
         "title": {
          "text": "PC3"
         }
        }
       }
      },
      "text/html": [
       "<div>\n",
       "        \n",
       "        \n",
       "            <div id=\"2ac39b8f-5a62-48ce-801f-99c000cc5d5b\" class=\"plotly-graph-div\" style=\"height:500px; width:950px;\"></div>\n",
       "            <script type=\"text/javascript\">\n",
       "                require([\"plotly\"], function(Plotly) {\n",
       "                    window.PLOTLYENV=window.PLOTLYENV || {};\n",
       "                    \n",
       "                if (document.getElementById(\"2ac39b8f-5a62-48ce-801f-99c000cc5d5b\")) {\n",
       "                    Plotly.newPlot(\n",
       "                        '2ac39b8f-5a62-48ce-801f-99c000cc5d5b',\n",
       "                        [{\"marker\": {\"color\": \"darkseagreen\", \"line\": {\"width\": 0}, \"opacity\": 0.8, \"size\": 6, \"symbol\": \"circle\"}, \"mode\": \"markers\", \"name\": \"0\", \"text\": [\"temp\", \"temp\", \"temp\", \"temp\", \"temp\", \"temp\", \"temp\", \"temp\", \"temp\", \"temp\", \"temp\", \"temp\", \"temp\", \"temp\", \"temp\", \"temp\", \"temp\", \"temp\", \"temp\", \"temp\", \"temp\", \"temp\", \"subtrop\", \"temp\", \"temp\", \"temp\", \"temp\", \"temp\", \"temp\", \"temp\", \"temp\", \"temp\", \"temp\", \"temp\", \"temp\", \"temp\", \"temp\", \"temp\", \"temp\", \"temp\", \"temp\", \"subtrop\", \"temp\", \"temp\", \"temp\", \"temp\", \"temp\", \"temp\", \"temp\", \"temp\", \"temp\", \"temp\", \"temp\", \"temp\", \"temp\", \"temp\", \"temp\", \"temp\", \"temp\", \"temp\", \"temp\", \"temp\", \"temp\", \"temp\", \"temp\", \"temp\", \"temp\", \"temp\", \"temp\", \"temp\", \"temp\", \"temp\", \"temp\", \"temp\", \"temp\", \"temp\", \"temp\", \"temp\", \"temp\", \"temp\", \"temp\", \"temp\", \"temp\", \"temp\", \"temp\", \"temp\", \"temp\", \"temp\", \"temp\", \"temp\", \"temp\", \"temp\", \"temp\", \"temp\", \"temp\", \"temp\", \"temp\", \"temp\", \"temp\", \"temp\", \"temp\", \"temp\", \"temp\", \"temp\", \"temp\", \"temp\", \"temp\", \"temp\", \"temp\", \"temp\", \"temp\", \"temp\", \"temp\", \"temp\", \"temp\", \"temp\", \"temp\"], \"type\": \"scatter\", \"x\": [-7.219715976717342, -3.6387817104853326, -3.554961471343668, -14.089313471904715, -12.971494747348816, -17.751584277757946, -17.28485918769023, -15.133835336237377, -16.69474205401462, -17.267153203185682, -15.701199931800941, -14.6051015817956, -8.486702441165995, -15.69337334720742, -15.844280689088688, -12.6819814852018, -10.880625108710266, -11.81980399100704, -6.876191916340542, -12.459473727951798, -13.08125846553181, -15.78462748943745, -13.585067355856067, -13.39478246814693, -17.244906907868884, -11.757992340657962, -14.712538105914293, -16.562860637985267, -14.671862308791859, -17.016634376160045, -17.05137969735287, -14.743063573300415, -7.3452942768797405, -16.280454058797336, -15.628531947935398, -8.374489303794928, -8.140307280824185, -13.556250726728782, -15.977806759481032, -16.029336561254034, -15.241625436003295, -12.754086104619251, -14.488990300564877, -13.250216156689486, -17.21323156734888, -16.527016684043016, -17.398524252076562, -16.189946423973193, -14.390824491426569, -15.582982748701308, -13.885824694830626, -15.929839870558055, -11.721147915110535, -17.446463881248707, -17.035746574607543, -16.25106004136075, -13.823970413515735, -16.18714361319663, -16.92910082950602, -14.020796878660175, -13.631179715434023, -15.838155101684949, -16.182492041459863, -14.206686044739183, -16.726515390618626, -15.727078004595695, -16.121300506979043, -14.072130290730145, -13.952628327411517, -17.08153930745506, -16.473831202586272, -16.10468079294439, -15.505535014253791, -15.846442357019349, -16.36171733479431, -15.29992225958586, -8.08814080594574, -15.922581240612466, -17.271396545305826, -6.620710551285904, -15.11911083985225, -14.26704662759239, -15.778707148850614, -15.28599381669864, -16.144803330411175, -17.005536856475473, -17.34355071143359, -17.37391967517205, -16.142326207978037, -16.060781273661256, -14.134065950478684, -15.982389144754618, -16.6970223415262, -13.56462698890991, -16.674271861143325, -15.522985400056166, -16.082815197464218, -9.963193349993158, -16.422031899440412, -12.807592163484511, -14.648193315096625, -16.73709150771916, -16.766993503200847, -8.70000526407635, -17.31234130712905, -15.779087759922946, -16.86121892589926, -16.04906677490259, -15.16274889441264, -16.75888290196492, -14.904180090678164, -13.578052411379906, -15.137401066229595, -11.949398314300389, -14.451689081110699, -16.24483475685757, -16.489296368129352], \"xaxis\": \"x\", \"y\": [7.65818225256439, 7.158866362787942, 8.209074673407851, 9.28972429040487, 9.594825716061512, 10.183168300164764, 9.53111975111354, 9.541790510785336, 8.867309684474856, 9.762269254530402, 9.615756767602127, 8.121531155057033, 4.2288452978436135, 9.82316737400961, 9.203896106861007, 8.631929674330191, 5.449275450034743, 7.570923679014675, 2.8586189815755683, 7.346539486002802, 7.855861561065432, 10.079929742397665, 3.232249587288526, 9.296522903431326, 9.567647931964824, 8.468428229910339, 9.114226030915141, 9.564480423735802, 8.624875114035097, 9.096926995337798, 9.496617701020176, 8.94414097208835, 5.242513911674069, 9.42387860161382, 9.386464653800658, 2.0436319527792244, 3.4502793318580123, 8.453857627570432, 9.670807333632997, 9.872049838284367, 9.19693493806222, 6.359011439842723, 9.608483299299213, 8.836698909983285, 9.397264607899244, 9.37388923630192, 9.845197133774889, 9.902043762359732, 9.52410814942731, 9.402153760408495, 8.978761314166226, 9.851540076604861, 4.548245026471541, 10.176221497621135, 6.587438954002125, 9.04421172018559, 9.234790454729652, 8.87587663674974, 9.564911649462017, 9.181348323627734, 7.936245963757793, 9.534331670490873, 9.367466031322547, 9.79909160756268, 5.387364905888142, 10.203422142573578, 8.782666395986634, 9.270702396147378, 9.357144996561031, 10.105039161322106, 9.36451292089873, 9.872892379276449, 9.098677900205601, 8.888510757956048, 9.52005723790292, 8.907058722223548, 2.521174594465822, 9.922411439110558, 9.68583205036215, 1.8227369947209535, 9.147610915725684, 9.375145562997515, 9.030045776635317, 9.462641284974758, 10.098333713942376, 9.76481980565162, 9.735003392631159, 10.121418080600675, 9.935018441098743, 9.884233691967658, 8.249213648614807, 9.583833181772965, 9.011922981538396, 7.7302863248999545, 8.872694347188151, 9.075163058054462, 9.59443303249211, 5.534887440118671, 10.132628011416276, 6.8041816112896765, 8.714020316757123, 6.367724376218826, 7.510837711892805, 0.39498819617915926, 10.121676957438517, 9.731442837113958, 9.885991583358303, 9.614825729920677, 8.932727554887625, 9.798687356104576, 8.6675457843408, 8.140776824201083, 8.650659887185535, 7.9138011205968235, 8.10381097849315, 9.379050344517227, 9.97538523613507], \"yaxis\": \"y\"}, {\"marker\": {\"color\": \"crimson\", \"line\": {\"width\": 0}, \"opacity\": 0.8, \"size\": 6, \"symbol\": \"circle\"}, \"mode\": \"markers\", \"name\": \"1\", \"text\": [\"trop\", \"trop\", \"trop\", \"trop\", \"subtrop\", \"trop\", \"trop\", \"trop\", \"trop\", \"subtrop\", \"trop\", \"subtrop\", \"subtrop\", \"subtrop\", \"trop\", \"trop\", \"subtrop\", \"trop\", \"trop\", \"trop\", \"trop\", \"trop\", \"trop\", \"trop\", \"trop\", \"trop\", \"trop\", \"trop\", \"trop\", \"trop\", \"subtrop\", \"subtrop\", \"trop\", \"trop\", \"trop\", \"trop\", \"trop\", \"trop\", \"subtrop\", \"subtrop\", \"subtrop\", \"subtrop\", \"subtrop\", \"subtrop\", \"subtrop\", \"trop\", \"trop\", \"trop\", \"subtrop\", \"subtrop\", \"subtrop\", \"trop\", \"trop\", \"trop\", \"trop\", \"subtrop\", \"subtrop\", \"subtrop\", \"subtrop\", \"trop\", \"subtrop\", \"subtrop\", \"subtrop\", \"subtrop\", \"subtrop\", \"trop\", \"trop\", \"trop\", \"subtrop\", \"subtrop\", \"subtrop\", \"subtrop\", \"subtrop\", \"subtrop\", \"subtrop\", \"subtrop\", \"subtrop\", \"subtrop\", \"subtrop\", \"subtrop\", \"subtrop\", \"subtrop\", \"subtrop\", \"subtrop\", \"subtrop\", \"subtrop\", \"subtrop\", \"subtrop\", \"subtrop\", \"subtrop\", \"subtrop\", \"subtrop\", \"subtrop\", \"subtrop\", \"subtrop\", \"subtrop\", \"subtrop\", \"subtrop\", \"subtrop\", \"subtrop\"], \"type\": \"scatter\", \"x\": [9.3462557594137, 4.427097706619372, 5.207649389633806, 4.675585445712754, 1.6603644508085031, 8.461875379369435, 9.040809488401713, 7.188572974226337, 4.960451153738537, 0.5267954583763694, 6.066316217091196, 3.5139000979999713, 1.3557365770025107, 5.185878435977534, 8.306128323971619, 7.95664142180746, 5.479892529890413, 6.958103552436612, 7.041057000529393, 6.168670019699006, 5.218976746252051, 5.318674683982303, 6.115919410549683, 4.522830339656083, 5.2690991735092, 6.073142807892717, 4.916087013754213, 6.406576194641487, 3.551831523112663, 6.107533028938782, 7.757176511673717, 4.748790081545983, 3.6583749214612227, 6.770000823075216, 6.9519052027434105, 8.730622762598344, 6.744653172048368, 8.428056998280297, 2.3703838100184416, 4.222829598469046, 8.112662605590705, 2.717093608293604, 8.016613176019558, 4.514864526224657, 2.876675779496726, 7.213282722677776, 7.1817744640217045, 8.051676119250324, 1.1301096212216686, 4.057418634974967, 5.4799733937860395, 7.9848123729276335, 6.077501380540532, 1.789726297201507, 4.658548172261784, 2.280883144310179, 4.954675513442638, 5.1254030640291335, 6.192460565619125, 4.893505228329599, 4.53683030997769, 4.620465768655818, 2.2547348732712242, 2.9362522495139234, 3.2352527243736615, 5.9362801991445915, 3.930826986489878, 6.640175178517943, 1.9545092765235252, 7.35326949782801, 6.273129165701744, 2.8953537926766897, 0.38466466041073893, 4.357308288849394, 1.5845008552302469, 3.4317469882917013, 6.3920082020885, 1.5104403945292504, 1.6900987100391345, 2.7110446646540596, 2.0762053885502207, 5.322222028636392, 1.8699502107700379, 2.518860688709711, 4.347019889166587, 3.962399850667009, 1.5204517348377116, 3.276146120969784, 3.270563261501802, 5.234030845844233, 3.0103394003821853, 1.8748401456066048, 4.736903480226136, 0.8833111414560036, 2.734970602420224, 2.9012679025522834, 4.630382074567644, 2.4352008619606065, 5.103711448069216, 0.6402065053152147], \"xaxis\": \"x\", \"y\": [-5.1278635598391, -14.404636924625569, -8.548964158233556, -11.87190455851508, -9.457441598540173, -15.733956285761092, -14.608057886621694, -14.02807546184788, -11.763348211168907, -10.38723116214423, -13.960143126617808, -12.87731663798744, -8.988066461209979, -15.381731068440518, -12.987171401510995, -13.559356353811001, -15.497701565119694, -14.696041292275117, -8.03686266974378, -16.65040251496124, -12.642582558179265, -12.642063734295293, -13.44384522557563, -11.878211572305203, -12.785647018058855, -13.531245388735407, -12.369707492258275, -14.716575239178344, -11.836390346729685, -13.695074108777677, -16.239714149742685, -12.603585983485516, -12.183740906467618, -10.921106676174137, -14.272724139546742, -17.5611302005424, -17.49559253792442, -15.024399960901082, -10.221455753667941, -7.554545887669764, -9.282652831943393, -11.080734882097978, -11.502418690338237, -10.423010948126434, -10.12774500566954, -15.313126147796675, -13.755012083327992, -15.330561100007085, -10.988840393747997, -13.198730413689717, -14.880822848145739, -15.46958433292677, -14.006751995832227, -11.575088753383405, -14.804206505942359, -13.410796874484484, -15.782123950868394, -15.286231653794575, -14.121448959688639, -12.859807124144554, -12.531435973174007, -11.333619168255552, -9.801143387495777, -13.439649841232953, -8.872615534942824, -11.248489203627873, -13.08280077104205, -13.953775831149052, -12.556379240427018, -14.975989914222916, -16.086835589716394, -12.951448630396442, -12.527253090114504, -13.513160506154131, -12.803553302012899, -14.330202107769308, -16.081681741586713, -12.44690079618643, -12.59536071949902, -12.53206428641713, -8.112164512589343, -14.612652025847886, -13.032286352479352, -9.875472376062099, -13.630364648880663, -16.486654734331445, -9.95669787721698, -12.233266483809697, -9.759243582198748, -16.86588277342419, -13.324113036293442, -14.327560573381692, -12.298199635669143, -13.635838289121393, -14.305867800952004, -16.891304197894556, -10.570538347866993, -14.074560396108355, -10.015278406431026, -12.269162157177284], \"yaxis\": \"y\"}, {\"marker\": {\"color\": \"darkorange\", \"line\": {\"width\": 0}, \"opacity\": 0.8, \"size\": 6, \"symbol\": \"circle\"}, \"mode\": \"markers\", \"name\": \"2\", \"text\": [\"aro\", \"temp\", \"temp\", \"trop\", \"trop\", \"aro\", \"subtrop\", \"trop\", \"trop\", \"trop\", \"trop\", \"trop\", \"subtrop\", \"subtrop\", \"subtrop\", \"trop\", \"subtrop\", \"subtrop\", \"subtrop\", \"trop\", \"subtrop\", \"subtrop\", \"trop\", \"trop\", \"subtrop\", \"trop\", \"trop\", \"trop\", \"trop\", \"trop\", \"trop\", \"trop\", \"subtrop\", \"subtrop\", \"subtrop\", \"subtrop\", \"subtrop\", \"subtrop\", \"subtrop\", \"subtrop\", \"trop\", \"trop\", \"trop\", \"trop\", \"trop\", \"trop\", \"trop\", \"trop\", \"trop\", \"trop\", \"trop\", \"subtrop\", \"trop\", \"subtrop\", \"trop\", \"subtrop\", \"trop\", \"trop\", \"trop\", \"trop\", \"trop\", \"trop\", \"temp\", \"trop\", \"trop\", \"trop\", \"trop\", \"trop\", \"trop\", \"subtrop\"], \"type\": \"scatter\", \"x\": [4.731928722135905, -2.6837960691849747, -6.484818036901399, 0.26278243974513277, -2.6251824216117985, -1.167772765622443, -3.523278312057323, -3.6344043217532884, -4.419460697834921, -3.4574805172434306, -3.388205145812324, -4.488544787968396, -7.184860568454486, -6.785942773698581, -4.104694467492011, -0.6829849246833715, -5.226929002528948, -5.835213197829934, -5.755695721294264, -0.7251444544077874, -1.0315703690284725, -6.912760181429894, -4.464801586638841, -0.9851871639261334, -5.843404966749323, 1.4042903564361802, -1.090701260509653, -0.6804836327757721, -2.544529550208267, -4.671327465584246, -2.9576542318923953, -3.0137163708634986, -4.632102071474819, -4.201532838352841, -4.626156181350263, -0.31137837998430307, -5.3961677384967555, -4.545875445428664, -3.0378257766145063, 0.026527527075890792, -1.0354041119783204, -3.581580810146217, -2.848593622827212, -5.845587236165073, -3.4419407158148805, -5.264299379317666, -2.6795903085650528, -0.9645458757397529, -0.6883622306236903, -3.9066890936188985, -3.4201741046432357, -2.2355049229227992, -5.4622969563746135, -5.881304685794937, -3.7904341075094767, -6.087985113324072, -3.5540796024010466, -6.169507432063719, -5.685269827506271, -5.44197467527993, -0.5167652453875063, -5.1589433550067465, -8.626017943202992, 0.2891450918133028, -4.576373059495902, -1.416208330190708, -4.73206115859954, -3.966547083580456, 0.7193420434910976, -3.5856189289330658], \"xaxis\": \"x\", \"y\": [7.6229000500547714, 6.753093169967134, 3.7589448351828083, -3.6433869711428235, -7.613345812823183, 2.1785488667746153, -3.4889267323095963, -10.46592372113316, -9.411787627050808, -5.5454449413855915, -10.718785788397936, -11.751182927357057, -1.408996430570749, -2.842279138189398, -2.750062898746374, -10.19255436625439, -0.46086400549978374, -1.7033947649483427, -1.730736339099857, -10.526689551035208, -6.2687727196030645, -1.1666072263592122, -6.053129972735198, -10.270915932290682, -3.3333857869849375, -7.045823014670481, -12.361686759401618, -10.62473173035544, -9.57659697490282, -10.461348616324603, -8.473409910508083, -8.901745179718347, -4.736934820231943, -3.261722254153834, -3.3187441215742854, -8.168939992862516, -3.00148930299619, -5.3223950068105115, -7.03724495414356, -10.925642023357824, -11.1127868740955, -10.928473738647579, -9.828141074836456, -6.569493856841097, -7.443065873758185, -8.377407285193588, -7.295290205433963, -9.736555505785265, -9.186351429115515, -8.073329064453874, -8.594129961503457, -7.128103292211621, -8.899322601915893, -8.36191833129917, -10.368425251289905, -1.9890282540313164, -9.442489181959415, -4.118470042884338, -6.454116726913198, -6.885388917046769, -14.994868931171142, -10.83235736380219, 0.9216587498674431, -12.544286032138075, -7.006879762585207, -10.577498872825212, -6.247217623309079, -9.03371795881322, -11.117154956879078, -8.362733359370816], \"yaxis\": \"y\"}, {\"marker\": {\"color\": \"darkblue\", \"line\": {\"width\": 0}, \"opacity\": 0.8, \"size\": 6, \"symbol\": \"circle\"}, \"mode\": \"markers\", \"name\": \"3\", \"text\": [\"aro\", \"aro\", \"aro\", \"aro\", \"aro\", \"aro\", \"aro\", \"aro\", \"aro\", \"aro\", \"aro\", \"aro\", \"aro\", \"aro\", \"aro\", \"aro\", \"aro\", \"aro\", \"aro\", \"aro\", \"aro\", \"aro\", \"aro\", \"aro\", \"aro\", \"aro\", \"aro\", \"aro\", \"aro\", \"aro\", \"aro\", \"aro\", \"aro\", \"aro\", \"aro\", \"aro\", \"aro\", \"aro\", \"aro\", \"aro\", \"aro\", \"aro\", \"aro\", \"aro\", \"aro\", \"aro\", \"aro\", \"aro\", \"aro\", \"aro\", \"aro\", \"aro\", \"aro\", \"aro\", \"aro\", \"aro\", \"aro\", \"aro\", \"aro\", \"aro\", \"aro\", \"aro\", \"aro\", \"aro\", \"aro\", \"aro\", \"aro\"], \"type\": \"scatter\", \"x\": [29.83254206276659, 30.442023382573396, 29.868735919589593, 29.45384862654972, 30.02127556227653, 29.48863805142796, 22.959282884724374, 23.453320257213086, 23.20273853777197, 30.231664160264714, 21.589995526718575, 18.591496864333934, 29.372192587853633, 29.6713022941636, 20.26790690358028, 29.566394019590216, 29.522927904758717, 25.309648619542614, 15.672703655421465, 29.761005102448838, 25.637806098933446, 23.740428136618124, 26.74582905774423, 28.970442145597335, 27.02354996848932, 30.40732989531511, 29.360534082816287, 22.54384490966655, 21.272516810568934, 20.55644993481497, 29.085209945950012, 25.58243543143099, 29.793632227581142, 10.18063927149163, 22.803913483365985, 27.289769883700167, 27.75800327939213, 23.810506526790792, 29.397339956486704, 28.366232352210822, 23.121823320439937, 29.089224703449275, 30.305841490212913, 23.832180694304306, 12.56143054308581, 28.82338515115556, 24.39139823692373, 24.94732273080825, 29.50488999502807, 29.775196578118653, 20.078335595077245, 18.86245705059189, 29.030007510293597, 29.178866423923214, 29.417415371193297, 28.998759571211718, 16.546739444116536, 22.80873834880782, 26.628228758487335, 28.598977500863455, 25.81210174973594, 29.618474371067265, 24.12557717980736, 25.163423445422236, 17.97951784386124, 16.508981285817885, 20.64982030499449], \"xaxis\": \"x\", \"y\": [14.539614225408126, 14.568235084974548, 14.233022841464354, 13.877898176665465, 14.201004765370332, 14.041035984565344, 8.104127443570802, 7.735891006227638, 7.657213263617597, 14.438973742667244, 8.12984345933145, 18.679283814676243, 11.223043263616495, 13.890928330529437, 6.649227259982615, 13.38169665128714, 14.34535540053533, 10.675645023930484, 9.73140913525201, 14.017842286654131, 7.624357606317632, 10.651960579718056, 9.815575835586895, 13.737543564189712, 9.66844900479122, 14.527897514259857, 13.214503294348118, 8.131472662982226, 8.528687914561413, 7.615306001829218, 13.915933723901542, 11.53651524373793, 14.346725720044814, 12.359795687633058, 8.263171944059492, 11.342855381928462, 12.395718590199102, 7.105749311708, 14.107410354440493, 13.597553627381949, 11.625175994749934, 14.614383218395398, 14.61782889746833, 8.87835958702676, 11.330211337207832, 11.18814258947965, 10.392469608268629, 10.754787421239648, 14.368584573568059, 14.312461664214696, 11.922070293443305, 7.853532881478613, 13.675160921761234, 14.14734471017577, 13.947337326277978, 14.115973111256611, 8.82015520518911, 10.728429931675835, 10.623751789295945, 13.826442225663918, 11.24799244639863, 12.428856766249838, 6.624424076798187, 9.262858923022018, 9.225332567594716, 5.299674247986757, 8.778345349620245], \"yaxis\": \"y\"}, {\"marker\": {\"color\": \"darkcyan\", \"line\": {\"width\": 0}, \"opacity\": 0.8, \"size\": 6, \"symbol\": \"circle\"}, \"mode\": \"markers\", \"name\": \"4\", \"text\": [\"trop\", \"trop\", \"trop\", \"trop\", \"trop\", \"trop\", \"trop\", \"trop\", \"trop\", \"trop\", \"trop\", \"trop\", \"trop\", \"trop\", \"trop\", \"trop\", \"trop\", \"trop\", \"trop\", \"trop\", \"trop\", \"trop\", \"trop\", \"trop\", \"trop\", \"trop\", \"trop\", \"trop\", \"trop\", \"trop\", \"trop\"], \"type\": \"scatter\", \"x\": [-11.185620072777422, -0.09657493901013099, 0.07351526159177998, -1.830985482385209, 5.345651003161152, -10.751102624104172, 2.380655516244341, -6.6068558054139075, -10.79791250144275, -9.345300440672162, -8.943845906149853, -12.443192740832233, -0.19828957009232226, -5.674396964445725, -11.292387715612236, -11.779165385133457, -9.140963837374116, -9.199179981867424, -5.02058227270001, -9.00876395740573, -9.408527064995058, -11.965683551219128, -9.681177226193878, -11.881352531653892, -9.442901784600103, -10.049027438672182, -10.855225568653, -9.64180828771715, -9.344651187365846, -8.898075395445007, -8.92792383897383], \"xaxis\": \"x\", \"y\": [2.0096939035036687, -7.080710591639284, -7.113917436939429, -3.6670345732624274, -10.362243192512805, 2.4242847681515696, -6.471344750737682, 1.3567200880224994, 1.265430854980643, 2.1447469924546962, 1.4648101793525685, 2.4870329593167817, -6.2978496809437905, 2.298044966978451, 1.7183062208556368, 3.083649696615413, 1.6943267916232718, 2.3385758421928275, -5.7481983726322925, 1.510016643837534, -0.26458058573856774, 1.714069917813548, 1.9710125688011053, -0.19617975028027507, -0.4458424298967839, -0.1910541514952643, 2.4996008072587816, -0.3471130892253177, 2.29407368221753, 2.369499710111119, 1.0737262425630762], \"yaxis\": \"y\"}, {\"marker\": {\"color\": \"darkseagreen\", \"line\": {\"width\": 0}, \"opacity\": 0.8, \"size\": 6, \"symbol\": \"circle\"}, \"mode\": \"markers\", \"name\": \"0\", \"text\": [\"temp\", \"temp\", \"temp\", \"temp\", \"temp\", \"temp\", \"temp\", \"temp\", \"temp\", \"temp\", \"temp\", \"temp\", \"temp\", \"temp\", \"temp\", \"temp\", \"temp\", \"temp\", \"temp\", \"temp\", \"temp\", \"temp\", \"subtrop\", \"temp\", \"temp\", \"temp\", \"temp\", \"temp\", \"temp\", \"temp\", \"temp\", \"temp\", \"temp\", \"temp\", \"temp\", \"temp\", \"temp\", \"temp\", \"temp\", \"temp\", \"temp\", \"subtrop\", \"temp\", \"temp\", \"temp\", \"temp\", \"temp\", \"temp\", \"temp\", \"temp\", \"temp\", \"temp\", \"temp\", \"temp\", \"temp\", \"temp\", \"temp\", \"temp\", \"temp\", \"temp\", \"temp\", \"temp\", \"temp\", \"temp\", \"temp\", \"temp\", \"temp\", \"temp\", \"temp\", \"temp\", \"temp\", \"temp\", \"temp\", \"temp\", \"temp\", \"temp\", \"temp\", \"temp\", \"temp\", \"temp\", \"temp\", \"temp\", \"temp\", \"temp\", \"temp\", \"temp\", \"temp\", \"temp\", \"temp\", \"temp\", \"temp\", \"temp\", \"temp\", \"temp\", \"temp\", \"temp\", \"temp\", \"temp\", \"temp\", \"temp\", \"temp\", \"temp\", \"temp\", \"temp\", \"temp\", \"temp\", \"temp\", \"temp\", \"temp\", \"temp\", \"temp\", \"temp\", \"temp\", \"temp\", \"temp\", \"temp\", \"temp\"], \"type\": \"scatter\", \"x\": [-7.219715976717342, -3.6387817104853326, -3.554961471343668, -14.089313471904715, -12.971494747348816, -17.751584277757946, -17.28485918769023, -15.133835336237377, -16.69474205401462, -17.267153203185682, -15.701199931800941, -14.6051015817956, -8.486702441165995, -15.69337334720742, -15.844280689088688, -12.6819814852018, -10.880625108710266, -11.81980399100704, -6.876191916340542, -12.459473727951798, -13.08125846553181, -15.78462748943745, -13.585067355856067, -13.39478246814693, -17.244906907868884, -11.757992340657962, -14.712538105914293, -16.562860637985267, -14.671862308791859, -17.016634376160045, -17.05137969735287, -14.743063573300415, -7.3452942768797405, -16.280454058797336, -15.628531947935398, -8.374489303794928, -8.140307280824185, -13.556250726728782, -15.977806759481032, -16.029336561254034, -15.241625436003295, -12.754086104619251, -14.488990300564877, -13.250216156689486, -17.21323156734888, -16.527016684043016, -17.398524252076562, -16.189946423973193, -14.390824491426569, -15.582982748701308, -13.885824694830626, -15.929839870558055, -11.721147915110535, -17.446463881248707, -17.035746574607543, -16.25106004136075, -13.823970413515735, -16.18714361319663, -16.92910082950602, -14.020796878660175, -13.631179715434023, -15.838155101684949, -16.182492041459863, -14.206686044739183, -16.726515390618626, -15.727078004595695, -16.121300506979043, -14.072130290730145, -13.952628327411517, -17.08153930745506, -16.473831202586272, -16.10468079294439, -15.505535014253791, -15.846442357019349, -16.36171733479431, -15.29992225958586, -8.08814080594574, -15.922581240612466, -17.271396545305826, -6.620710551285904, -15.11911083985225, -14.26704662759239, -15.778707148850614, -15.28599381669864, -16.144803330411175, -17.005536856475473, -17.34355071143359, -17.37391967517205, -16.142326207978037, -16.060781273661256, -14.134065950478684, -15.982389144754618, -16.6970223415262, -13.56462698890991, -16.674271861143325, -15.522985400056166, -16.082815197464218, -9.963193349993158, -16.422031899440412, -12.807592163484511, -14.648193315096625, -16.73709150771916, -16.766993503200847, -8.70000526407635, -17.31234130712905, -15.779087759922946, -16.86121892589926, -16.04906677490259, -15.16274889441264, -16.75888290196492, -14.904180090678164, -13.578052411379906, -15.137401066229595, -11.949398314300389, -14.451689081110699, -16.24483475685757, -16.489296368129352], \"xaxis\": \"x2\", \"y\": [0.2887528983720994, 2.8163877409339397, 4.4458689079785385, -2.1556017014823063, -2.984722380220075, -4.209315375760504, -4.718105354459998, -4.358223272946942, -3.9511129901806856, -3.8353414225552633, -3.5387551013384684, -4.196378265359949, -3.967430887497567, -4.459923438814669, -3.391010122058082, -3.648480297878055, -3.9557265325058175, -4.638162972515516, -2.678136265296607, -2.3164544262693623, -2.516686184439293, -4.560992873303819, -3.014097958818532, -2.060092474931535, -4.713560946815523, -3.5908182599384704, -4.505479624527803, -4.168638521419201, -5.56593210828213, -4.268166514308603, -3.4963217743289836, -3.698511757094883, -2.487330698255404, -3.7462039260380258, -4.606046698262713, -3.4513033341140886, -2.667173050125205, -2.539127839234487, -4.858748486896172, -4.8325909823482665, -4.854957164293752, -5.385090838542534, -3.442774461961511, -2.9160857426735514, -4.382809774035744, -3.770870956169095, -4.073834428970014, -4.863109249508713, -4.166572958803396, -4.43385199280433, -2.9669250085918386, -4.8568419484395, -2.7908060108061226, -4.366533250517419, -3.2083253981179376, -3.0627418544259077, -4.889033037014258, -3.213699057946743, -4.519309981715692, -4.709028610975435, -3.402882246502168, -4.646258578564385, -3.7158125086024945, -4.502200504841749, -3.0438948587278536, -5.563403337857775, -2.769990881646669, -3.863548847688341, -3.867540615861309, -3.6746153681290292, -3.38775368060761, -4.843803629403174, -4.566150386756481, -3.6037023507580535, -3.4914823826648815, -6.082059742990427, -3.6068181567831026, -4.84564678864374, -4.252335308164234, -2.1100585126579823, -4.20662530010166, -5.900202131982824, -5.778992891938983, -4.864708186265055, -4.8206032872544355, -3.408252317177147, -4.152933227368875, -3.884119990678638, -4.764265203009801, -4.748046273066249, -2.9786279165350407, -4.193700065676536, -4.072276136200285, -2.8224700288866265, -3.1103099905702183, -4.066032252031916, -3.709973817536617, -6.139352595778068, -3.7027301659909453, -5.1675693238530735, -4.059895846785329, -3.023701880083705, -3.6332673607895805, -4.353451774130499, -3.9617221447854645, -4.560391819720114, -4.468354504285459, -4.716311671669424, -5.235287333448905, -4.309506681743874, -2.3729009097749536, -3.1364571563236825, -2.707866720610626, -4.409445238763787, -3.2382330722447925, -3.37260694091237, -4.126032118919223], \"yaxis\": \"y2\"}, {\"marker\": {\"color\": \"crimson\", \"line\": {\"width\": 0}, \"opacity\": 0.8, \"size\": 6, \"symbol\": \"circle\"}, \"mode\": \"markers\", \"name\": \"1\", \"text\": [\"trop\", \"trop\", \"trop\", \"trop\", \"subtrop\", \"trop\", \"trop\", \"trop\", \"trop\", \"subtrop\", \"trop\", \"subtrop\", \"subtrop\", \"subtrop\", \"trop\", \"trop\", \"subtrop\", \"trop\", \"trop\", \"trop\", \"trop\", \"trop\", \"trop\", \"trop\", \"trop\", \"trop\", \"trop\", \"trop\", \"trop\", \"trop\", \"subtrop\", \"subtrop\", \"trop\", \"trop\", \"trop\", \"trop\", \"trop\", \"trop\", \"subtrop\", \"subtrop\", \"subtrop\", \"subtrop\", \"subtrop\", \"subtrop\", \"subtrop\", \"trop\", \"trop\", \"trop\", \"subtrop\", \"subtrop\", \"subtrop\", \"trop\", \"trop\", \"trop\", \"trop\", \"subtrop\", \"subtrop\", \"subtrop\", \"subtrop\", \"trop\", \"subtrop\", \"subtrop\", \"subtrop\", \"subtrop\", \"subtrop\", \"trop\", \"trop\", \"trop\", \"subtrop\", \"subtrop\", \"subtrop\", \"subtrop\", \"subtrop\", \"subtrop\", \"subtrop\", \"subtrop\", \"subtrop\", \"subtrop\", \"subtrop\", \"subtrop\", \"subtrop\", \"subtrop\", \"subtrop\", \"subtrop\", \"subtrop\", \"subtrop\", \"subtrop\", \"subtrop\", \"subtrop\", \"subtrop\", \"subtrop\", \"subtrop\", \"subtrop\", \"subtrop\", \"subtrop\", \"subtrop\", \"subtrop\", \"subtrop\", \"subtrop\", \"subtrop\"], \"type\": \"scatter\", \"x\": [9.3462557594137, 4.427097706619372, 5.207649389633806, 4.675585445712754, 1.6603644508085031, 8.461875379369435, 9.040809488401713, 7.188572974226337, 4.960451153738537, 0.5267954583763694, 6.066316217091196, 3.5139000979999713, 1.3557365770025107, 5.185878435977534, 8.306128323971619, 7.95664142180746, 5.479892529890413, 6.958103552436612, 7.041057000529393, 6.168670019699006, 5.218976746252051, 5.318674683982303, 6.115919410549683, 4.522830339656083, 5.2690991735092, 6.073142807892717, 4.916087013754213, 6.406576194641487, 3.551831523112663, 6.107533028938782, 7.757176511673717, 4.748790081545983, 3.6583749214612227, 6.770000823075216, 6.9519052027434105, 8.730622762598344, 6.744653172048368, 8.428056998280297, 2.3703838100184416, 4.222829598469046, 8.112662605590705, 2.717093608293604, 8.016613176019558, 4.514864526224657, 2.876675779496726, 7.213282722677776, 7.1817744640217045, 8.051676119250324, 1.1301096212216686, 4.057418634974967, 5.4799733937860395, 7.9848123729276335, 6.077501380540532, 1.789726297201507, 4.658548172261784, 2.280883144310179, 4.954675513442638, 5.1254030640291335, 6.192460565619125, 4.893505228329599, 4.53683030997769, 4.620465768655818, 2.2547348732712242, 2.9362522495139234, 3.2352527243736615, 5.9362801991445915, 3.930826986489878, 6.640175178517943, 1.9545092765235252, 7.35326949782801, 6.273129165701744, 2.8953537926766897, 0.38466466041073893, 4.357308288849394, 1.5845008552302469, 3.4317469882917013, 6.3920082020885, 1.5104403945292504, 1.6900987100391345, 2.7110446646540596, 2.0762053885502207, 5.322222028636392, 1.8699502107700379, 2.518860688709711, 4.347019889166587, 3.962399850667009, 1.5204517348377116, 3.276146120969784, 3.270563261501802, 5.234030845844233, 3.0103394003821853, 1.8748401456066048, 4.736903480226136, 0.8833111414560036, 2.734970602420224, 2.9012679025522834, 4.630382074567644, 2.4352008619606065, 5.103711448069216, 0.6402065053152147], \"xaxis\": \"x2\", \"y\": [4.226031607206161, 0.5854138253653146, -0.8423085795468068, -7.134409309985061, -15.797551939105755, -1.6110558774894117, 0.9797338085965543, 1.7149018764690613, -7.44090208334016, -14.323207915956148, 1.2818075050907196, -13.334234369035931, -12.844657665756616, -4.367929283439285, -2.7989614695277023, -4.172122510876525, -2.06298652389388, -4.0759033285471915, 1.7318753686636803, -1.1966186297149888, -6.5103064244329625, -6.44154750589124, -4.806770495985419, -6.966054945355744, -6.535585445688572, -4.731941259499966, -5.980164033928418, 2.7145463069550653, -0.5739790073012897, 0.6343438653315803, -4.508254087318378, -10.004422648754169, -0.8792954110136135, 6.118104115624437, -3.916086537179317, -1.5040597547700472, -0.6207684302078084, 2.8430212761147535, -14.32207691435589, -12.387195407338503, -7.818362121062151, -14.542634727843538, -5.53958669908643, -10.791123748060668, -13.364581814561582, -2.4265351608501913, -3.799334992443598, -2.9594124535868893, -14.926028377568231, -13.732712530901903, -7.564666710226948, -1.534240605375632, 1.5291137604391096, 1.880863159161778, -1.5420861852675607, -15.064368520432543, -4.53826070933578, -8.53675996634386, -6.314438096322921, 3.3357192339193973, -10.11682006227887, -13.820546880636204, -16.18816003523808, -14.099371852719756, -13.324071696580491, -3.4181679553990953, 0.19353532132853452, -3.2033217578878075, -15.705681926610133, -6.3606174366519435, -6.134449593868561, -15.416221775836384, -15.551152967410633, -5.9171165483046515, -15.152673592927442, -13.962769166488664, -6.3180519047338555, -15.116901161261254, -15.239559790181778, -15.730332513713613, -11.626363804070936, -7.487222104852665, -15.82985049837606, -16.64658704213802, -9.859478842039323, -11.272499177795398, -16.31443959865854, -13.277827489801524, -15.98367431617881, -4.858390857973259, -14.358760175106948, -14.594855973140831, -10.107222199003493, -14.170656936994012, -9.03186438135833, -8.721732727412714, -11.823139064088641, -14.247206180759084, -12.780601665712917, -15.354703112283438], \"yaxis\": \"y2\"}, {\"marker\": {\"color\": \"darkorange\", \"line\": {\"width\": 0}, \"opacity\": 0.8, \"size\": 6, \"symbol\": \"circle\"}, \"mode\": \"markers\", \"name\": \"2\", \"text\": [\"aro\", \"temp\", \"temp\", \"trop\", \"trop\", \"aro\", \"subtrop\", \"trop\", \"trop\", \"trop\", \"trop\", \"trop\", \"subtrop\", \"subtrop\", \"subtrop\", \"trop\", \"subtrop\", \"subtrop\", \"subtrop\", \"trop\", \"subtrop\", \"subtrop\", \"trop\", \"trop\", \"subtrop\", \"trop\", \"trop\", \"trop\", \"trop\", \"trop\", \"trop\", \"trop\", \"subtrop\", \"subtrop\", \"subtrop\", \"subtrop\", \"subtrop\", \"subtrop\", \"subtrop\", \"subtrop\", \"trop\", \"trop\", \"trop\", \"trop\", \"trop\", \"trop\", \"trop\", \"trop\", \"trop\", \"trop\", \"trop\", \"subtrop\", \"trop\", \"subtrop\", \"trop\", \"subtrop\", \"trop\", \"trop\", \"trop\", \"trop\", \"trop\", \"trop\", \"temp\", \"trop\", \"trop\", \"trop\", \"trop\", \"trop\", \"trop\", \"subtrop\"], \"type\": \"scatter\", \"x\": [4.731928722135905, -2.6837960691849747, -6.484818036901399, 0.26278243974513277, -2.6251824216117985, -1.167772765622443, -3.523278312057323, -3.6344043217532884, -4.419460697834921, -3.4574805172434306, -3.388205145812324, -4.488544787968396, -7.184860568454486, -6.785942773698581, -4.104694467492011, -0.6829849246833715, -5.226929002528948, -5.835213197829934, -5.755695721294264, -0.7251444544077874, -1.0315703690284725, -6.912760181429894, -4.464801586638841, -0.9851871639261334, -5.843404966749323, 1.4042903564361802, -1.090701260509653, -0.6804836327757721, -2.544529550208267, -4.671327465584246, -2.9576542318923953, -3.0137163708634986, -4.632102071474819, -4.201532838352841, -4.626156181350263, -0.31137837998430307, -5.3961677384967555, -4.545875445428664, -3.0378257766145063, 0.026527527075890792, -1.0354041119783204, -3.581580810146217, -2.848593622827212, -5.845587236165073, -3.4419407158148805, -5.264299379317666, -2.6795903085650528, -0.9645458757397529, -0.6883622306236903, -3.9066890936188985, -3.4201741046432357, -2.2355049229227992, -5.4622969563746135, -5.881304685794937, -3.7904341075094767, -6.087985113324072, -3.5540796024010466, -6.169507432063719, -5.685269827506271, -5.44197467527993, -0.5167652453875063, -5.1589433550067465, -8.626017943202992, 0.2891450918133028, -4.576373059495902, -1.416208330190708, -4.73206115859954, -3.966547083580456, 0.7193420434910976, -3.5856189289330658], \"xaxis\": \"x2\", \"y\": [7.520284019506941, 3.62701295944054, -0.14151472492114986, 7.1913842297639965, 16.7313452188681, 13.27543988506494, 2.3749062718677854, 14.288435105902689, 15.509926870253743, 6.147529103998559, 11.541418090276558, 10.100778345322214, 1.728468316653567, 1.6448062997105595, 0.22361180156105576, 15.105097736323087, 4.474573176240888, 2.1428834490830972, 2.2290482478064106, 15.177273425546579, 10.980771802884249, 2.0819403693593017, 15.226638186018468, 13.313549547909346, 2.6539954056686694, 19.084226118342915, 18.766483605772933, 15.12735192047739, 11.37921140045654, 9.72195425677594, 11.433940568831517, 14.566238634998076, 5.8566370143001265, -0.028679108318230215, -0.7604760990198975, 11.049186689202664, 1.5039875111481487, -0.7557890542615014, 11.47225402686654, 8.072729401921587, 16.356891799632017, 7.3479578104997785, 11.099486326508408, 12.215911233587422, 16.798869763483538, 12.036182870465113, 15.626888780298334, 15.07483296302144, 12.984054468907367, 18.158922105780402, 14.153444424501496, 8.09327733003417, 6.1577254382089635, -4.16596951586985, 19.003447339459008, 2.0524773616868726, 9.587811981761238, 11.294253390889065, 14.248444444222596, 13.795929190979729, 16.730130069824135, 15.379037792401078, -0.6370409837544956, 18.299225571770567, 5.205830073865606, 16.566696386655632, 14.69061235914401, 15.565415527487076, 15.426839418146143, -1.5569239658428944], \"yaxis\": \"y2\"}, {\"marker\": {\"color\": \"darkblue\", \"line\": {\"width\": 0}, \"opacity\": 0.8, \"size\": 6, \"symbol\": \"circle\"}, \"mode\": \"markers\", \"name\": \"3\", \"text\": [\"aro\", \"aro\", \"aro\", \"aro\", \"aro\", \"aro\", \"aro\", \"aro\", \"aro\", \"aro\", \"aro\", \"aro\", \"aro\", \"aro\", \"aro\", \"aro\", \"aro\", \"aro\", \"aro\", \"aro\", \"aro\", \"aro\", \"aro\", \"aro\", \"aro\", \"aro\", \"aro\", \"aro\", \"aro\", \"aro\", \"aro\", \"aro\", \"aro\", \"aro\", \"aro\", \"aro\", \"aro\", \"aro\", \"aro\", \"aro\", \"aro\", \"aro\", \"aro\", \"aro\", \"aro\", \"aro\", \"aro\", \"aro\", \"aro\", \"aro\", \"aro\", \"aro\", \"aro\", \"aro\", \"aro\", \"aro\", \"aro\", \"aro\", \"aro\", \"aro\", \"aro\", \"aro\", \"aro\", \"aro\", \"aro\", \"aro\", \"aro\"], \"type\": \"scatter\", \"x\": [29.83254206276659, 30.442023382573396, 29.868735919589593, 29.45384862654972, 30.02127556227653, 29.48863805142796, 22.959282884724374, 23.453320257213086, 23.20273853777197, 30.231664160264714, 21.589995526718575, 18.591496864333934, 29.372192587853633, 29.6713022941636, 20.26790690358028, 29.566394019590216, 29.522927904758717, 25.309648619542614, 15.672703655421465, 29.761005102448838, 25.637806098933446, 23.740428136618124, 26.74582905774423, 28.970442145597335, 27.02354996848932, 30.40732989531511, 29.360534082816287, 22.54384490966655, 21.272516810568934, 20.55644993481497, 29.085209945950012, 25.58243543143099, 29.793632227581142, 10.18063927149163, 22.803913483365985, 27.289769883700167, 27.75800327939213, 23.810506526790792, 29.397339956486704, 28.366232352210822, 23.121823320439937, 29.089224703449275, 30.305841490212913, 23.832180694304306, 12.56143054308581, 28.82338515115556, 24.39139823692373, 24.94732273080825, 29.50488999502807, 29.775196578118653, 20.078335595077245, 18.86245705059189, 29.030007510293597, 29.178866423923214, 29.417415371193297, 28.998759571211718, 16.546739444116536, 22.80873834880782, 26.628228758487335, 28.598977500863455, 25.81210174973594, 29.618474371067265, 24.12557717980736, 25.163423445422236, 17.97951784386124, 16.508981285817885, 20.64982030499449], \"xaxis\": \"x2\", \"y\": [0.8731003600837036, 0.006623167201125633, 0.3025276187278686, 0.4264832403054352, -0.44112028772519285, 1.2382386266398626, -0.15097593469876833, -1.3213803361340122, -1.2544861558901874, -0.006420005323778792, -4.53470840421822, 7.18741589529973, 3.3199655910947783, 0.20269890086823583, -5.231042377787592, 0.5792986226666355, 0.14031126366331034, -0.8699608287852397, 15.536732190389147, -0.15802420064713524, 1.5541776196527737, -2.8884515050338284, 1.1155006168385186, 0.9963361985599256, 1.092753233152511, -0.010016342947211246, 1.0961788536029626, -3.638450642917319, -4.632909898325081, -4.845415881885291, 0.733793329955612, -0.9701259577899504, 0.10345096472526184, 10.019266692857121, 0.7198369922229593, 1.6684791307978715, 1.088342435997055, 0.5037399579246407, -0.19931555982252755, 0.35893327896501825, -2.2251040194141765, -1.4564441538534156, 0.3168326558961344, -0.5831725490698031, 12.381696888848065, 2.3854586111873153, -0.9753635321768722, -1.4278242071762082, 0.3770458896406714, 0.23693268564715825, 5.547445009901601, -3.47192684302507, -0.41397132469429093, 0.5328941566793706, -0.315133613974884, 0.7392199956766157, 5.269235728753345, -3.554839204299533, 0.23345015521103002, 1.5294494555087266, 0.996374719726429, 1.8543505993182936, 2.4982263415217845, 0.5189358603211985, 3.588179734139372, 2.0228462686979536, 1.8113905936948016], \"yaxis\": \"y2\"}, {\"marker\": {\"color\": \"darkcyan\", \"line\": {\"width\": 0}, \"opacity\": 0.8, \"size\": 6, \"symbol\": \"circle\"}, \"mode\": \"markers\", \"name\": \"4\", \"text\": [\"trop\", \"trop\", \"trop\", \"trop\", \"trop\", \"trop\", \"trop\", \"trop\", \"trop\", \"trop\", \"trop\", \"trop\", \"trop\", \"trop\", \"trop\", \"trop\", \"trop\", \"trop\", \"trop\", \"trop\", \"trop\", \"trop\", \"trop\", \"trop\", \"trop\", \"trop\", \"trop\", \"trop\", \"trop\", \"trop\", \"trop\"], \"type\": \"scatter\", \"x\": [-11.185620072777422, -0.09657493901013099, 0.07351526159177998, -1.830985482385209, 5.345651003161152, -10.751102624104172, 2.380655516244341, -6.6068558054139075, -10.79791250144275, -9.345300440672162, -8.943845906149853, -12.443192740832233, -0.19828957009232226, -5.674396964445725, -11.292387715612236, -11.779165385133457, -9.140963837374116, -9.199179981867424, -5.02058227270001, -9.00876395740573, -9.408527064995058, -11.965683551219128, -9.681177226193878, -11.881352531653892, -9.442901784600103, -10.049027438672182, -10.855225568653, -9.64180828771715, -9.344651187365846, -8.898075395445007, -8.92792383897383], \"xaxis\": \"x2\", \"y\": [13.199935310855292, 26.214053398883394, 26.120107364448373, 16.83029501638069, 6.861304756478577, 13.121257434635515, 25.03497760955483, 15.52335319397355, 12.750050684467979, 14.074912187864578, 13.787365543532925, 12.021758280913216, 25.817250256675738, 14.76057683476509, 13.368699091262876, 11.769842685879132, 14.143071703320478, 14.09856013577864, 20.05929021939161, 12.754824961270751, 14.935369799813685, 12.621865240847994, 13.74821172882788, 11.441192980200851, 15.092871379811864, 14.288435152500353, 12.706983957392543, 14.914992026085473, 14.083620035074805, 14.362884322054914, 12.865623471864739], \"yaxis\": \"y2\"}],\n",
       "                        {\"annotations\": [{\"font\": {\"size\": 16}, \"showarrow\": false, \"text\": \"global_pca\", \"x\": 0.225, \"xanchor\": \"center\", \"xref\": \"paper\", \"y\": 1.0, \"yanchor\": \"bottom\", \"yref\": \"paper\"}, {\"font\": {\"size\": 16}, \"showarrow\": false, \"text\": \"global_pca\", \"x\": 0.775, \"xanchor\": \"center\", \"xref\": \"paper\", \"y\": 1.0, \"yanchor\": \"bottom\", \"yref\": \"paper\"}], \"height\": 500, \"template\": {\"data\": {\"bar\": [{\"error_x\": {\"color\": \"#2a3f5f\"}, \"error_y\": {\"color\": \"#2a3f5f\"}, \"marker\": {\"line\": {\"color\": \"#E5ECF6\", \"width\": 0.5}}, \"type\": \"bar\"}], \"barpolar\": [{\"marker\": {\"line\": {\"color\": \"#E5ECF6\", \"width\": 0.5}}, \"type\": \"barpolar\"}], \"carpet\": [{\"aaxis\": {\"endlinecolor\": \"#2a3f5f\", \"gridcolor\": \"white\", \"linecolor\": \"white\", \"minorgridcolor\": \"white\", \"startlinecolor\": \"#2a3f5f\"}, \"baxis\": {\"endlinecolor\": \"#2a3f5f\", \"gridcolor\": \"white\", \"linecolor\": \"white\", \"minorgridcolor\": \"white\", \"startlinecolor\": \"#2a3f5f\"}, \"type\": \"carpet\"}], \"choropleth\": [{\"colorbar\": {\"outlinewidth\": 0, \"ticks\": \"\"}, \"type\": \"choropleth\"}], \"contour\": [{\"colorbar\": {\"outlinewidth\": 0, \"ticks\": \"\"}, \"colorscale\": [[0.0, \"#0d0887\"], [0.1111111111111111, \"#46039f\"], [0.2222222222222222, \"#7201a8\"], [0.3333333333333333, \"#9c179e\"], [0.4444444444444444, \"#bd3786\"], [0.5555555555555556, \"#d8576b\"], [0.6666666666666666, \"#ed7953\"], [0.7777777777777778, \"#fb9f3a\"], [0.8888888888888888, \"#fdca26\"], [1.0, \"#f0f921\"]], \"type\": \"contour\"}], \"contourcarpet\": [{\"colorbar\": {\"outlinewidth\": 0, \"ticks\": \"\"}, \"type\": \"contourcarpet\"}], \"heatmap\": [{\"colorbar\": {\"outlinewidth\": 0, \"ticks\": \"\"}, \"colorscale\": [[0.0, \"#0d0887\"], [0.1111111111111111, \"#46039f\"], [0.2222222222222222, \"#7201a8\"], [0.3333333333333333, \"#9c179e\"], [0.4444444444444444, \"#bd3786\"], [0.5555555555555556, \"#d8576b\"], [0.6666666666666666, \"#ed7953\"], [0.7777777777777778, \"#fb9f3a\"], [0.8888888888888888, \"#fdca26\"], [1.0, \"#f0f921\"]], \"type\": \"heatmap\"}], \"heatmapgl\": [{\"colorbar\": {\"outlinewidth\": 0, \"ticks\": \"\"}, \"colorscale\": [[0.0, \"#0d0887\"], [0.1111111111111111, \"#46039f\"], [0.2222222222222222, \"#7201a8\"], [0.3333333333333333, \"#9c179e\"], [0.4444444444444444, \"#bd3786\"], [0.5555555555555556, \"#d8576b\"], [0.6666666666666666, \"#ed7953\"], [0.7777777777777778, \"#fb9f3a\"], [0.8888888888888888, \"#fdca26\"], [1.0, \"#f0f921\"]], \"type\": \"heatmapgl\"}], \"histogram\": [{\"marker\": {\"colorbar\": {\"outlinewidth\": 0, \"ticks\": \"\"}}, \"type\": \"histogram\"}], \"histogram2d\": [{\"colorbar\": {\"outlinewidth\": 0, \"ticks\": \"\"}, \"colorscale\": [[0.0, \"#0d0887\"], [0.1111111111111111, \"#46039f\"], [0.2222222222222222, \"#7201a8\"], [0.3333333333333333, \"#9c179e\"], [0.4444444444444444, \"#bd3786\"], [0.5555555555555556, \"#d8576b\"], [0.6666666666666666, \"#ed7953\"], [0.7777777777777778, \"#fb9f3a\"], [0.8888888888888888, \"#fdca26\"], [1.0, \"#f0f921\"]], \"type\": \"histogram2d\"}], \"histogram2dcontour\": [{\"colorbar\": {\"outlinewidth\": 0, \"ticks\": \"\"}, \"colorscale\": [[0.0, \"#0d0887\"], [0.1111111111111111, \"#46039f\"], [0.2222222222222222, \"#7201a8\"], [0.3333333333333333, \"#9c179e\"], [0.4444444444444444, \"#bd3786\"], [0.5555555555555556, \"#d8576b\"], [0.6666666666666666, \"#ed7953\"], [0.7777777777777778, \"#fb9f3a\"], [0.8888888888888888, \"#fdca26\"], [1.0, \"#f0f921\"]], \"type\": \"histogram2dcontour\"}], \"mesh3d\": [{\"colorbar\": {\"outlinewidth\": 0, \"ticks\": \"\"}, \"type\": \"mesh3d\"}], \"parcoords\": [{\"line\": {\"colorbar\": {\"outlinewidth\": 0, \"ticks\": \"\"}}, \"type\": \"parcoords\"}], \"pie\": [{\"automargin\": true, \"type\": \"pie\"}], \"scatter\": [{\"marker\": {\"colorbar\": {\"outlinewidth\": 0, \"ticks\": \"\"}}, \"type\": \"scatter\"}], \"scatter3d\": [{\"line\": {\"colorbar\": {\"outlinewidth\": 0, \"ticks\": \"\"}}, \"marker\": {\"colorbar\": {\"outlinewidth\": 0, \"ticks\": \"\"}}, \"type\": \"scatter3d\"}], \"scattercarpet\": [{\"marker\": {\"colorbar\": {\"outlinewidth\": 0, \"ticks\": \"\"}}, \"type\": \"scattercarpet\"}], \"scattergeo\": [{\"marker\": {\"colorbar\": {\"outlinewidth\": 0, \"ticks\": \"\"}}, \"type\": \"scattergeo\"}], \"scattergl\": [{\"marker\": {\"colorbar\": {\"outlinewidth\": 0, \"ticks\": \"\"}}, \"type\": \"scattergl\"}], \"scattermapbox\": [{\"marker\": {\"colorbar\": {\"outlinewidth\": 0, \"ticks\": \"\"}}, \"type\": \"scattermapbox\"}], \"scatterpolar\": [{\"marker\": {\"colorbar\": {\"outlinewidth\": 0, \"ticks\": \"\"}}, \"type\": \"scatterpolar\"}], \"scatterpolargl\": [{\"marker\": {\"colorbar\": {\"outlinewidth\": 0, \"ticks\": \"\"}}, \"type\": \"scatterpolargl\"}], \"scatterternary\": [{\"marker\": {\"colorbar\": {\"outlinewidth\": 0, \"ticks\": \"\"}}, \"type\": \"scatterternary\"}], \"surface\": [{\"colorbar\": {\"outlinewidth\": 0, \"ticks\": \"\"}, \"colorscale\": [[0.0, \"#0d0887\"], [0.1111111111111111, \"#46039f\"], [0.2222222222222222, \"#7201a8\"], [0.3333333333333333, \"#9c179e\"], [0.4444444444444444, \"#bd3786\"], [0.5555555555555556, \"#d8576b\"], [0.6666666666666666, \"#ed7953\"], [0.7777777777777778, \"#fb9f3a\"], [0.8888888888888888, \"#fdca26\"], [1.0, \"#f0f921\"]], \"type\": \"surface\"}], \"table\": [{\"cells\": {\"fill\": {\"color\": \"#EBF0F8\"}, \"line\": {\"color\": \"white\"}}, \"header\": {\"fill\": {\"color\": \"#C8D4E3\"}, \"line\": {\"color\": \"white\"}}, \"type\": \"table\"}]}, \"layout\": {\"annotationdefaults\": {\"arrowcolor\": \"#2a3f5f\", \"arrowhead\": 0, \"arrowwidth\": 1}, \"coloraxis\": {\"colorbar\": {\"outlinewidth\": 0, \"ticks\": \"\"}}, \"colorscale\": {\"diverging\": [[0, \"#8e0152\"], [0.1, \"#c51b7d\"], [0.2, \"#de77ae\"], [0.3, \"#f1b6da\"], [0.4, \"#fde0ef\"], [0.5, \"#f7f7f7\"], [0.6, \"#e6f5d0\"], [0.7, \"#b8e186\"], [0.8, \"#7fbc41\"], [0.9, \"#4d9221\"], [1, \"#276419\"]], \"sequential\": [[0.0, \"#0d0887\"], [0.1111111111111111, \"#46039f\"], [0.2222222222222222, \"#7201a8\"], [0.3333333333333333, \"#9c179e\"], [0.4444444444444444, \"#bd3786\"], [0.5555555555555556, \"#d8576b\"], [0.6666666666666666, \"#ed7953\"], [0.7777777777777778, \"#fb9f3a\"], [0.8888888888888888, \"#fdca26\"], [1.0, \"#f0f921\"]], \"sequentialminus\": [[0.0, \"#0d0887\"], [0.1111111111111111, \"#46039f\"], [0.2222222222222222, \"#7201a8\"], [0.3333333333333333, \"#9c179e\"], [0.4444444444444444, \"#bd3786\"], [0.5555555555555556, \"#d8576b\"], [0.6666666666666666, \"#ed7953\"], [0.7777777777777778, \"#fb9f3a\"], [0.8888888888888888, \"#fdca26\"], [1.0, \"#f0f921\"]]}, \"colorway\": [\"#636efa\", \"#EF553B\", \"#00cc96\", \"#ab63fa\", \"#FFA15A\", \"#19d3f3\", \"#FF6692\", \"#B6E880\", \"#FF97FF\", \"#FECB52\"], \"font\": {\"color\": \"#2a3f5f\"}, \"geo\": {\"bgcolor\": \"white\", \"lakecolor\": \"white\", \"landcolor\": \"#E5ECF6\", \"showlakes\": true, \"showland\": true, \"subunitcolor\": \"white\"}, \"hoverlabel\": {\"align\": \"left\"}, \"hovermode\": \"closest\", \"mapbox\": {\"style\": \"light\"}, \"paper_bgcolor\": \"white\", \"plot_bgcolor\": \"#E5ECF6\", \"polar\": {\"angularaxis\": {\"gridcolor\": \"white\", \"linecolor\": \"white\", \"ticks\": \"\"}, \"bgcolor\": \"#E5ECF6\", \"radialaxis\": {\"gridcolor\": \"white\", \"linecolor\": \"white\", \"ticks\": \"\"}}, \"scene\": {\"xaxis\": {\"backgroundcolor\": \"#E5ECF6\", \"gridcolor\": \"white\", \"gridwidth\": 2, \"linecolor\": \"white\", \"showbackground\": true, \"ticks\": \"\", \"zerolinecolor\": \"white\"}, \"yaxis\": {\"backgroundcolor\": \"#E5ECF6\", \"gridcolor\": \"white\", \"gridwidth\": 2, \"linecolor\": \"white\", \"showbackground\": true, \"ticks\": \"\", \"zerolinecolor\": \"white\"}, \"zaxis\": {\"backgroundcolor\": \"#E5ECF6\", \"gridcolor\": \"white\", \"gridwidth\": 2, \"linecolor\": \"white\", \"showbackground\": true, \"ticks\": \"\", \"zerolinecolor\": \"white\"}}, \"shapedefaults\": {\"line\": {\"color\": \"#2a3f5f\"}}, \"ternary\": {\"aaxis\": {\"gridcolor\": \"white\", \"linecolor\": \"white\", \"ticks\": \"\"}, \"baxis\": {\"gridcolor\": \"white\", \"linecolor\": \"white\", \"ticks\": \"\"}, \"bgcolor\": \"#E5ECF6\", \"caxis\": {\"gridcolor\": \"white\", \"linecolor\": \"white\", \"ticks\": \"\"}}, \"title\": {\"x\": 0.05}, \"xaxis\": {\"automargin\": true, \"gridcolor\": \"white\", \"linecolor\": \"white\", \"ticks\": \"\", \"title\": {\"standoff\": 15}, \"zerolinecolor\": \"white\", \"zerolinewidth\": 2}, \"yaxis\": {\"automargin\": true, \"gridcolor\": \"white\", \"linecolor\": \"white\", \"ticks\": \"\", \"title\": {\"standoff\": 15}, \"zerolinecolor\": \"white\", \"zerolinewidth\": 2}}}, \"width\": 950, \"xaxis\": {\"anchor\": \"y\", \"domain\": [0.0, 0.45], \"title\": {\"text\": \"PC1\"}}, \"xaxis2\": {\"anchor\": \"y2\", \"domain\": [0.55, 1.0], \"title\": {\"text\": \"PC1\"}}, \"yaxis\": {\"anchor\": \"x\", \"domain\": [0.0, 1.0], \"title\": {\"text\": \"PC2\"}}, \"yaxis2\": {\"anchor\": \"x2\", \"domain\": [0.0, 1.0], \"title\": {\"text\": \"PC3\"}}},\n",
       "                        {\"responsive\": true}\n",
       "                    ).then(function(){\n",
       "                            \n",
       "var gd = document.getElementById('2ac39b8f-5a62-48ce-801f-99c000cc5d5b');\n",
       "var x = new MutationObserver(function (mutations, observer) {{\n",
       "        var display = window.getComputedStyle(gd).display;\n",
       "        if (!display || display === 'none') {{\n",
       "            console.log([gd, 'removed!']);\n",
       "            Plotly.purge(gd);\n",
       "            observer.disconnect();\n",
       "        }}\n",
       "}});\n",
       "\n",
       "// Listen for the removal of the full notebook cells\n",
       "var notebookContainer = gd.closest('#notebook-container');\n",
       "if (notebookContainer) {{\n",
       "    x.observe(notebookContainer, {childList: true});\n",
       "}}\n",
       "\n",
       "// Listen for the clearing of the current output cell\n",
       "var outputEl = gd.closest('.output');\n",
       "if (outputEl) {{\n",
       "    x.observe(outputEl, {childList: true});\n",
       "}}\n",
       "\n",
       "                        })\n",
       "                };\n",
       "                });\n",
       "            </script>\n",
       "        </div>"
      ]
     },
     "metadata": {},
     "output_type": "display_data"
    }
   ],
   "source": [
    "###\n",
    "plot_global_pca(feats,label_select,colordict,labels= core_pop,title= 'global_pca',height= 500,width= 950)"
   ]
  },
  {
   "cell_type": "code",
   "execution_count": 13,
   "metadata": {},
   "outputs": [
    {
     "data": {
      "text/plain": [
       "(385, 3706)"
      ]
     },
     "execution_count": 13,
     "metadata": {},
     "output_type": "execute_result"
    }
   ],
   "source": [
    "genotype.shape"
   ]
  },
  {
   "cell_type": "markdown",
   "metadata": {},
   "source": [
    "#########################################    ############################################################################\n",
    "\n",
    "# Heterozygotes"
   ]
  },
  {
   "cell_type": "markdown",
   "metadata": {},
   "source": [
    "## part I. Connecting windows"
   ]
  },
  {
   "cell_type": "code",
   "execution_count": 14,
   "metadata": {},
   "outputs": [],
   "source": [
    "from impute_tools.genome_adapt import (\n",
    "    window_parse, lwind_extract, recover_hap\n",
    ")\n",
    "\n",
    "from impute_tools.impute_cofactors import (\n",
    "    bin_keep, code_find, sg_varSel\n",
    ")\n",
    "\n",
    "wind_sizes= 50\n",
    "nan_char= [1,9]\n",
    "code_keep= 2\n",
    "\n",
    "#\n",
    "ncomps= 3\n",
    "##\n",
    "##\n",
    "lproc_func= bin_keep\n",
    "lproc_args= {\n",
    "    'keep': code_keep\n",
    "}\n",
    "\n",
    "##\n",
    "##\n",
    "lkeep_func= code_find\n",
    "lkeep_args= {\n",
    "    'code_v': nan_char,\n",
    "    'binned': True,\n",
    "    'axis': 1\n",
    "}\n",
    "\n",
    "dr_obj = PCA(n_components=2, whiten=False,svd_solver='randomized')\n"
   ]
  },
  {
   "cell_type": "code",
   "execution_count": null,
   "metadata": {},
   "outputs": [],
   "source": []
  },
  {
   "cell_type": "code",
   "execution_count": null,
   "metadata": {},
   "outputs": [],
   "source": []
  },
  {
   "cell_type": "code",
   "execution_count": 15,
   "metadata": {},
   "outputs": [
    {
     "data": {
      "text/plain": [
       "[135, 2661]"
      ]
     },
     "execution_count": 15,
     "metadata": {},
     "output_type": "execute_result"
    }
   ],
   "source": [
    "#### select position to exclude\n",
    "####\n",
    "nan_n= 1\n",
    "\n",
    "xnan= np.random.randint(0,genotype.shape[1],size= nan_n)[0]\n",
    "ynan= np.random.randint(0,genotype.shape[0],size= nan_n)[0]\n",
    "\n",
    "tf= [ynan,xnan]\n",
    "tf= [135, 2661]\n",
    "#tf= [299, 1194]\n",
    "tf_acc= tf[0]\n",
    "tf_pos= tf[1]\n",
    "\n",
    "tf"
   ]
  },
  {
   "cell_type": "code",
   "execution_count": 16,
   "metadata": {},
   "outputs": [
    {
     "name": "stdout",
     "output_type": "stream",
     "text": [
      "350\n"
     ]
    }
   ],
   "source": [
    "##\n",
    "## local window - get and process\n",
    "\n",
    "nwind= lwind_extract(genotype, idx= tf_pos, wind_sizes= wind_sizes,mask_pos= [])\n",
    "\n",
    "## samp keep - samples without het or nan at this window\n",
    "samp_keep= lkeep_func(nwind, **lkeep_args)\n",
    "print(sum(samp_keep))\n",
    "\n",
    "### process local window - convert to haplotypes - keep only code_keep\n",
    "local_l= lproc_func(nwind,**lproc_args)\n",
    "\n",
    "##\n",
    "## local PCA and PCA transform\n",
    "##\n",
    "pca_special= dr_obj.fit(nwind[samp_keep])\n",
    "featl= pca_special.transform(local_l)\n",
    "\n",
    "##"
   ]
  },
  {
   "cell_type": "code",
   "execution_count": 17,
   "metadata": {},
   "outputs": [
    {
     "data": {
      "text/plain": [
       "array([0, 2, 0, 0, 0, 0, 2, 0, 0, 0, 0, 0, 0, 0, 0, 0, 0, 0, 0, 0, 0, 0,\n",
       "       0, 0, 0, 0, 0, 0, 0, 2, 0, 0, 0, 0, 0, 0, 0, 0, 0, 0, 0, 0, 0, 0,\n",
       "       0, 0, 0, 0, 0, 0])"
      ]
     },
     "execution_count": 17,
     "metadata": {},
     "output_type": "execute_result"
    }
   ],
   "source": [
    "nwind[2]"
   ]
  },
  {
   "cell_type": "code",
   "execution_count": 18,
   "metadata": {},
   "outputs": [
    {
     "data": {
      "text/plain": [
       "array([0, 2, 0, 0, 0, 0, 2, 0, 0, 0, 0, 0, 0, 0, 0, 0, 0, 0, 0, 0, 0, 1,\n",
       "       0, 0, 0, 0, 0, 0, 0, 2, 0, 0, 0, 0, 0, 0, 0, 0, 0, 0, 0, 0, 0, 0,\n",
       "       0, 0, 0, 0, 0, 0])"
      ]
     },
     "execution_count": 18,
     "metadata": {},
     "output_type": "execute_result"
    }
   ],
   "source": [
    "nwind[13]"
   ]
  },
  {
   "cell_type": "code",
   "execution_count": 19,
   "metadata": {},
   "outputs": [
    {
     "data": {
      "text/plain": [
       "array([2, 0, 0, 0, 2, 0, 0, 0, 0, 0, 2, 0, 2, 2, 0, 0, 0, 2, 2, 2, 2, 2,\n",
       "       0, 0, 0, 0, 0, 0, 0, 0, 0, 0, 0, 0, 0, 0, 0, 0, 0, 0, 0, 0, 0, 0,\n",
       "       0, 0, 0, 0, 0, 0])"
      ]
     },
     "execution_count": 19,
     "metadata": {},
     "output_type": "execute_result"
    }
   ],
   "source": [
    "t= [x for x in range(nwind.shape[0]) if nwind[x,21] == 2]\n",
    "nwind[t[0]]"
   ]
  },
  {
   "cell_type": "code",
   "execution_count": 29,
   "metadata": {},
   "outputs": [],
   "source": [
    "from sklearn.cluster import MeanShift, estimate_bandwidth\n",
    "\n",
    "from structure_tools.Tutorial_subplots import plot_global_pca\n",
    "## perform MeanShift clustering.\n",
    "bandwidth = estimate_bandwidth(featl, quantile=0.2)\n",
    "\n",
    "ms = MeanShift(bandwidth=bandwidth, bin_seeding=False, cluster_all=True, min_bin_freq=15)\n",
    "ms.fit(featl)\n",
    "labels1 = ms.labels_\n",
    "label_select = {y:[x for x in range(len(labels1)) if labels1[x] == y] for y in sorted(list(set(labels1)))}\n",
    "\n",
    "gp_keys= sorted(label_select.keys())\n"
   ]
  },
  {
   "cell_type": "code",
   "execution_count": 23,
   "metadata": {},
   "outputs": [],
   "source": [
    "freq_dict= {z: np.sum(local_l[g],axis= 0) / len(g) for z,g in label_select.items()}\n",
    "freq_array= [freq_dict[z] for z in gp_keys]\n",
    "freq_array= np.array(freq_array)\n",
    "\n",
    "mu= 1e-8\n",
    "\n",
    "freq_array[freq_array == 0]= mu"
   ]
  },
  {
   "cell_type": "code",
   "execution_count": 24,
   "metadata": {},
   "outputs": [],
   "source": [
    "## likelihood of a single hapt\n",
    "\n"
   ]
  },
  {
   "cell_type": "code",
   "execution_count": 28,
   "metadata": {},
   "outputs": [],
   "source": [
    "from scipy.stats import binom\n",
    "\n",
    "def hap_lik(hapl,freqs_array,n= 1, cov= True):\n",
    "    \n",
    "    zt= binom.pmf(hapl, n, freq_array)\n",
    "    zt_prod= np.prod(zt, axis= 1)\n",
    "    \n",
    "    if np.sum(zt_prod) and cov:\n",
    "        zt_prod= zt_prod / np.sum(zt_prod)\n",
    "\n",
    "    return zt_prod\n"
   ]
  },
  {
   "cell_type": "code",
   "execution_count": 26,
   "metadata": {},
   "outputs": [
    {
     "name": "stdout",
     "output_type": "stream",
     "text": [
      "[2 0 0 0 2 0 0 0 0 0 2 0 2 2 0 0 0 2 2 2 2 2 0 0 0 0 0 0 0 0 0 0 0 0 0 0 0\n",
      " 0 0 0 0 0 0 0 0 0 0 0 0 0]\n"
     ]
    },
    {
     "data": {
      "text/plain": [
       "array([1.56162717e-112, 1.00000000e+000, 1.45475427e-159, 0.00000000e+000,\n",
       "       4.95039184e-053, 0.00000000e+000])"
      ]
     },
     "execution_count": 26,
     "metadata": {},
     "output_type": "execute_result"
    }
   ],
   "source": [
    "## Test with a monomorph\n",
    "\n",
    "hap1= label_select[1][0]\n",
    "hap1= nwind[hap1]\n",
    "print(hap1)\n",
    "\n",
    "zt_prod= hap_lik(hap1, freq_array,n= 2)\n",
    "zt_prod"
   ]
  },
  {
   "cell_type": "code",
   "execution_count": 27,
   "metadata": {},
   "outputs": [],
   "source": [
    "## test with an admix"
   ]
  },
  {
   "cell_type": "code",
   "execution_count": 28,
   "metadata": {},
   "outputs": [
    {
     "data": {
      "text/plain": [
       "array([0., 0., 1., 0., 0., 0.])"
      ]
     },
     "execution_count": 28,
     "metadata": {},
     "output_type": "execute_result"
    }
   ],
   "source": [
    "hap1= nwind[13]\n",
    "\n",
    "\n",
    "zt_prod= hap_lik(hap1, freq_array,n= 2)\n",
    "zt_prod"
   ]
  },
  {
   "cell_type": "code",
   "execution_count": 29,
   "metadata": {},
   "outputs": [
    {
     "data": {
      "text/plain": [
       "array([0, 2, 0, 0, 0, 0, 2, 0, 0, 0, 0, 0, 0, 0, 0, 0, 0, 0, 0, 0, 0, 1,\n",
       "       0, 0, 0, 0, 0, 0, 0, 2, 0, 0, 0, 0, 0, 0, 0, 0, 0, 0, 0, 0, 0, 0,\n",
       "       0, 0, 0, 0, 0, 0])"
      ]
     },
     "execution_count": 29,
     "metadata": {},
     "output_type": "execute_result"
    }
   ],
   "source": [
    "nwind[13]"
   ]
  },
  {
   "cell_type": "code",
   "execution_count": 30,
   "metadata": {},
   "outputs": [
    {
     "data": {
      "text/plain": [
       "array([[0.00000000e+000, 0.00000000e+000, 8.35804094e-022,\n",
       "        0.00000000e+000, 0.00000000e+000, 0.00000000e+000],\n",
       "       [0.00000000e+000, 0.00000000e+000, 1.93403164e-009,\n",
       "        0.00000000e+000, 0.00000000e+000, 0.00000000e+000],\n",
       "       [0.00000000e+000, 0.00000000e+000, 1.96675728e-010,\n",
       "        0.00000000e+000, 0.00000000e+000, 0.00000000e+000],\n",
       "       [0.00000000e+000, 0.00000000e+000, 1.48701650e-016,\n",
       "        0.00000000e+000, 0.00000000e+000, 0.00000000e+000],\n",
       "       [0.00000000e+000, 0.00000000e+000, 1.16776212e-002,\n",
       "        0.00000000e+000, 0.00000000e+000, 0.00000000e+000],\n",
       "       [0.00000000e+000, 0.00000000e+000, 2.85372651e-025,\n",
       "        0.00000000e+000, 0.00000000e+000, 0.00000000e+000],\n",
       "       [0.00000000e+000, 0.00000000e+000, 1.16776212e-002,\n",
       "        0.00000000e+000, 0.00000000e+000, 0.00000000e+000],\n",
       "       [0.00000000e+000, 0.00000000e+000, 1.16776212e-002,\n",
       "        0.00000000e+000, 0.00000000e+000, 0.00000000e+000],\n",
       "       [0.00000000e+000, 0.00000000e+000, 1.48701650e-016,\n",
       "        0.00000000e+000, 0.00000000e+000, 0.00000000e+000],\n",
       "       [0.00000000e+000, 0.00000000e+000, 7.05114719e-004,\n",
       "        0.00000000e+000, 0.00000000e+000, 0.00000000e+000],\n",
       "       [0.00000000e+000, 0.00000000e+000, 7.94013881e-005,\n",
       "        0.00000000e+000, 0.00000000e+000, 0.00000000e+000],\n",
       "       [0.00000000e+000, 0.00000000e+000, 4.57179149e-004,\n",
       "        0.00000000e+000, 0.00000000e+000, 0.00000000e+000],\n",
       "       [0.00000000e+000, 0.00000000e+000, 6.92763333e-012,\n",
       "        0.00000000e+000, 0.00000000e+000, 0.00000000e+000],\n",
       "       [3.00467459e-037, 0.00000000e+000, 1.10842142e-074,\n",
       "        0.00000000e+000, 0.00000000e+000, 0.00000000e+000],\n",
       "       [0.00000000e+000, 0.00000000e+000, 4.91757537e-125,\n",
       "        0.00000000e+000, 3.39466861e-023, 0.00000000e+000],\n",
       "       [3.79378105e-039, 0.00000000e+000, 9.33407494e-059,\n",
       "        0.00000000e+000, 0.00000000e+000, 0.00000000e+000],\n",
       "       [0.00000000e+000, 0.00000000e+000, 7.86811996e-060,\n",
       "        0.00000000e+000, 0.00000000e+000, 0.00000000e+000],\n",
       "       [0.00000000e+000, 0.00000000e+000, 2.85372651e-025,\n",
       "        0.00000000e+000, 0.00000000e+000, 0.00000000e+000],\n",
       "       [0.00000000e+000, 0.00000000e+000, 4.11069116e-057,\n",
       "        0.00000000e+000, 0.00000000e+000, 0.00000000e+000],\n",
       "       [1.89674771e-002, 0.00000000e+000, 6.92763347e-028,\n",
       "        0.00000000e+000, 0.00000000e+000, 0.00000000e+000],\n",
       "       [7.51112190e-105, 1.66121610e-005, 6.92763444e-140,\n",
       "        0.00000000e+000, 0.00000000e+000, 0.00000000e+000],\n",
       "       [7.51112100e-009, 8.88321531e-023, 6.92763361e-044,\n",
       "        0.00000000e+000, 0.00000000e+000, 0.00000000e+000],\n",
       "       [1.26060773e-016, 3.55328612e-022, 2.77105350e-059,\n",
       "        0.00000000e+000, 0.00000000e+000, 0.00000000e+000],\n",
       "       [2.64463161e-017, 3.88925715e-023, 1.38552676e-067,\n",
       "        0.00000000e+000, 0.00000000e+000, 0.00000000e+000],\n",
       "       [7.43657028e-109, 2.55233087e-001, 6.92763458e-156,\n",
       "        0.00000000e+000, 2.35740881e-041, 0.00000000e+000],\n",
       "       [0.00000000e+000, 0.00000000e+000, 6.92763402e-092,\n",
       "        4.55883476e-001, 0.00000000e+000, 0.00000000e+000],\n",
       "       [0.00000000e+000, 0.00000000e+000, 6.92763402e-092,\n",
       "        6.51262108e-003, 0.00000000e+000, 0.00000000e+000],\n",
       "       [1.50222421e-016, 2.84547153e-020, 1.38552674e-051,\n",
       "        0.00000000e+000, 0.00000000e+000, 0.00000000e+000],\n",
       "       [0.00000000e+000, 0.00000000e+000, 4.43368560e-058,\n",
       "        0.00000000e+000, 0.00000000e+000, 0.00000000e+000],\n",
       "       [0.00000000e+000, 0.00000000e+000, 1.93403164e-009,\n",
       "        0.00000000e+000, 0.00000000e+000, 0.00000000e+000],\n",
       "       [1.75946088e-005, 9.98355256e-030, 6.92763375e-060,\n",
       "        0.00000000e+000, 0.00000000e+000, 0.00000000e+000],\n",
       "       [3.71837669e-003, 4.73771488e-032, 6.92763361e-044,\n",
       "        0.00000000e+000, 0.00000000e+000, 0.00000000e+000],\n",
       "       [7.47375216e-003, 8.88321531e-023, 6.92763361e-044,\n",
       "        0.00000000e+000, 0.00000000e+000, 0.00000000e+000],\n",
       "       [3.71837669e-003, 4.73771488e-032, 6.92763361e-044,\n",
       "        0.00000000e+000, 0.00000000e+000, 0.00000000e+000],\n",
       "       [3.71837669e-003, 4.73771488e-032, 6.92763361e-044,\n",
       "        0.00000000e+000, 0.00000000e+000, 0.00000000e+000]])"
      ]
     },
     "execution_count": 30,
     "metadata": {},
     "output_type": "execute_result"
    }
   ],
   "source": [
    "## text with all admix:\n",
    "\n",
    "hapmix= nwind[~samp_keep]\n",
    "zt_prod=[hap_lik(x, freq_array,n= 2,cov= False) for x in hapmix]\n",
    "zt_prod= np.array(zt_prod)\n",
    "zt_prod"
   ]
  },
  {
   "cell_type": "code",
   "execution_count": 31,
   "metadata": {},
   "outputs": [
    {
     "data": {
      "text/plain": [
       "array([8.35804094e-22, 1.93403164e-09, 1.96675728e-10, 1.48701650e-16,\n",
       "       1.16776212e-02, 2.85372651e-25, 1.16776212e-02, 1.16776212e-02,\n",
       "       1.48701650e-16, 7.05114719e-04, 7.94013881e-05, 4.57179149e-04,\n",
       "       6.92763333e-12, 3.00467459e-37, 3.39466861e-23, 3.79378105e-39,\n",
       "       7.86811996e-60, 2.85372651e-25, 4.11069116e-57, 1.89674771e-02,\n",
       "       1.66121610e-05, 7.51112100e-09, 1.26060773e-16, 2.64463161e-17,\n",
       "       2.55233087e-01, 4.55883476e-01, 6.51262108e-03, 1.50222421e-16,\n",
       "       4.43368560e-58, 1.93403164e-09, 1.75946088e-05, 3.71837669e-03,\n",
       "       7.47375216e-03, 3.71837669e-03, 3.71837669e-03])"
      ]
     },
     "execution_count": 31,
     "metadata": {},
     "output_type": "execute_result"
    }
   ],
   "source": [
    "\n",
    "filt= np.max(zt_prod,axis= 1)\n",
    "filt"
   ]
  },
  {
   "cell_type": "code",
   "execution_count": 32,
   "metadata": {},
   "outputs": [
    {
     "data": {
      "text/plain": [
       "array([2, 2, 2, 2, 2, 2, 2, 2, 2, 2, 2, 2, 2, 0, 4, 0, 2, 2, 2, 0, 1, 0,\n",
       "       0, 0, 1, 3, 3, 0, 2, 2, 0, 0, 0, 0, 0], dtype=int32)"
      ]
     },
     "execution_count": 32,
     "metadata": {},
     "output_type": "execute_result"
    }
   ],
   "source": [
    "zt= [x for x in range(nwind.shape[0]) if not samp_keep[x]]\n",
    "np.argmax(zt_prod,axis= 1)"
   ]
  },
  {
   "cell_type": "code",
   "execution_count": 33,
   "metadata": {},
   "outputs": [
    {
     "data": {
      "text/plain": [
       "array([0, 2, 0, 0, 0, 0, 2, 0, 0, 0, 0, 0, 0, 0, 0, 0, 0, 0, 0, 0, 0, 0,\n",
       "       0, 2, 0, 0, 0, 0, 0, 0, 0, 0, 0, 2, 0, 0, 0, 1, 0, 0, 0, 0, 0, 0,\n",
       "       2, 0, 2, 0, 0, 0])"
      ]
     },
     "execution_count": 33,
     "metadata": {},
     "output_type": "execute_result"
    }
   ],
   "source": [
    "nwind[zt[0]]"
   ]
  },
  {
   "cell_type": "code",
   "execution_count": 34,
   "metadata": {},
   "outputs": [
    {
     "data": {
      "text/plain": [
       "array([[1.51735985e-04, 2.36885746e-40, 6.01873947e-36, 0.00000000e+00,\n",
       "        0.00000000e+00, 0.00000000e+00],\n",
       "       [1.51735985e-04, 2.36885746e-40, 6.01873947e-36, 0.00000000e+00,\n",
       "        0.00000000e+00, 0.00000000e+00],\n",
       "       [3.75556046e-01, 2.36885742e-24, 3.46381677e-36, 0.00000000e+00,\n",
       "        0.00000000e+00, 0.00000000e+00],\n",
       "       ...,\n",
       "       [3.75556046e-01, 2.36885742e-24, 3.46381677e-36, 0.00000000e+00,\n",
       "        0.00000000e+00, 0.00000000e+00],\n",
       "       [3.75556046e-01, 2.36885742e-24, 3.46381677e-36, 0.00000000e+00,\n",
       "        0.00000000e+00, 0.00000000e+00],\n",
       "       [3.75556046e-01, 2.36885742e-24, 3.46381677e-36, 0.00000000e+00,\n",
       "        0.00000000e+00, 0.00000000e+00]])"
      ]
     },
     "execution_count": 34,
     "metadata": {},
     "output_type": "execute_result"
    }
   ],
   "source": [
    "## text with all admix:\n",
    "ref_likes={\n",
    "    z: [hap_lik(nwind[x], freq_array,n= 2,cov= False) for x in label_select[z]] for z in label_select.keys()\n",
    "}\n",
    "ref_likes= {z: np.array(g) for z,g in ref_likes.items()}\n",
    "\n",
    "ref_likes[0]"
   ]
  },
  {
   "cell_type": "code",
   "execution_count": 36,
   "metadata": {},
   "outputs": [
    {
     "data": {
      "text/plain": [
       "array([[0.00000000e+00, 0.00000000e+00, 9.83378628e-03, 0.00000000e+00,\n",
       "        0.00000000e+00, 0.00000000e+00],\n",
       "       [0.00000000e+00, 0.00000000e+00, 9.83378628e-03, 0.00000000e+00,\n",
       "        0.00000000e+00, 0.00000000e+00],\n",
       "       [0.00000000e+00, 0.00000000e+00, 9.83378628e-03, 0.00000000e+00,\n",
       "        0.00000000e+00, 0.00000000e+00],\n",
       "       [0.00000000e+00, 0.00000000e+00, 9.83378628e-03, 0.00000000e+00,\n",
       "        0.00000000e+00, 0.00000000e+00],\n",
       "       [0.00000000e+00, 0.00000000e+00, 9.83378628e-03, 0.00000000e+00,\n",
       "        0.00000000e+00, 0.00000000e+00],\n",
       "       [0.00000000e+00, 0.00000000e+00, 9.83378628e-03, 0.00000000e+00,\n",
       "        0.00000000e+00, 0.00000000e+00],\n",
       "       [0.00000000e+00, 0.00000000e+00, 5.65939662e-03, 0.00000000e+00,\n",
       "        0.00000000e+00, 0.00000000e+00],\n",
       "       [0.00000000e+00, 0.00000000e+00, 9.83378628e-03, 0.00000000e+00,\n",
       "        0.00000000e+00, 0.00000000e+00],\n",
       "       [0.00000000e+00, 0.00000000e+00, 8.35804094e-22, 0.00000000e+00,\n",
       "        0.00000000e+00, 0.00000000e+00],\n",
       "       [0.00000000e+00, 0.00000000e+00, 1.93403164e-09, 0.00000000e+00,\n",
       "        0.00000000e+00, 0.00000000e+00],\n",
       "       [0.00000000e+00, 0.00000000e+00, 1.96675728e-10, 0.00000000e+00,\n",
       "        0.00000000e+00, 0.00000000e+00],\n",
       "       [0.00000000e+00, 0.00000000e+00, 3.93351451e-06, 0.00000000e+00,\n",
       "        0.00000000e+00, 0.00000000e+00],\n",
       "       [0.00000000e+00, 0.00000000e+00, 9.83378628e-03, 0.00000000e+00,\n",
       "        0.00000000e+00, 0.00000000e+00],\n",
       "       [0.00000000e+00, 0.00000000e+00, 9.83378628e-03, 0.00000000e+00,\n",
       "        0.00000000e+00, 0.00000000e+00],\n",
       "       [0.00000000e+00, 0.00000000e+00, 1.48701650e-16, 0.00000000e+00,\n",
       "        0.00000000e+00, 0.00000000e+00],\n",
       "       [0.00000000e+00, 0.00000000e+00, 1.16776212e-02, 0.00000000e+00,\n",
       "        0.00000000e+00, 0.00000000e+00],\n",
       "       [0.00000000e+00, 0.00000000e+00, 2.85372651e-25, 0.00000000e+00,\n",
       "        0.00000000e+00, 0.00000000e+00],\n",
       "       [0.00000000e+00, 0.00000000e+00, 1.16776212e-02, 0.00000000e+00,\n",
       "        0.00000000e+00, 0.00000000e+00],\n",
       "       [0.00000000e+00, 0.00000000e+00, 9.83378628e-03, 0.00000000e+00,\n",
       "        0.00000000e+00, 0.00000000e+00],\n",
       "       [0.00000000e+00, 0.00000000e+00, 9.83378628e-03, 0.00000000e+00,\n",
       "        0.00000000e+00, 0.00000000e+00],\n",
       "       [0.00000000e+00, 0.00000000e+00, 1.47727956e-20, 0.00000000e+00,\n",
       "        0.00000000e+00, 0.00000000e+00],\n",
       "       [0.00000000e+00, 0.00000000e+00, 9.83378628e-03, 0.00000000e+00,\n",
       "        0.00000000e+00, 0.00000000e+00],\n",
       "       [0.00000000e+00, 0.00000000e+00, 3.46381663e-04, 0.00000000e+00,\n",
       "        0.00000000e+00, 0.00000000e+00],\n",
       "       [0.00000000e+00, 0.00000000e+00, 9.83378628e-03, 0.00000000e+00,\n",
       "        0.00000000e+00, 0.00000000e+00],\n",
       "       [0.00000000e+00, 0.00000000e+00, 3.08587874e-09, 0.00000000e+00,\n",
       "        0.00000000e+00, 0.00000000e+00],\n",
       "       [0.00000000e+00, 0.00000000e+00, 9.83378628e-03, 0.00000000e+00,\n",
       "        0.00000000e+00, 0.00000000e+00],\n",
       "       [0.00000000e+00, 0.00000000e+00, 1.16776212e-02, 0.00000000e+00,\n",
       "        0.00000000e+00, 0.00000000e+00],\n",
       "       [0.00000000e+00, 0.00000000e+00, 9.83378628e-03, 0.00000000e+00,\n",
       "        0.00000000e+00, 0.00000000e+00],\n",
       "       [0.00000000e+00, 0.00000000e+00, 9.83378628e-03, 0.00000000e+00,\n",
       "        0.00000000e+00, 0.00000000e+00],\n",
       "       [0.00000000e+00, 0.00000000e+00, 9.83378628e-03, 0.00000000e+00,\n",
       "        0.00000000e+00, 0.00000000e+00],\n",
       "       [0.00000000e+00, 0.00000000e+00, 1.48701650e-16, 0.00000000e+00,\n",
       "        0.00000000e+00, 0.00000000e+00],\n",
       "       [0.00000000e+00, 0.00000000e+00, 9.83378628e-03, 0.00000000e+00,\n",
       "        0.00000000e+00, 0.00000000e+00],\n",
       "       [0.00000000e+00, 0.00000000e+00, 9.83378628e-03, 0.00000000e+00,\n",
       "        0.00000000e+00, 0.00000000e+00],\n",
       "       [0.00000000e+00, 0.00000000e+00, 7.05114719e-04, 0.00000000e+00,\n",
       "        0.00000000e+00, 0.00000000e+00],\n",
       "       [0.00000000e+00, 0.00000000e+00, 7.94013881e-05, 0.00000000e+00,\n",
       "        0.00000000e+00, 0.00000000e+00],\n",
       "       [0.00000000e+00, 0.00000000e+00, 9.83378628e-03, 0.00000000e+00,\n",
       "        0.00000000e+00, 0.00000000e+00],\n",
       "       [0.00000000e+00, 0.00000000e+00, 9.83378628e-03, 0.00000000e+00,\n",
       "        0.00000000e+00, 0.00000000e+00],\n",
       "       [0.00000000e+00, 0.00000000e+00, 9.83378628e-03, 0.00000000e+00,\n",
       "        0.00000000e+00, 0.00000000e+00],\n",
       "       [0.00000000e+00, 0.00000000e+00, 4.57179149e-04, 0.00000000e+00,\n",
       "        0.00000000e+00, 0.00000000e+00],\n",
       "       [0.00000000e+00, 0.00000000e+00, 9.83378628e-03, 0.00000000e+00,\n",
       "        0.00000000e+00, 0.00000000e+00],\n",
       "       [0.00000000e+00, 0.00000000e+00, 6.92763333e-12, 0.00000000e+00,\n",
       "        0.00000000e+00, 0.00000000e+00],\n",
       "       [0.00000000e+00, 0.00000000e+00, 9.83378628e-03, 0.00000000e+00,\n",
       "        0.00000000e+00, 0.00000000e+00],\n",
       "       [0.00000000e+00, 0.00000000e+00, 7.86811996e-60, 0.00000000e+00,\n",
       "        0.00000000e+00, 0.00000000e+00],\n",
       "       [0.00000000e+00, 0.00000000e+00, 2.85372651e-25, 0.00000000e+00,\n",
       "        0.00000000e+00, 0.00000000e+00],\n",
       "       [0.00000000e+00, 0.00000000e+00, 1.93403164e-11, 0.00000000e+00,\n",
       "        0.00000000e+00, 0.00000000e+00],\n",
       "       [0.00000000e+00, 0.00000000e+00, 4.11069116e-57, 0.00000000e+00,\n",
       "        0.00000000e+00, 0.00000000e+00],\n",
       "       [0.00000000e+00, 0.00000000e+00, 3.46381663e-04, 0.00000000e+00,\n",
       "        0.00000000e+00, 0.00000000e+00],\n",
       "       [0.00000000e+00, 0.00000000e+00, 4.43368560e-58, 0.00000000e+00,\n",
       "        0.00000000e+00, 0.00000000e+00],\n",
       "       [0.00000000e+00, 0.00000000e+00, 1.93403164e-09, 0.00000000e+00,\n",
       "        0.00000000e+00, 0.00000000e+00],\n",
       "       [0.00000000e+00, 0.00000000e+00, 3.46381663e-04, 0.00000000e+00,\n",
       "        0.00000000e+00, 0.00000000e+00],\n",
       "       [0.00000000e+00, 0.00000000e+00, 3.46381663e-04, 0.00000000e+00,\n",
       "        0.00000000e+00, 0.00000000e+00]])"
      ]
     },
     "execution_count": 36,
     "metadata": {},
     "output_type": "execute_result"
    }
   ],
   "source": [
    "ref_likes[2]"
   ]
  },
  {
   "cell_type": "code",
   "execution_count": null,
   "metadata": {},
   "outputs": [],
   "source": [
    "nwind[label_select[6],:]"
   ]
  },
  {
   "cell_type": "code",
   "execution_count": null,
   "metadata": {},
   "outputs": [],
   "source": [
    "label_select[6]"
   ]
  },
  {
   "cell_type": "code",
   "execution_count": null,
   "metadata": {},
   "outputs": [],
   "source": [
    "hap_lik(nwind[296], freq_array,n= 2,cov= False)"
   ]
  },
  {
   "cell_type": "code",
   "execution_count": null,
   "metadata": {},
   "outputs": [],
   "source": [
    "t= binom.pmf(nwind[296],2,freq_array)\n",
    "np.prod(t,axis= 1)\n",
    "#np.prod(t)"
   ]
  },
  {
   "cell_type": "code",
   "execution_count": null,
   "metadata": {},
   "outputs": [],
   "source": [
    "hapmix"
   ]
  },
  {
   "cell_type": "code",
   "execution_count": null,
   "metadata": {},
   "outputs": [],
   "source": []
  },
  {
   "cell_type": "code",
   "execution_count": 20,
   "metadata": {},
   "outputs": [
    {
     "data": {
      "text/plain": [
       "array([[   0,   98],\n",
       "       [   0,  420],\n",
       "       [   0,  539],\n",
       "       ...,\n",
       "       [ 383, 3110],\n",
       "       [ 383, 3436],\n",
       "       [ 384,  951]], dtype=int32)"
      ]
     },
     "execution_count": 20,
     "metadata": {},
     "output_type": "execute_result"
    }
   ],
   "source": [
    "het_char= genotype==1\n",
    "tfoc= np.where(het_char==1)\n",
    "tfoc= np.array(tfoc).T\n",
    "\n",
    "select_idx= np.random.randint(0,tfoc.shape[0],1)[0]\n",
    "tf= tfoc[select_idx]\n",
    "\n",
    "tfoc"
   ]
  },
  {
   "cell_type": "code",
   "execution_count": 30,
   "metadata": {},
   "outputs": [
    {
     "name": "stdout",
     "output_type": "stream",
     "text": [
      "1\n"
     ]
    },
    {
     "data": {
      "text/plain": [
       "(385, 21)"
      ]
     },
     "execution_count": 30,
     "metadata": {},
     "output_type": "execute_result"
    }
   ],
   "source": [
    "\n",
    "\n",
    "def get_hetWind(genotype, tf,wmax= 20, hom= 2):\n",
    "    tf_pos= tf[1]\n",
    "    tf_acc= tf[0]\n",
    "    print(genotype[tf_acc,tf_pos])\n",
    "    dl= int(tf_pos) - 1\n",
    "    du= int(tf_pos) + 1\n",
    "    \n",
    "    pos= [tf_pos]\n",
    "    for idx in range(wmax):\n",
    "        if genotype[tf_acc,dl] != hom:\n",
    "            pos.append(dl)\n",
    "            dl -= 1\n",
    "        if genotype[tf_acc,du] != hom:\n",
    "            pos.append(du)\n",
    "            du += 1\n",
    "    \n",
    "    return sorted(pos)\n",
    "\n",
    "tf_acc= tf[0]\n",
    "tf_pos= tf[1]\n",
    "\n",
    "wind_idx= get_hetWind(genotype, tf,wmax= 10, hom= 2)\n",
    "nwind= genotype[:,wind_idx]\n",
    "nwind.shape"
   ]
  },
  {
   "cell_type": "code",
   "execution_count": 31,
   "metadata": {},
   "outputs": [
    {
     "data": {
      "text/plain": [
       "array([0, 1, 0, 0, 0, 0, 0, 1, 0, 0, 1, 0, 1, 0, 0, 0, 0, 0, 0, 0, 0])"
      ]
     },
     "execution_count": 31,
     "metadata": {},
     "output_type": "execute_result"
    }
   ],
   "source": [
    "nwind[tf_acc]"
   ]
  },
  {
   "cell_type": "code",
   "execution_count": 61,
   "metadata": {},
   "outputs": [
    {
     "name": "stdout",
     "output_type": "stream",
     "text": [
      "363\n"
     ]
    }
   ],
   "source": [
    "\n",
    "## samp keep - samples without het or nan at this window\n",
    "samp_keep= lkeep_func(nwind, **lkeep_args)\n",
    "print(sum(samp_keep))\n",
    "\n",
    "### process local window - convert to haplotypes - keep only code_keep\n",
    "local_l= lproc_func(nwind,**lproc_args)\n",
    "\n",
    "##\n",
    "## local PCA and PCA transform\n",
    "##\n",
    "pca_special= dr_obj.fit(local_l[samp_keep])\n",
    "featl= pca_special.transform(local_l)\n",
    "\n",
    "##"
   ]
  },
  {
   "cell_type": "code",
   "execution_count": 62,
   "metadata": {},
   "outputs": [
    {
     "data": {
      "application/vnd.plotly.v1+json": {
       "config": {
        "linkText": "Export to plot.ly",
        "plotlyServerURL": "https://plot.ly",
        "showLink": false
       },
       "data": [
        {
         "mode": "markers",
         "name": "0",
         "text": [
          "020000020000200002000",
          "020000020000200002000",
          "020000020000200002000",
          "020000020000200002000",
          "020000020000200002000",
          "020000020000200002000",
          "020000020000200002000",
          "020000020000200002000",
          "020000020000200002000",
          "020000020000200002000",
          "020000020000200002000",
          "020000020000200002000",
          "020000020000200002000",
          "020000020000200002000",
          "020000020000200002000",
          "020000020000200002000",
          "020000020000200002000",
          "020000020000200002000",
          "020000020000200002000",
          "020000020000200002000",
          "020000020000200002000",
          "020000020000200002000",
          "020000020000200002000",
          "020000020000200002000",
          "020000020000200002000",
          "020000020000200002000",
          "020000020000200002000",
          "020000020000200002000",
          "020000020000200002000",
          "020000020000200002000",
          "020000020000200002000",
          "020000020000200002000",
          "020000020000200002000",
          "020000020000200002000",
          "020000020000200002000",
          "020000020000200002000",
          "020000020000200002000",
          "020000020000200002000",
          "020000020000200002000",
          "020000020000200002000",
          "020000020000200002000",
          "020000020000200002000",
          "020000020000200002000",
          "020000020000200002000",
          "020000020000200002000",
          "020000020000200002000",
          "020000020000200002000",
          "020000020000200002000",
          "020000020000200002000",
          "020000020000200002000",
          "020000020000200002000",
          "020000020000200002000",
          "020000020000200002000",
          "020000020000200002000",
          "020000020000200002000",
          "020000020000200002000",
          "020000020000200002000",
          "020000020000200002000",
          "020000020000200002000",
          "020000020000200002000",
          "020000020000220002000",
          "020000020000200002000",
          "020000020000200002000",
          "020000020000200002000",
          "020000020000200002000",
          "020000020000200002000",
          "020000020000200002000",
          "020000020000200002000",
          "020000020000200002000",
          "020000020000220002000",
          "020000020000200002000",
          "020000020000200002000",
          "020000020000220002000",
          "020000020000220002000",
          "020000020000220002000",
          "020000020000220002000",
          "020000020000220002000",
          "020000020000220002000",
          "020000020000220002000",
          "020000020000200002000",
          "020000020000200002000",
          "020000020000200002000",
          "020000020000200002000",
          "020000020000200002000",
          "020000020000200002000",
          "020000020000200002000",
          "020000020000200002000",
          "020000020000200002000",
          "020000020000200002000",
          "020000020000200002000",
          "020000020000200002000",
          "020000020000200002000",
          "020000020000200002000",
          "020000020000200002000",
          "020000020000200002000",
          "020000020000200002000",
          "020000020000200002000",
          "020000020000200002000",
          "020000020000200002000",
          "020000020000200002000",
          "020000020000200002000",
          "020000020000200002000",
          "020000020000200002000",
          "020000020000200002000",
          "020000020000200002000",
          "020000020000200002000",
          "020000020000200002000",
          "020000020000200002000",
          "020000020000200002000",
          "020000020000200002000",
          "020000020000200002000",
          "020000020000200002000",
          "020000020000200002000",
          "020000020000200002000",
          "020000020000200002000",
          "020000020000200002000",
          "020000020000200002000",
          "020000020000200002000",
          "020000020000200002000",
          "020000020000200002000",
          "020000020000200002000",
          "020000020000200002000",
          "020000020000200002000",
          "020000020000200002000",
          "020000020000200002000",
          "020000020000200002000",
          "020000020000200002000",
          "020000020000200002000",
          "020000020000200002000",
          "020000020000200002000",
          "020000020000200002000",
          "020000020000200002000",
          "020000020000200002000",
          "020000020000200002000",
          "020000020000200002000",
          "020000020000200002000",
          "020000020000200002000",
          "020000020000200002000",
          "020000020000200002000",
          "020000020000200002000",
          "020000020000200002000",
          "020000020000200002000",
          "020000020000200002000",
          "020000020000200002000",
          "020000020000200002000",
          "020000020000200002000",
          "020000020000200002000",
          "020000020000200002000"
         ],
         "type": "scatter",
         "x": [
          -0.9102296243377048,
          -0.9102296243377048,
          -0.9102296243377048,
          -0.9102296243377048,
          -0.9102296243377048,
          -0.9102296243377048,
          -0.9102296243377048,
          -0.9102296243377048,
          -0.9102296243377048,
          -0.9102296243377048,
          -0.9102296243377048,
          -0.9102296243377048,
          -0.9102296243377048,
          -0.9102296243377048,
          -0.9102296243377048,
          -0.9102296243377048,
          -0.9102296243377048,
          -0.9102296243377048,
          -0.9102296243377048,
          -0.9102296243377048,
          -0.9102296243377048,
          -0.9102296243377048,
          -0.9102296243377048,
          -0.9102296243377048,
          -0.9102296243377048,
          -0.9102296243377048,
          -0.9102296243377048,
          -0.9102296243377048,
          -0.9102296243377048,
          -0.9102296243377048,
          -0.9102296243377048,
          -0.9102296243377048,
          -0.9102296243377048,
          -0.9102296243377048,
          -0.9102296243377048,
          -0.9102296243377048,
          -0.9102296243377048,
          -0.9102296243377048,
          -0.9102296243377048,
          -0.9102296243377048,
          -0.9102296243377048,
          -0.9102296243377048,
          -0.9102296243377048,
          -0.9102296243377048,
          -0.9102296243377048,
          -0.9102296243377048,
          -0.9102296243377048,
          -0.9102296243377048,
          -0.9102296243377048,
          -0.9102296243377048,
          -0.9102296243377048,
          -0.9102296243377048,
          -0.9102296243377048,
          -0.9102296243377048,
          -0.9102296243377048,
          -0.9102296243377048,
          -0.9102296243377048,
          -0.9102296243377048,
          -0.9102296243377048,
          -0.9102296243377048,
          -0.9339921444171726,
          -0.9102296243377048,
          -0.9102296243377048,
          -0.9102296243377048,
          -0.9102296243377048,
          -0.9102296243377048,
          -0.9102296243377048,
          -0.9102296243377048,
          -0.9102296243377048,
          -0.9339921444171726,
          -0.9102296243377048,
          -0.9102296243377048,
          -0.9339921444171726,
          -0.9339921444171726,
          -0.9339921444171726,
          -0.9339921444171726,
          -0.9339921444171726,
          -0.9339921444171726,
          -0.9339921444171726,
          -0.9102296243377048,
          -0.9102296243377048,
          -0.9102296243377048,
          -0.9102296243377048,
          -0.9102296243377048,
          -0.9102296243377048,
          -0.9102296243377048,
          -0.9102296243377048,
          -0.9102296243377048,
          -0.9102296243377048,
          -0.9102296243377048,
          -0.9102296243377048,
          -0.9102296243377048,
          -0.9102296243377048,
          -0.9102296243377048,
          -0.9102296243377048,
          -0.9102296243377048,
          -0.9102296243377048,
          -0.9102296243377048,
          -0.9102296243377048,
          -0.9102296243377048,
          -0.9102296243377048,
          -0.9102296243377048,
          -0.9102296243377048,
          -0.9102296243377048,
          -0.9102296243377048,
          -0.9102296243377048,
          -0.9102296243377048,
          -0.9102296243377048,
          -0.9102296243377048,
          -0.9102296243377048,
          -0.9102296243377048,
          -0.9102296243377048,
          -0.9102296243377048,
          -0.9102296243377048,
          -0.9102296243377048,
          -0.9102296243377048,
          -0.9102296243377048,
          -0.9102296243377048,
          -0.9102296243377048,
          -0.9102296243377048,
          -0.9102296243377048,
          -0.9102296243377048,
          -0.9102296243377048,
          -0.9102296243377048,
          -0.9102296243377048,
          -0.9102296243377048,
          -0.9102296243377048,
          -0.9102296243377048,
          -0.9102296243377048,
          -0.9102296243377048,
          -0.9102296243377048,
          -0.9102296243377048,
          -0.9102296243377048,
          -0.9102296243377048,
          -0.9102296243377048,
          -0.9102296243377048,
          -0.9102296243377048,
          -0.9102296243377048,
          -0.9102296243377048,
          -0.9102296243377048,
          -0.9102296243377048,
          -0.9102296243377048,
          -0.9102296243377048,
          -0.9102296243377048,
          -0.9102296243377048,
          -0.9102296243377048,
          -0.9102296243377048,
          -0.9102296243377048
         ],
         "y": [
          -0.290989415961251,
          -0.290989415961251,
          -0.290989415961251,
          -0.290989415961251,
          -0.290989415961251,
          -0.290989415961251,
          -0.290989415961251,
          -0.290989415961251,
          -0.290989415961251,
          -0.290989415961251,
          -0.290989415961251,
          -0.290989415961251,
          -0.290989415961251,
          -0.290989415961251,
          -0.290989415961251,
          -0.290989415961251,
          -0.290989415961251,
          -0.290989415961251,
          -0.290989415961251,
          -0.290989415961251,
          -0.290989415961251,
          -0.290989415961251,
          -0.290989415961251,
          -0.290989415961251,
          -0.290989415961251,
          -0.290989415961251,
          -0.290989415961251,
          -0.290989415961251,
          -0.290989415961251,
          -0.290989415961251,
          -0.290989415961251,
          -0.290989415961251,
          -0.290989415961251,
          -0.290989415961251,
          -0.290989415961251,
          -0.290989415961251,
          -0.290989415961251,
          -0.290989415961251,
          -0.290989415961251,
          -0.290989415961251,
          -0.290989415961251,
          -0.290989415961251,
          -0.290989415961251,
          -0.290989415961251,
          -0.290989415961251,
          -0.290989415961251,
          -0.290989415961251,
          -0.290989415961251,
          -0.290989415961251,
          -0.290989415961251,
          -0.290989415961251,
          -0.290989415961251,
          -0.290989415961251,
          -0.290989415961251,
          -0.290989415961251,
          -0.290989415961251,
          -0.290989415961251,
          -0.290989415961251,
          -0.290989415961251,
          -0.290989415961251,
          -0.3215578139630058,
          -0.290989415961251,
          -0.290989415961251,
          -0.290989415961251,
          -0.290989415961251,
          -0.290989415961251,
          -0.290989415961251,
          -0.290989415961251,
          -0.290989415961251,
          -0.3215578139630058,
          -0.290989415961251,
          -0.290989415961251,
          -0.3215578139630058,
          -0.3215578139630058,
          -0.3215578139630058,
          -0.3215578139630058,
          -0.3215578139630058,
          -0.3215578139630058,
          -0.3215578139630058,
          -0.290989415961251,
          -0.290989415961251,
          -0.290989415961251,
          -0.290989415961251,
          -0.290989415961251,
          -0.290989415961251,
          -0.290989415961251,
          -0.290989415961251,
          -0.290989415961251,
          -0.290989415961251,
          -0.290989415961251,
          -0.290989415961251,
          -0.290989415961251,
          -0.290989415961251,
          -0.290989415961251,
          -0.290989415961251,
          -0.290989415961251,
          -0.290989415961251,
          -0.290989415961251,
          -0.290989415961251,
          -0.290989415961251,
          -0.290989415961251,
          -0.290989415961251,
          -0.290989415961251,
          -0.290989415961251,
          -0.290989415961251,
          -0.290989415961251,
          -0.290989415961251,
          -0.290989415961251,
          -0.290989415961251,
          -0.290989415961251,
          -0.290989415961251,
          -0.290989415961251,
          -0.290989415961251,
          -0.290989415961251,
          -0.290989415961251,
          -0.290989415961251,
          -0.290989415961251,
          -0.290989415961251,
          -0.290989415961251,
          -0.290989415961251,
          -0.290989415961251,
          -0.290989415961251,
          -0.290989415961251,
          -0.290989415961251,
          -0.290989415961251,
          -0.290989415961251,
          -0.290989415961251,
          -0.290989415961251,
          -0.290989415961251,
          -0.290989415961251,
          -0.290989415961251,
          -0.290989415961251,
          -0.290989415961251,
          -0.290989415961251,
          -0.290989415961251,
          -0.290989415961251,
          -0.290989415961251,
          -0.290989415961251,
          -0.290989415961251,
          -0.290989415961251,
          -0.290989415961251,
          -0.290989415961251,
          -0.290989415961251,
          -0.290989415961251,
          -0.290989415961251,
          -0.290989415961251,
          -0.290989415961251,
          -0.290989415961251
         ]
        },
        {
         "mode": "markers",
         "name": "1",
         "text": [
          "000200000000200202002",
          "000200000000200202002",
          "000200000000200202002",
          "000200000000200202002",
          "000200000000200202002",
          "000200000000200202002",
          "000200000000200202002",
          "000200000000200202002",
          "000200000000200202002",
          "000200000000200202002",
          "000200000000200202002",
          "000200000000200202002",
          "000200000000200202002",
          "000200000000200202002",
          "000200000000200202002",
          "000200000000200202002",
          "000200000000200202002",
          "000200000000200202002",
          "000200000000200202002",
          "000200000000200202022",
          "000200000000200202002",
          "000200000000200202002",
          "000200000000200202002",
          "000200000000200202002",
          "000200000000200202002",
          "000200000000200202002",
          "000200000000200202002",
          "000200000000200202002",
          "000200000000200202002",
          "000200000000200202002",
          "000200000000200202002",
          "000200000000200202002",
          "000200000000200202002",
          "000200000000200202002",
          "000200000000200202002",
          "000200000000200202002",
          "000200000000200202002",
          "000200000000200202002",
          "000200000000200202002",
          "000200000000200202002",
          "000200000000200202002",
          "000200000000200202002",
          "000200000000200202002",
          "000200000000200202002",
          "000200000000200202002",
          "000200000000200202002",
          "000200000000200202002",
          "000200000000200202002",
          "000200000000200202002",
          "000200000000200202002",
          "000200000000200202002",
          "000200000000200202002",
          "000200000000200202002",
          "000200000000200202002",
          "000200000000200202002",
          "000200000000200202002",
          "000200000000200202002",
          "000200000000200202002",
          "000200000000200202002",
          "000200000000200202002",
          "000200000000200202002",
          "000200000000200202002",
          "000200000000200202002",
          "000200000000200202002",
          "000200000000200202002",
          "000200000000200202002",
          "000200000000200202002",
          "000200000000200202002",
          "000200000000200202002",
          "000200000000200202002",
          "000200000000200202002",
          "000200000000200202002",
          "000200000000200202002",
          "000200000000200202002",
          "000200000000200202002",
          "000200000000200202002",
          "000200000000200202002",
          "000200000000200202002",
          "000200000000200202002",
          "000200000000200202002",
          "000200000000200202002",
          "000200000000200202002",
          "000200000000200202002",
          "000200000000200202002",
          "000200000000200202002",
          "000200000000200202002",
          "000200000000200202002",
          "000200000000200202002",
          "000200000000200202002",
          "000200000000200202002",
          "000200000000200202002",
          "000200000000200202002",
          "000200000000200202002",
          "000200000000200202002",
          "000200000000200202002",
          "000200000000200202002",
          "000200000000200202002",
          "000200000000200202002",
          "000200000000200202002",
          "000200000000200202002",
          "000200000000200202002",
          "000200000000200202002",
          "000200000000200202002",
          "000200000000200202002",
          "000200000000200202002",
          "000200000000200202002",
          "000200000000200202002",
          "000200000000200202002",
          "000200000000200202002",
          "000200000000200202002",
          "000200000000200202002",
          "000200000000200202002",
          "000200000000200202002",
          "000200000000200202002",
          "000200000000200202002",
          "000200000000200202002",
          "000200000000200202002",
          "000200000000200202002",
          "000200000000200202002"
         ],
         "type": "scatter",
         "x": [
          1.3135665156083145,
          1.3135665156083145,
          1.3135665156083145,
          1.3135665156083145,
          1.3135665156083145,
          1.3135665156083145,
          1.3135665156083145,
          1.3135665156083145,
          1.3135665156083145,
          1.3135665156083145,
          1.3135665156083145,
          1.3135665156083145,
          1.3135665156083145,
          1.3135665156083145,
          1.3135665156083145,
          1.3135665156083145,
          1.3135665156083145,
          1.3135665156083145,
          1.3135665156083145,
          1.3172903320776486,
          1.3135665156083145,
          1.3135665156083145,
          1.3135665156083145,
          1.3135665156083145,
          1.3135665156083145,
          1.3135665156083145,
          1.3135665156083145,
          1.3135665156083145,
          1.3135665156083145,
          1.3135665156083145,
          1.3135665156083145,
          1.3135665156083145,
          1.3135665156083145,
          1.3135665156083145,
          1.3135665156083145,
          1.3135665156083145,
          1.3135665156083145,
          1.3135665156083145,
          1.3135665156083145,
          1.3135665156083145,
          1.3135665156083145,
          1.3135665156083145,
          1.3135665156083145,
          1.3135665156083145,
          1.3135665156083145,
          1.3135665156083145,
          1.3135665156083145,
          1.3135665156083145,
          1.3135665156083145,
          1.3135665156083145,
          1.3135665156083145,
          1.3135665156083145,
          1.3135665156083145,
          1.3135665156083145,
          1.3135665156083145,
          1.3135665156083145,
          1.3135665156083145,
          1.3135665156083145,
          1.3135665156083145,
          1.3135665156083145,
          1.3135665156083145,
          1.3135665156083145,
          1.3135665156083145,
          1.3135665156083145,
          1.3135665156083145,
          1.3135665156083145,
          1.3135665156083145,
          1.3135665156083145,
          1.3135665156083145,
          1.3135665156083145,
          1.3135665156083145,
          1.3135665156083145,
          1.3135665156083145,
          1.3135665156083145,
          1.3135665156083145,
          1.3135665156083145,
          1.3135665156083145,
          1.3135665156083145,
          1.3135665156083145,
          1.3135665156083145,
          1.3135665156083145,
          1.3135665156083145,
          1.3135665156083145,
          1.3135665156083145,
          1.3135665156083145,
          1.3135665156083145,
          1.3135665156083145,
          1.3135665156083145,
          1.3135665156083145,
          1.3135665156083145,
          1.3135665156083145,
          1.3135665156083145,
          1.3135665156083145,
          1.3135665156083145,
          1.3135665156083145,
          1.3135665156083145,
          1.3135665156083145,
          1.3135665156083145,
          1.3135665156083145,
          1.3135665156083145,
          1.3135665156083145,
          1.3135665156083145,
          1.3135665156083145,
          1.3135665156083145,
          1.3135665156083145,
          1.3135665156083145,
          1.3135665156083145,
          1.3135665156083145,
          1.3135665156083145,
          1.3135665156083145,
          1.3135665156083145,
          1.3135665156083145,
          1.3135665156083145,
          1.3135665156083145,
          1.3135665156083145,
          1.3135665156083145,
          1.3135665156083145,
          1.3135665156083145,
          1.3135665156083145
         ],
         "y": [
          -0.19555127919088594,
          -0.19555127919088594,
          -0.19555127919088594,
          -0.19555127919088594,
          -0.19555127919088594,
          -0.19555127919088594,
          -0.19555127919088594,
          -0.19555127919088594,
          -0.19555127919088594,
          -0.19555127919088594,
          -0.19555127919088594,
          -0.19555127919088594,
          -0.19555127919088594,
          -0.19555127919088594,
          -0.19555127919088594,
          -0.19555127919088594,
          -0.19555127919088594,
          -0.19555127919088594,
          -0.19555127919088594,
          -0.19763886071244238,
          -0.19555127919088594,
          -0.19555127919088594,
          -0.19555127919088594,
          -0.19555127919088594,
          -0.19555127919088594,
          -0.19555127919088594,
          -0.19555127919088594,
          -0.19555127919088594,
          -0.19555127919088594,
          -0.19555127919088594,
          -0.19555127919088594,
          -0.19555127919088594,
          -0.19555127919088594,
          -0.19555127919088594,
          -0.19555127919088594,
          -0.19555127919088594,
          -0.19555127919088594,
          -0.19555127919088594,
          -0.19555127919088594,
          -0.19555127919088594,
          -0.19555127919088594,
          -0.19555127919088594,
          -0.19555127919088594,
          -0.19555127919088594,
          -0.19555127919088594,
          -0.19555127919088594,
          -0.19555127919088594,
          -0.19555127919088594,
          -0.19555127919088594,
          -0.19555127919088594,
          -0.19555127919088594,
          -0.19555127919088594,
          -0.19555127919088594,
          -0.19555127919088594,
          -0.19555127919088594,
          -0.19555127919088594,
          -0.19555127919088594,
          -0.19555127919088594,
          -0.19555127919088594,
          -0.19555127919088594,
          -0.19555127919088594,
          -0.19555127919088594,
          -0.19555127919088594,
          -0.19555127919088594,
          -0.19555127919088594,
          -0.19555127919088594,
          -0.19555127919088594,
          -0.19555127919088594,
          -0.19555127919088594,
          -0.19555127919088594,
          -0.19555127919088594,
          -0.19555127919088594,
          -0.19555127919088594,
          -0.19555127919088594,
          -0.19555127919088594,
          -0.19555127919088594,
          -0.19555127919088594,
          -0.19555127919088594,
          -0.19555127919088594,
          -0.19555127919088594,
          -0.19555127919088594,
          -0.19555127919088594,
          -0.19555127919088594,
          -0.19555127919088594,
          -0.19555127919088594,
          -0.19555127919088594,
          -0.19555127919088594,
          -0.19555127919088594,
          -0.19555127919088594,
          -0.19555127919088594,
          -0.19555127919088594,
          -0.19555127919088594,
          -0.19555127919088594,
          -0.19555127919088594,
          -0.19555127919088594,
          -0.19555127919088594,
          -0.19555127919088594,
          -0.19555127919088594,
          -0.19555127919088594,
          -0.19555127919088594,
          -0.19555127919088594,
          -0.19555127919088594,
          -0.19555127919088594,
          -0.19555127919088594,
          -0.19555127919088594,
          -0.19555127919088594,
          -0.19555127919088594,
          -0.19555127919088594,
          -0.19555127919088594,
          -0.19555127919088594,
          -0.19555127919088594,
          -0.19555127919088594,
          -0.19555127919088594,
          -0.19555127919088594,
          -0.19555127919088594,
          -0.19555127919088594,
          -0.19555127919088594,
          -0.19555127919088594,
          -0.19555127919088594
         ]
        },
        {
         "mode": "markers",
         "name": "2",
         "text": [
          "000000020000200002000",
          "020000000002200002000",
          "000000020000200002000",
          "020000000002200002000",
          "020000010001200002000",
          "020000000002200002000",
          "020000000002200002000",
          "020000000002200002000",
          "020000000002200002000",
          "020000010000200002000",
          "020000000002200002000",
          "010000020000220002000",
          "020000000002200002000",
          "020000000002200002000",
          "010000020000200002000",
          "020000000002200002000",
          "020000000002200002000",
          "020000000002200002000",
          "020000000002200002000",
          "020000000002200002000",
          "020000000002200002000",
          "020000000002200002000",
          "020000000002200002000",
          "020000000002200002000",
          "020000000002200002000",
          "020000010000200002000",
          "020000000002200002000",
          "020000000002200002000",
          "000000020000200002000",
          "020000000002200002000",
          "020000000002200002000",
          "020000000002200002000",
          "020000000002200002000",
          "020000000002200002000",
          "020000000002200002000",
          "020000000002200002000",
          "020000000002200002000",
          "020000000002200002000",
          "020000000002200002000",
          "020000000002200002000",
          "020000000002200002000",
          "020000000002200002000",
          "020000000002200002000",
          "010000020000200002000",
          "020000000002200002000",
          "020000000002200002000",
          "020000000002200002000",
          "020000000002200002000",
          "020000000002200002000",
          "020000000002200002000",
          "020000000002200002000",
          "020000000002200002000",
          "020000000002200002000",
          "020000000002200002000",
          "010000020000200002000"
         ],
         "type": "scatter",
         "x": [
          -0.4500835890426577,
          -0.5985486534173161,
          -0.4500835890426577,
          -0.5985486534173161,
          -0.5224076254633662,
          -0.5985486534173161,
          -0.5985486534173161,
          -0.5985486534173161,
          -0.5985486534173161,
          -0.5224076254633662,
          -0.5985486534173161,
          -0.47384610912212555,
          -0.5985486534173161,
          -0.5985486534173161,
          -0.4500835890426577,
          -0.5985486534173161,
          -0.5985486534173161,
          -0.5985486534173161,
          -0.5985486534173161,
          -0.5985486534173161,
          -0.5985486534173161,
          -0.5985486534173161,
          -0.5985486534173161,
          -0.5985486534173161,
          -0.5985486534173161,
          -0.5224076254633662,
          -0.5985486534173161,
          -0.5985486534173161,
          -0.4500835890426577,
          -0.5985486534173161,
          -0.5985486534173161,
          -0.5985486534173161,
          -0.5985486534173161,
          -0.5985486534173161,
          -0.5985486534173161,
          -0.5985486534173161,
          -0.5985486534173161,
          -0.5985486534173161,
          -0.5985486534173161,
          -0.5985486534173161,
          -0.5985486534173161,
          -0.5985486534173161,
          -0.5985486534173161,
          -0.4500835890426577,
          -0.5985486534173161,
          -0.5985486534173161,
          -0.5985486534173161,
          -0.5985486534173161,
          -0.5985486534173161,
          -0.5985486534173161,
          -0.5985486534173161,
          -0.5985486534173161,
          -0.5985486534173161,
          -0.5985486534173161,
          -0.4500835890426577
         ],
         "y": [
          0.015927442458025742,
          0.3124198893891695,
          0.015927442458025742,
          0.3124198893891695,
          0.1639213129619293,
          0.3124198893891695,
          0.3124198893891695,
          0.3124198893891695,
          0.3124198893891695,
          0.1639213129619293,
          0.3124198893891695,
          -0.014640955543729017,
          0.3124198893891695,
          0.3124198893891695,
          0.015927442458025742,
          0.3124198893891695,
          0.3124198893891695,
          0.3124198893891695,
          0.3124198893891695,
          0.3124198893891695,
          0.3124198893891695,
          0.3124198893891695,
          0.3124198893891695,
          0.3124198893891695,
          0.3124198893891695,
          0.1639213129619293,
          0.3124198893891695,
          0.3124198893891695,
          0.015927442458025742,
          0.3124198893891695,
          0.3124198893891695,
          0.3124198893891695,
          0.3124198893891695,
          0.3124198893891695,
          0.3124198893891695,
          0.3124198893891695,
          0.3124198893891695,
          0.3124198893891695,
          0.3124198893891695,
          0.3124198893891695,
          0.3124198893891695,
          0.3124198893891695,
          0.3124198893891695,
          0.015927442458025742,
          0.3124198893891695,
          0.3124198893891695,
          0.3124198893891695,
          0.3124198893891695,
          0.3124198893891695,
          0.3124198893891695,
          0.3124198893891695,
          0.3124198893891695,
          0.3124198893891695,
          0.3124198893891695,
          0.015927442458025742
         ]
        },
        {
         "mode": "markers",
         "name": "3",
         "text": [
          "000000000020000000000",
          "000000000020002000000",
          "000000000020000000000",
          "010000010010100001000",
          "000000000020100000000",
          "000000000000000000000",
          "010000010010100000000",
          "000000000000000000000",
          "000100000000100101001",
          "000000000000000000000",
          "000000000000000000000",
          "000000000000000000000",
          "000000000000000000000",
          "000000000000000000000",
          "000000000000000000000",
          "000000000000000000000",
          "000000000000000000000",
          "000000000000000000000",
          "000000000000000000000",
          "000000000000000000000",
          "000000000000000000000",
          "000000000000000000000",
          "000000000000000000000",
          "000000000000000000000",
          "000000000000000000000",
          "000000000000000000000",
          "000000000000000000000",
          "000000000000100000000",
          "000000000000000000000",
          "000002202000000020000",
          "000000000000000000000",
          "000000000000000000000",
          "000000000000000000000",
          "000000000000000000000",
          "000000000000000000000",
          "000000000000000000000"
         ],
         "type": "scatter",
         "x": [
          -0.06916977497798185,
          -0.0693658636755716,
          -0.06916977497798185,
          -0.06858261752209202,
          -0.06916977497798185,
          -0.06858261752209202,
          -0.06858261752209202,
          -0.06858261752209202,
          -0.06858261752209202,
          -0.06858261752209202,
          -0.06858261752209202,
          -0.06858261752209202,
          -0.06858261752209202,
          -0.06858261752209202,
          -0.06858261752209202,
          -0.06858261752209202,
          -0.06858261752209202,
          -0.06858261752209202,
          -0.06858261752209202,
          -0.06858261752209202,
          -0.06858261752209202,
          -0.06858261752209202,
          -0.06858261752209202,
          -0.06858261752209202,
          -0.06858261752209202,
          -0.06858261752209202,
          -0.06858261752209202,
          -0.06858261752209202,
          -0.06858261752209202,
          -0.06936698499173825,
          -0.06858261752209202,
          -0.06858261752209202,
          -0.06858261752209202,
          -0.06858261752209202,
          -0.06858261752209202,
          -0.06858261752209202
         ],
         "y": [
          1.536944536966724,
          1.5533519827697093,
          1.536944536966724,
          1.4880688103462627,
          1.536944536966724,
          1.4880688103462627,
          1.4880688103462627,
          1.4880688103462627,
          1.4880688103462627,
          1.4880688103462627,
          1.4880688103462627,
          1.4880688103462627,
          1.4880688103462627,
          1.4880688103462627,
          1.4880688103462627,
          1.4880688103462627,
          1.4880688103462627,
          1.4880688103462627,
          1.4880688103462627,
          1.4880688103462627,
          1.4880688103462627,
          1.4880688103462627,
          1.4880688103462627,
          1.4880688103462627,
          1.4880688103462627,
          1.4880688103462627,
          1.4880688103462627,
          1.4880688103462627,
          1.4880688103462627,
          1.5537138840411404,
          1.4880688103462627,
          1.4880688103462627,
          1.4880688103462627,
          1.4880688103462627,
          1.4880688103462627,
          1.4880688103462627
         ]
        },
        {
         "mode": "markers",
         "name": "4",
         "text": [
          "202020000200200202200",
          "100000000100200202000",
          "202020000200200202200",
          "202020000200200202200",
          "202020000200200202200",
          "202020000200200202200",
          "202020000200200202200",
          "000020000200200202200",
          "101110000100200202101",
          "202020000200200202200"
         ],
         "type": "scatter",
         "x": [
          0.44876328584613717,
          0.40070717422765095,
          0.44876328584613717,
          0.44876328584613717,
          0.44876328584613717,
          0.44876328584613717,
          0.44876328584613717,
          0.4310029113594977,
          0.40070717422765095,
          0.44876328584613717
         ],
         "y": [
          0.44109224647445505,
          0.26611396729100584,
          0.44109224647445505,
          0.44109224647445505,
          0.44109224647445505,
          0.44109224647445505,
          0.44109224647445505,
          0.3758650726478306,
          0.26611396729100584,
          0.44109224647445505
         ]
        },
        {
         "mode": "markers",
         "name": "5",
         "text": [
          "000200000010200002002",
          "000200000000200202000",
          "000200000000200202000",
          "000200000000200002002",
          "000000000000200202002",
          "000200000000200002002"
         ],
         "type": "scatter",
         "x": [
          0.8505977512123443,
          0.8583535137783485,
          0.8583535137783485,
          0.8505977512123443,
          0.855920176057617,
          0.8505977512123443
         ],
         "y": [
          0.0091729248993144,
          0.035470675274500305,
          0.035470675274500305,
          0.0091729248993144,
          0.035092012825619606,
          0.0091729248993144
         ]
        },
        {
         "mode": "markers",
         "name": "6",
         "text": [
          "000100000000000101002",
          "000000000000100001002"
         ],
         "type": "scatter",
         "x": [
          0.3866303843078741,
          0.3866303843078741
         ],
         "y": [
          1.2570468558808763,
          1.2570468558808763
         ]
        },
        {
         "mode": "markers",
         "name": "7",
         "text": [
          "000000000000000002000",
          "010000010000100002000"
         ],
         "type": "scatter",
         "x": [
          -0.0649514207745119,
          -0.0649514207745119
         ],
         "y": [
          0.9875574141485792,
          0.9875574141485792
         ]
        },
        {
         "mode": "markers",
         "name": "8",
         "text": [
          "020000020000000002000",
          "020000020000100002000"
         ],
         "type": "scatter",
         "x": [
          -0.9129194549438979,
          -0.9129194549438979
         ],
         "y": [
          0.2257298268061222,
          0.2257298268061222
         ]
        },
        {
         "mode": "markers",
         "name": "9",
         "text": [
          "000200000000000202002"
         ],
         "type": "scatter",
         "x": [
          1.3108766850021214
         ],
         "y": [
          0.32116796357648736
         ]
        },
        {
         "mode": "markers",
         "name": "10",
         "text": [
          "000200000010000202000"
         ],
         "type": "scatter",
         "x": [
          0.8556636831721554
         ],
         "y": [
          0.5521899180418737
         ]
        },
        {
         "mode": "markers",
         "name": "11",
         "text": [
          "000200000000000000002"
         ],
         "type": "scatter",
         "x": [
          0.8442767238585713
         ],
         "y": [
          1.026403563864371
         ]
        },
        {
         "mode": "markers",
         "name": "12",
         "text": [
          "202010000200000202200"
         ],
         "type": "scatter",
         "x": [
          0.43597487619599534
         ],
         "y": [
          0.9212277874562201
         ]
        },
        {
         "mode": "markers",
         "name": "13",
         "text": [
          "020000010000200000000"
         ],
         "type": "scatter",
         "x": [
          -0.5260388222109462
         ],
         "y": [
          0.6644327091596127
         ]
        }
       ],
       "layout": {
        "template": {
         "data": {
          "bar": [
           {
            "error_x": {
             "color": "#2a3f5f"
            },
            "error_y": {
             "color": "#2a3f5f"
            },
            "marker": {
             "line": {
              "color": "#E5ECF6",
              "width": 0.5
             }
            },
            "type": "bar"
           }
          ],
          "barpolar": [
           {
            "marker": {
             "line": {
              "color": "#E5ECF6",
              "width": 0.5
             }
            },
            "type": "barpolar"
           }
          ],
          "carpet": [
           {
            "aaxis": {
             "endlinecolor": "#2a3f5f",
             "gridcolor": "white",
             "linecolor": "white",
             "minorgridcolor": "white",
             "startlinecolor": "#2a3f5f"
            },
            "baxis": {
             "endlinecolor": "#2a3f5f",
             "gridcolor": "white",
             "linecolor": "white",
             "minorgridcolor": "white",
             "startlinecolor": "#2a3f5f"
            },
            "type": "carpet"
           }
          ],
          "choropleth": [
           {
            "colorbar": {
             "outlinewidth": 0,
             "ticks": ""
            },
            "type": "choropleth"
           }
          ],
          "contour": [
           {
            "colorbar": {
             "outlinewidth": 0,
             "ticks": ""
            },
            "colorscale": [
             [
              0,
              "#0d0887"
             ],
             [
              0.1111111111111111,
              "#46039f"
             ],
             [
              0.2222222222222222,
              "#7201a8"
             ],
             [
              0.3333333333333333,
              "#9c179e"
             ],
             [
              0.4444444444444444,
              "#bd3786"
             ],
             [
              0.5555555555555556,
              "#d8576b"
             ],
             [
              0.6666666666666666,
              "#ed7953"
             ],
             [
              0.7777777777777778,
              "#fb9f3a"
             ],
             [
              0.8888888888888888,
              "#fdca26"
             ],
             [
              1,
              "#f0f921"
             ]
            ],
            "type": "contour"
           }
          ],
          "contourcarpet": [
           {
            "colorbar": {
             "outlinewidth": 0,
             "ticks": ""
            },
            "type": "contourcarpet"
           }
          ],
          "heatmap": [
           {
            "colorbar": {
             "outlinewidth": 0,
             "ticks": ""
            },
            "colorscale": [
             [
              0,
              "#0d0887"
             ],
             [
              0.1111111111111111,
              "#46039f"
             ],
             [
              0.2222222222222222,
              "#7201a8"
             ],
             [
              0.3333333333333333,
              "#9c179e"
             ],
             [
              0.4444444444444444,
              "#bd3786"
             ],
             [
              0.5555555555555556,
              "#d8576b"
             ],
             [
              0.6666666666666666,
              "#ed7953"
             ],
             [
              0.7777777777777778,
              "#fb9f3a"
             ],
             [
              0.8888888888888888,
              "#fdca26"
             ],
             [
              1,
              "#f0f921"
             ]
            ],
            "type": "heatmap"
           }
          ],
          "heatmapgl": [
           {
            "colorbar": {
             "outlinewidth": 0,
             "ticks": ""
            },
            "colorscale": [
             [
              0,
              "#0d0887"
             ],
             [
              0.1111111111111111,
              "#46039f"
             ],
             [
              0.2222222222222222,
              "#7201a8"
             ],
             [
              0.3333333333333333,
              "#9c179e"
             ],
             [
              0.4444444444444444,
              "#bd3786"
             ],
             [
              0.5555555555555556,
              "#d8576b"
             ],
             [
              0.6666666666666666,
              "#ed7953"
             ],
             [
              0.7777777777777778,
              "#fb9f3a"
             ],
             [
              0.8888888888888888,
              "#fdca26"
             ],
             [
              1,
              "#f0f921"
             ]
            ],
            "type": "heatmapgl"
           }
          ],
          "histogram": [
           {
            "marker": {
             "colorbar": {
              "outlinewidth": 0,
              "ticks": ""
             }
            },
            "type": "histogram"
           }
          ],
          "histogram2d": [
           {
            "colorbar": {
             "outlinewidth": 0,
             "ticks": ""
            },
            "colorscale": [
             [
              0,
              "#0d0887"
             ],
             [
              0.1111111111111111,
              "#46039f"
             ],
             [
              0.2222222222222222,
              "#7201a8"
             ],
             [
              0.3333333333333333,
              "#9c179e"
             ],
             [
              0.4444444444444444,
              "#bd3786"
             ],
             [
              0.5555555555555556,
              "#d8576b"
             ],
             [
              0.6666666666666666,
              "#ed7953"
             ],
             [
              0.7777777777777778,
              "#fb9f3a"
             ],
             [
              0.8888888888888888,
              "#fdca26"
             ],
             [
              1,
              "#f0f921"
             ]
            ],
            "type": "histogram2d"
           }
          ],
          "histogram2dcontour": [
           {
            "colorbar": {
             "outlinewidth": 0,
             "ticks": ""
            },
            "colorscale": [
             [
              0,
              "#0d0887"
             ],
             [
              0.1111111111111111,
              "#46039f"
             ],
             [
              0.2222222222222222,
              "#7201a8"
             ],
             [
              0.3333333333333333,
              "#9c179e"
             ],
             [
              0.4444444444444444,
              "#bd3786"
             ],
             [
              0.5555555555555556,
              "#d8576b"
             ],
             [
              0.6666666666666666,
              "#ed7953"
             ],
             [
              0.7777777777777778,
              "#fb9f3a"
             ],
             [
              0.8888888888888888,
              "#fdca26"
             ],
             [
              1,
              "#f0f921"
             ]
            ],
            "type": "histogram2dcontour"
           }
          ],
          "mesh3d": [
           {
            "colorbar": {
             "outlinewidth": 0,
             "ticks": ""
            },
            "type": "mesh3d"
           }
          ],
          "parcoords": [
           {
            "line": {
             "colorbar": {
              "outlinewidth": 0,
              "ticks": ""
             }
            },
            "type": "parcoords"
           }
          ],
          "pie": [
           {
            "automargin": true,
            "type": "pie"
           }
          ],
          "scatter": [
           {
            "marker": {
             "colorbar": {
              "outlinewidth": 0,
              "ticks": ""
             }
            },
            "type": "scatter"
           }
          ],
          "scatter3d": [
           {
            "line": {
             "colorbar": {
              "outlinewidth": 0,
              "ticks": ""
             }
            },
            "marker": {
             "colorbar": {
              "outlinewidth": 0,
              "ticks": ""
             }
            },
            "type": "scatter3d"
           }
          ],
          "scattercarpet": [
           {
            "marker": {
             "colorbar": {
              "outlinewidth": 0,
              "ticks": ""
             }
            },
            "type": "scattercarpet"
           }
          ],
          "scattergeo": [
           {
            "marker": {
             "colorbar": {
              "outlinewidth": 0,
              "ticks": ""
             }
            },
            "type": "scattergeo"
           }
          ],
          "scattergl": [
           {
            "marker": {
             "colorbar": {
              "outlinewidth": 0,
              "ticks": ""
             }
            },
            "type": "scattergl"
           }
          ],
          "scattermapbox": [
           {
            "marker": {
             "colorbar": {
              "outlinewidth": 0,
              "ticks": ""
             }
            },
            "type": "scattermapbox"
           }
          ],
          "scatterpolar": [
           {
            "marker": {
             "colorbar": {
              "outlinewidth": 0,
              "ticks": ""
             }
            },
            "type": "scatterpolar"
           }
          ],
          "scatterpolargl": [
           {
            "marker": {
             "colorbar": {
              "outlinewidth": 0,
              "ticks": ""
             }
            },
            "type": "scatterpolargl"
           }
          ],
          "scatterternary": [
           {
            "marker": {
             "colorbar": {
              "outlinewidth": 0,
              "ticks": ""
             }
            },
            "type": "scatterternary"
           }
          ],
          "surface": [
           {
            "colorbar": {
             "outlinewidth": 0,
             "ticks": ""
            },
            "colorscale": [
             [
              0,
              "#0d0887"
             ],
             [
              0.1111111111111111,
              "#46039f"
             ],
             [
              0.2222222222222222,
              "#7201a8"
             ],
             [
              0.3333333333333333,
              "#9c179e"
             ],
             [
              0.4444444444444444,
              "#bd3786"
             ],
             [
              0.5555555555555556,
              "#d8576b"
             ],
             [
              0.6666666666666666,
              "#ed7953"
             ],
             [
              0.7777777777777778,
              "#fb9f3a"
             ],
             [
              0.8888888888888888,
              "#fdca26"
             ],
             [
              1,
              "#f0f921"
             ]
            ],
            "type": "surface"
           }
          ],
          "table": [
           {
            "cells": {
             "fill": {
              "color": "#EBF0F8"
             },
             "line": {
              "color": "white"
             }
            },
            "header": {
             "fill": {
              "color": "#C8D4E3"
             },
             "line": {
              "color": "white"
             }
            },
            "type": "table"
           }
          ]
         },
         "layout": {
          "annotationdefaults": {
           "arrowcolor": "#2a3f5f",
           "arrowhead": 0,
           "arrowwidth": 1
          },
          "coloraxis": {
           "colorbar": {
            "outlinewidth": 0,
            "ticks": ""
           }
          },
          "colorscale": {
           "diverging": [
            [
             0,
             "#8e0152"
            ],
            [
             0.1,
             "#c51b7d"
            ],
            [
             0.2,
             "#de77ae"
            ],
            [
             0.3,
             "#f1b6da"
            ],
            [
             0.4,
             "#fde0ef"
            ],
            [
             0.5,
             "#f7f7f7"
            ],
            [
             0.6,
             "#e6f5d0"
            ],
            [
             0.7,
             "#b8e186"
            ],
            [
             0.8,
             "#7fbc41"
            ],
            [
             0.9,
             "#4d9221"
            ],
            [
             1,
             "#276419"
            ]
           ],
           "sequential": [
            [
             0,
             "#0d0887"
            ],
            [
             0.1111111111111111,
             "#46039f"
            ],
            [
             0.2222222222222222,
             "#7201a8"
            ],
            [
             0.3333333333333333,
             "#9c179e"
            ],
            [
             0.4444444444444444,
             "#bd3786"
            ],
            [
             0.5555555555555556,
             "#d8576b"
            ],
            [
             0.6666666666666666,
             "#ed7953"
            ],
            [
             0.7777777777777778,
             "#fb9f3a"
            ],
            [
             0.8888888888888888,
             "#fdca26"
            ],
            [
             1,
             "#f0f921"
            ]
           ],
           "sequentialminus": [
            [
             0,
             "#0d0887"
            ],
            [
             0.1111111111111111,
             "#46039f"
            ],
            [
             0.2222222222222222,
             "#7201a8"
            ],
            [
             0.3333333333333333,
             "#9c179e"
            ],
            [
             0.4444444444444444,
             "#bd3786"
            ],
            [
             0.5555555555555556,
             "#d8576b"
            ],
            [
             0.6666666666666666,
             "#ed7953"
            ],
            [
             0.7777777777777778,
             "#fb9f3a"
            ],
            [
             0.8888888888888888,
             "#fdca26"
            ],
            [
             1,
             "#f0f921"
            ]
           ]
          },
          "colorway": [
           "#636efa",
           "#EF553B",
           "#00cc96",
           "#ab63fa",
           "#FFA15A",
           "#19d3f3",
           "#FF6692",
           "#B6E880",
           "#FF97FF",
           "#FECB52"
          ],
          "font": {
           "color": "#2a3f5f"
          },
          "geo": {
           "bgcolor": "white",
           "lakecolor": "white",
           "landcolor": "#E5ECF6",
           "showlakes": true,
           "showland": true,
           "subunitcolor": "white"
          },
          "hoverlabel": {
           "align": "left"
          },
          "hovermode": "closest",
          "mapbox": {
           "style": "light"
          },
          "paper_bgcolor": "white",
          "plot_bgcolor": "#E5ECF6",
          "polar": {
           "angularaxis": {
            "gridcolor": "white",
            "linecolor": "white",
            "ticks": ""
           },
           "bgcolor": "#E5ECF6",
           "radialaxis": {
            "gridcolor": "white",
            "linecolor": "white",
            "ticks": ""
           }
          },
          "scene": {
           "xaxis": {
            "backgroundcolor": "#E5ECF6",
            "gridcolor": "white",
            "gridwidth": 2,
            "linecolor": "white",
            "showbackground": true,
            "ticks": "",
            "zerolinecolor": "white"
           },
           "yaxis": {
            "backgroundcolor": "#E5ECF6",
            "gridcolor": "white",
            "gridwidth": 2,
            "linecolor": "white",
            "showbackground": true,
            "ticks": "",
            "zerolinecolor": "white"
           },
           "zaxis": {
            "backgroundcolor": "#E5ECF6",
            "gridcolor": "white",
            "gridwidth": 2,
            "linecolor": "white",
            "showbackground": true,
            "ticks": "",
            "zerolinecolor": "white"
           }
          },
          "shapedefaults": {
           "line": {
            "color": "#2a3f5f"
           }
          },
          "ternary": {
           "aaxis": {
            "gridcolor": "white",
            "linecolor": "white",
            "ticks": ""
           },
           "baxis": {
            "gridcolor": "white",
            "linecolor": "white",
            "ticks": ""
           },
           "bgcolor": "#E5ECF6",
           "caxis": {
            "gridcolor": "white",
            "linecolor": "white",
            "ticks": ""
           }
          },
          "title": {
           "x": 0.05
          },
          "xaxis": {
           "automargin": true,
           "gridcolor": "white",
           "linecolor": "white",
           "ticks": "",
           "title": {
            "standoff": 15
           },
           "zerolinecolor": "white",
           "zerolinewidth": 2
          },
          "yaxis": {
           "automargin": true,
           "gridcolor": "white",
           "linecolor": "white",
           "ticks": "",
           "title": {
            "standoff": 15
           },
           "zerolinecolor": "white",
           "zerolinewidth": 2
          }
         }
        }
       }
      },
      "text/html": [
       "<div>\n",
       "        \n",
       "        \n",
       "            <div id=\"5595acd6-97ef-47d5-a6f7-4b353bdbb3d2\" class=\"plotly-graph-div\" style=\"height:525px; width:100%;\"></div>\n",
       "            <script type=\"text/javascript\">\n",
       "                require([\"plotly\"], function(Plotly) {\n",
       "                    window.PLOTLYENV=window.PLOTLYENV || {};\n",
       "                    \n",
       "                if (document.getElementById(\"5595acd6-97ef-47d5-a6f7-4b353bdbb3d2\")) {\n",
       "                    Plotly.newPlot(\n",
       "                        '5595acd6-97ef-47d5-a6f7-4b353bdbb3d2',\n",
       "                        [{\"mode\": \"markers\", \"name\": \"0\", \"text\": [\"020000020000200002000\", \"020000020000200002000\", \"020000020000200002000\", \"020000020000200002000\", \"020000020000200002000\", \"020000020000200002000\", \"020000020000200002000\", \"020000020000200002000\", \"020000020000200002000\", \"020000020000200002000\", \"020000020000200002000\", \"020000020000200002000\", \"020000020000200002000\", \"020000020000200002000\", \"020000020000200002000\", \"020000020000200002000\", \"020000020000200002000\", \"020000020000200002000\", \"020000020000200002000\", \"020000020000200002000\", \"020000020000200002000\", \"020000020000200002000\", \"020000020000200002000\", \"020000020000200002000\", \"020000020000200002000\", \"020000020000200002000\", \"020000020000200002000\", \"020000020000200002000\", \"020000020000200002000\", \"020000020000200002000\", \"020000020000200002000\", \"020000020000200002000\", \"020000020000200002000\", \"020000020000200002000\", \"020000020000200002000\", \"020000020000200002000\", \"020000020000200002000\", \"020000020000200002000\", \"020000020000200002000\", \"020000020000200002000\", \"020000020000200002000\", \"020000020000200002000\", \"020000020000200002000\", \"020000020000200002000\", \"020000020000200002000\", \"020000020000200002000\", \"020000020000200002000\", \"020000020000200002000\", \"020000020000200002000\", \"020000020000200002000\", \"020000020000200002000\", \"020000020000200002000\", \"020000020000200002000\", \"020000020000200002000\", \"020000020000200002000\", \"020000020000200002000\", \"020000020000200002000\", \"020000020000200002000\", \"020000020000200002000\", \"020000020000200002000\", \"020000020000220002000\", \"020000020000200002000\", \"020000020000200002000\", \"020000020000200002000\", \"020000020000200002000\", \"020000020000200002000\", \"020000020000200002000\", \"020000020000200002000\", \"020000020000200002000\", \"020000020000220002000\", \"020000020000200002000\", \"020000020000200002000\", \"020000020000220002000\", \"020000020000220002000\", \"020000020000220002000\", \"020000020000220002000\", \"020000020000220002000\", \"020000020000220002000\", \"020000020000220002000\", \"020000020000200002000\", \"020000020000200002000\", \"020000020000200002000\", \"020000020000200002000\", \"020000020000200002000\", \"020000020000200002000\", \"020000020000200002000\", \"020000020000200002000\", \"020000020000200002000\", \"020000020000200002000\", \"020000020000200002000\", \"020000020000200002000\", \"020000020000200002000\", \"020000020000200002000\", \"020000020000200002000\", \"020000020000200002000\", \"020000020000200002000\", \"020000020000200002000\", \"020000020000200002000\", \"020000020000200002000\", \"020000020000200002000\", \"020000020000200002000\", \"020000020000200002000\", \"020000020000200002000\", \"020000020000200002000\", \"020000020000200002000\", \"020000020000200002000\", \"020000020000200002000\", \"020000020000200002000\", \"020000020000200002000\", \"020000020000200002000\", \"020000020000200002000\", \"020000020000200002000\", \"020000020000200002000\", \"020000020000200002000\", \"020000020000200002000\", \"020000020000200002000\", \"020000020000200002000\", \"020000020000200002000\", \"020000020000200002000\", \"020000020000200002000\", \"020000020000200002000\", \"020000020000200002000\", \"020000020000200002000\", \"020000020000200002000\", \"020000020000200002000\", \"020000020000200002000\", \"020000020000200002000\", \"020000020000200002000\", \"020000020000200002000\", \"020000020000200002000\", \"020000020000200002000\", \"020000020000200002000\", \"020000020000200002000\", \"020000020000200002000\", \"020000020000200002000\", \"020000020000200002000\", \"020000020000200002000\", \"020000020000200002000\", \"020000020000200002000\", \"020000020000200002000\", \"020000020000200002000\", \"020000020000200002000\", \"020000020000200002000\", \"020000020000200002000\", \"020000020000200002000\", \"020000020000200002000\", \"020000020000200002000\", \"020000020000200002000\"], \"type\": \"scatter\", \"x\": [-0.9102296243377048, -0.9102296243377048, -0.9102296243377048, -0.9102296243377048, -0.9102296243377048, -0.9102296243377048, -0.9102296243377048, -0.9102296243377048, -0.9102296243377048, -0.9102296243377048, -0.9102296243377048, -0.9102296243377048, -0.9102296243377048, -0.9102296243377048, -0.9102296243377048, -0.9102296243377048, -0.9102296243377048, -0.9102296243377048, -0.9102296243377048, -0.9102296243377048, -0.9102296243377048, -0.9102296243377048, -0.9102296243377048, -0.9102296243377048, -0.9102296243377048, -0.9102296243377048, -0.9102296243377048, -0.9102296243377048, -0.9102296243377048, -0.9102296243377048, -0.9102296243377048, -0.9102296243377048, -0.9102296243377048, -0.9102296243377048, -0.9102296243377048, -0.9102296243377048, -0.9102296243377048, -0.9102296243377048, -0.9102296243377048, -0.9102296243377048, -0.9102296243377048, -0.9102296243377048, -0.9102296243377048, -0.9102296243377048, -0.9102296243377048, -0.9102296243377048, -0.9102296243377048, -0.9102296243377048, -0.9102296243377048, -0.9102296243377048, -0.9102296243377048, -0.9102296243377048, -0.9102296243377048, -0.9102296243377048, -0.9102296243377048, -0.9102296243377048, -0.9102296243377048, -0.9102296243377048, -0.9102296243377048, -0.9102296243377048, -0.9339921444171726, -0.9102296243377048, -0.9102296243377048, -0.9102296243377048, -0.9102296243377048, -0.9102296243377048, -0.9102296243377048, -0.9102296243377048, -0.9102296243377048, -0.9339921444171726, -0.9102296243377048, -0.9102296243377048, -0.9339921444171726, -0.9339921444171726, -0.9339921444171726, -0.9339921444171726, -0.9339921444171726, -0.9339921444171726, -0.9339921444171726, -0.9102296243377048, -0.9102296243377048, -0.9102296243377048, -0.9102296243377048, -0.9102296243377048, -0.9102296243377048, -0.9102296243377048, -0.9102296243377048, -0.9102296243377048, -0.9102296243377048, -0.9102296243377048, -0.9102296243377048, -0.9102296243377048, -0.9102296243377048, -0.9102296243377048, -0.9102296243377048, -0.9102296243377048, -0.9102296243377048, -0.9102296243377048, -0.9102296243377048, -0.9102296243377048, -0.9102296243377048, -0.9102296243377048, -0.9102296243377048, -0.9102296243377048, -0.9102296243377048, -0.9102296243377048, -0.9102296243377048, -0.9102296243377048, -0.9102296243377048, -0.9102296243377048, -0.9102296243377048, -0.9102296243377048, -0.9102296243377048, -0.9102296243377048, -0.9102296243377048, -0.9102296243377048, -0.9102296243377048, -0.9102296243377048, -0.9102296243377048, -0.9102296243377048, -0.9102296243377048, -0.9102296243377048, -0.9102296243377048, -0.9102296243377048, -0.9102296243377048, -0.9102296243377048, -0.9102296243377048, -0.9102296243377048, -0.9102296243377048, -0.9102296243377048, -0.9102296243377048, -0.9102296243377048, -0.9102296243377048, -0.9102296243377048, -0.9102296243377048, -0.9102296243377048, -0.9102296243377048, -0.9102296243377048, -0.9102296243377048, -0.9102296243377048, -0.9102296243377048, -0.9102296243377048, -0.9102296243377048, -0.9102296243377048, -0.9102296243377048, -0.9102296243377048, -0.9102296243377048, -0.9102296243377048], \"y\": [-0.290989415961251, -0.290989415961251, -0.290989415961251, -0.290989415961251, -0.290989415961251, -0.290989415961251, -0.290989415961251, -0.290989415961251, -0.290989415961251, -0.290989415961251, -0.290989415961251, -0.290989415961251, -0.290989415961251, -0.290989415961251, -0.290989415961251, -0.290989415961251, -0.290989415961251, -0.290989415961251, -0.290989415961251, -0.290989415961251, -0.290989415961251, -0.290989415961251, -0.290989415961251, -0.290989415961251, -0.290989415961251, -0.290989415961251, -0.290989415961251, -0.290989415961251, -0.290989415961251, -0.290989415961251, -0.290989415961251, -0.290989415961251, -0.290989415961251, -0.290989415961251, -0.290989415961251, -0.290989415961251, -0.290989415961251, -0.290989415961251, -0.290989415961251, -0.290989415961251, -0.290989415961251, -0.290989415961251, -0.290989415961251, -0.290989415961251, -0.290989415961251, -0.290989415961251, -0.290989415961251, -0.290989415961251, -0.290989415961251, -0.290989415961251, -0.290989415961251, -0.290989415961251, -0.290989415961251, -0.290989415961251, -0.290989415961251, -0.290989415961251, -0.290989415961251, -0.290989415961251, -0.290989415961251, -0.290989415961251, -0.3215578139630058, -0.290989415961251, -0.290989415961251, -0.290989415961251, -0.290989415961251, -0.290989415961251, -0.290989415961251, -0.290989415961251, -0.290989415961251, -0.3215578139630058, -0.290989415961251, -0.290989415961251, -0.3215578139630058, -0.3215578139630058, -0.3215578139630058, -0.3215578139630058, -0.3215578139630058, -0.3215578139630058, -0.3215578139630058, -0.290989415961251, -0.290989415961251, -0.290989415961251, -0.290989415961251, -0.290989415961251, -0.290989415961251, -0.290989415961251, -0.290989415961251, -0.290989415961251, -0.290989415961251, -0.290989415961251, -0.290989415961251, -0.290989415961251, -0.290989415961251, -0.290989415961251, -0.290989415961251, -0.290989415961251, -0.290989415961251, -0.290989415961251, -0.290989415961251, -0.290989415961251, -0.290989415961251, -0.290989415961251, -0.290989415961251, -0.290989415961251, -0.290989415961251, -0.290989415961251, -0.290989415961251, -0.290989415961251, -0.290989415961251, -0.290989415961251, -0.290989415961251, -0.290989415961251, -0.290989415961251, -0.290989415961251, -0.290989415961251, -0.290989415961251, -0.290989415961251, -0.290989415961251, -0.290989415961251, -0.290989415961251, -0.290989415961251, -0.290989415961251, -0.290989415961251, -0.290989415961251, -0.290989415961251, -0.290989415961251, -0.290989415961251, -0.290989415961251, -0.290989415961251, -0.290989415961251, -0.290989415961251, -0.290989415961251, -0.290989415961251, -0.290989415961251, -0.290989415961251, -0.290989415961251, -0.290989415961251, -0.290989415961251, -0.290989415961251, -0.290989415961251, -0.290989415961251, -0.290989415961251, -0.290989415961251, -0.290989415961251, -0.290989415961251, -0.290989415961251, -0.290989415961251, -0.290989415961251]}, {\"mode\": \"markers\", \"name\": \"1\", \"text\": [\"000200000000200202002\", \"000200000000200202002\", \"000200000000200202002\", \"000200000000200202002\", \"000200000000200202002\", \"000200000000200202002\", \"000200000000200202002\", \"000200000000200202002\", \"000200000000200202002\", \"000200000000200202002\", \"000200000000200202002\", \"000200000000200202002\", \"000200000000200202002\", \"000200000000200202002\", \"000200000000200202002\", \"000200000000200202002\", \"000200000000200202002\", \"000200000000200202002\", \"000200000000200202002\", \"000200000000200202022\", \"000200000000200202002\", \"000200000000200202002\", \"000200000000200202002\", \"000200000000200202002\", \"000200000000200202002\", \"000200000000200202002\", \"000200000000200202002\", \"000200000000200202002\", \"000200000000200202002\", \"000200000000200202002\", \"000200000000200202002\", \"000200000000200202002\", \"000200000000200202002\", \"000200000000200202002\", \"000200000000200202002\", \"000200000000200202002\", \"000200000000200202002\", \"000200000000200202002\", \"000200000000200202002\", \"000200000000200202002\", \"000200000000200202002\", \"000200000000200202002\", \"000200000000200202002\", \"000200000000200202002\", \"000200000000200202002\", \"000200000000200202002\", \"000200000000200202002\", \"000200000000200202002\", \"000200000000200202002\", \"000200000000200202002\", \"000200000000200202002\", \"000200000000200202002\", \"000200000000200202002\", \"000200000000200202002\", \"000200000000200202002\", \"000200000000200202002\", \"000200000000200202002\", \"000200000000200202002\", \"000200000000200202002\", \"000200000000200202002\", \"000200000000200202002\", \"000200000000200202002\", \"000200000000200202002\", \"000200000000200202002\", \"000200000000200202002\", \"000200000000200202002\", \"000200000000200202002\", \"000200000000200202002\", \"000200000000200202002\", \"000200000000200202002\", \"000200000000200202002\", \"000200000000200202002\", \"000200000000200202002\", \"000200000000200202002\", \"000200000000200202002\", \"000200000000200202002\", \"000200000000200202002\", \"000200000000200202002\", \"000200000000200202002\", \"000200000000200202002\", \"000200000000200202002\", \"000200000000200202002\", \"000200000000200202002\", \"000200000000200202002\", \"000200000000200202002\", \"000200000000200202002\", \"000200000000200202002\", \"000200000000200202002\", \"000200000000200202002\", \"000200000000200202002\", \"000200000000200202002\", \"000200000000200202002\", \"000200000000200202002\", \"000200000000200202002\", \"000200000000200202002\", \"000200000000200202002\", \"000200000000200202002\", \"000200000000200202002\", \"000200000000200202002\", \"000200000000200202002\", \"000200000000200202002\", \"000200000000200202002\", \"000200000000200202002\", \"000200000000200202002\", \"000200000000200202002\", \"000200000000200202002\", \"000200000000200202002\", \"000200000000200202002\", \"000200000000200202002\", \"000200000000200202002\", \"000200000000200202002\", \"000200000000200202002\", \"000200000000200202002\", \"000200000000200202002\", \"000200000000200202002\", \"000200000000200202002\", \"000200000000200202002\", \"000200000000200202002\", \"000200000000200202002\"], \"type\": \"scatter\", \"x\": [1.3135665156083145, 1.3135665156083145, 1.3135665156083145, 1.3135665156083145, 1.3135665156083145, 1.3135665156083145, 1.3135665156083145, 1.3135665156083145, 1.3135665156083145, 1.3135665156083145, 1.3135665156083145, 1.3135665156083145, 1.3135665156083145, 1.3135665156083145, 1.3135665156083145, 1.3135665156083145, 1.3135665156083145, 1.3135665156083145, 1.3135665156083145, 1.3172903320776486, 1.3135665156083145, 1.3135665156083145, 1.3135665156083145, 1.3135665156083145, 1.3135665156083145, 1.3135665156083145, 1.3135665156083145, 1.3135665156083145, 1.3135665156083145, 1.3135665156083145, 1.3135665156083145, 1.3135665156083145, 1.3135665156083145, 1.3135665156083145, 1.3135665156083145, 1.3135665156083145, 1.3135665156083145, 1.3135665156083145, 1.3135665156083145, 1.3135665156083145, 1.3135665156083145, 1.3135665156083145, 1.3135665156083145, 1.3135665156083145, 1.3135665156083145, 1.3135665156083145, 1.3135665156083145, 1.3135665156083145, 1.3135665156083145, 1.3135665156083145, 1.3135665156083145, 1.3135665156083145, 1.3135665156083145, 1.3135665156083145, 1.3135665156083145, 1.3135665156083145, 1.3135665156083145, 1.3135665156083145, 1.3135665156083145, 1.3135665156083145, 1.3135665156083145, 1.3135665156083145, 1.3135665156083145, 1.3135665156083145, 1.3135665156083145, 1.3135665156083145, 1.3135665156083145, 1.3135665156083145, 1.3135665156083145, 1.3135665156083145, 1.3135665156083145, 1.3135665156083145, 1.3135665156083145, 1.3135665156083145, 1.3135665156083145, 1.3135665156083145, 1.3135665156083145, 1.3135665156083145, 1.3135665156083145, 1.3135665156083145, 1.3135665156083145, 1.3135665156083145, 1.3135665156083145, 1.3135665156083145, 1.3135665156083145, 1.3135665156083145, 1.3135665156083145, 1.3135665156083145, 1.3135665156083145, 1.3135665156083145, 1.3135665156083145, 1.3135665156083145, 1.3135665156083145, 1.3135665156083145, 1.3135665156083145, 1.3135665156083145, 1.3135665156083145, 1.3135665156083145, 1.3135665156083145, 1.3135665156083145, 1.3135665156083145, 1.3135665156083145, 1.3135665156083145, 1.3135665156083145, 1.3135665156083145, 1.3135665156083145, 1.3135665156083145, 1.3135665156083145, 1.3135665156083145, 1.3135665156083145, 1.3135665156083145, 1.3135665156083145, 1.3135665156083145, 1.3135665156083145, 1.3135665156083145, 1.3135665156083145, 1.3135665156083145, 1.3135665156083145, 1.3135665156083145], \"y\": [-0.19555127919088594, -0.19555127919088594, -0.19555127919088594, -0.19555127919088594, -0.19555127919088594, -0.19555127919088594, -0.19555127919088594, -0.19555127919088594, -0.19555127919088594, -0.19555127919088594, -0.19555127919088594, -0.19555127919088594, -0.19555127919088594, -0.19555127919088594, -0.19555127919088594, -0.19555127919088594, -0.19555127919088594, -0.19555127919088594, -0.19555127919088594, -0.19763886071244238, -0.19555127919088594, -0.19555127919088594, -0.19555127919088594, -0.19555127919088594, -0.19555127919088594, -0.19555127919088594, -0.19555127919088594, -0.19555127919088594, -0.19555127919088594, -0.19555127919088594, -0.19555127919088594, -0.19555127919088594, -0.19555127919088594, -0.19555127919088594, -0.19555127919088594, -0.19555127919088594, -0.19555127919088594, -0.19555127919088594, -0.19555127919088594, -0.19555127919088594, -0.19555127919088594, -0.19555127919088594, -0.19555127919088594, -0.19555127919088594, -0.19555127919088594, -0.19555127919088594, -0.19555127919088594, -0.19555127919088594, -0.19555127919088594, -0.19555127919088594, -0.19555127919088594, -0.19555127919088594, -0.19555127919088594, -0.19555127919088594, -0.19555127919088594, -0.19555127919088594, -0.19555127919088594, -0.19555127919088594, -0.19555127919088594, -0.19555127919088594, -0.19555127919088594, -0.19555127919088594, -0.19555127919088594, -0.19555127919088594, -0.19555127919088594, -0.19555127919088594, -0.19555127919088594, -0.19555127919088594, -0.19555127919088594, -0.19555127919088594, -0.19555127919088594, -0.19555127919088594, -0.19555127919088594, -0.19555127919088594, -0.19555127919088594, -0.19555127919088594, -0.19555127919088594, -0.19555127919088594, -0.19555127919088594, -0.19555127919088594, -0.19555127919088594, -0.19555127919088594, -0.19555127919088594, -0.19555127919088594, -0.19555127919088594, -0.19555127919088594, -0.19555127919088594, -0.19555127919088594, -0.19555127919088594, -0.19555127919088594, -0.19555127919088594, -0.19555127919088594, -0.19555127919088594, -0.19555127919088594, -0.19555127919088594, -0.19555127919088594, -0.19555127919088594, -0.19555127919088594, -0.19555127919088594, -0.19555127919088594, -0.19555127919088594, -0.19555127919088594, -0.19555127919088594, -0.19555127919088594, -0.19555127919088594, -0.19555127919088594, -0.19555127919088594, -0.19555127919088594, -0.19555127919088594, -0.19555127919088594, -0.19555127919088594, -0.19555127919088594, -0.19555127919088594, -0.19555127919088594, -0.19555127919088594, -0.19555127919088594, -0.19555127919088594, -0.19555127919088594, -0.19555127919088594]}, {\"mode\": \"markers\", \"name\": \"2\", \"text\": [\"000000020000200002000\", \"020000000002200002000\", \"000000020000200002000\", \"020000000002200002000\", \"020000010001200002000\", \"020000000002200002000\", \"020000000002200002000\", \"020000000002200002000\", \"020000000002200002000\", \"020000010000200002000\", \"020000000002200002000\", \"010000020000220002000\", \"020000000002200002000\", \"020000000002200002000\", \"010000020000200002000\", \"020000000002200002000\", \"020000000002200002000\", \"020000000002200002000\", \"020000000002200002000\", \"020000000002200002000\", \"020000000002200002000\", \"020000000002200002000\", \"020000000002200002000\", \"020000000002200002000\", \"020000000002200002000\", \"020000010000200002000\", \"020000000002200002000\", \"020000000002200002000\", \"000000020000200002000\", \"020000000002200002000\", \"020000000002200002000\", \"020000000002200002000\", \"020000000002200002000\", \"020000000002200002000\", \"020000000002200002000\", \"020000000002200002000\", \"020000000002200002000\", \"020000000002200002000\", \"020000000002200002000\", \"020000000002200002000\", \"020000000002200002000\", \"020000000002200002000\", \"020000000002200002000\", \"010000020000200002000\", \"020000000002200002000\", \"020000000002200002000\", \"020000000002200002000\", \"020000000002200002000\", \"020000000002200002000\", \"020000000002200002000\", \"020000000002200002000\", \"020000000002200002000\", \"020000000002200002000\", \"020000000002200002000\", \"010000020000200002000\"], \"type\": \"scatter\", \"x\": [-0.4500835890426577, -0.5985486534173161, -0.4500835890426577, -0.5985486534173161, -0.5224076254633662, -0.5985486534173161, -0.5985486534173161, -0.5985486534173161, -0.5985486534173161, -0.5224076254633662, -0.5985486534173161, -0.47384610912212555, -0.5985486534173161, -0.5985486534173161, -0.4500835890426577, -0.5985486534173161, -0.5985486534173161, -0.5985486534173161, -0.5985486534173161, -0.5985486534173161, -0.5985486534173161, -0.5985486534173161, -0.5985486534173161, -0.5985486534173161, -0.5985486534173161, -0.5224076254633662, -0.5985486534173161, -0.5985486534173161, -0.4500835890426577, -0.5985486534173161, -0.5985486534173161, -0.5985486534173161, -0.5985486534173161, -0.5985486534173161, -0.5985486534173161, -0.5985486534173161, -0.5985486534173161, -0.5985486534173161, -0.5985486534173161, -0.5985486534173161, -0.5985486534173161, -0.5985486534173161, -0.5985486534173161, -0.4500835890426577, -0.5985486534173161, -0.5985486534173161, -0.5985486534173161, -0.5985486534173161, -0.5985486534173161, -0.5985486534173161, -0.5985486534173161, -0.5985486534173161, -0.5985486534173161, -0.5985486534173161, -0.4500835890426577], \"y\": [0.015927442458025742, 0.3124198893891695, 0.015927442458025742, 0.3124198893891695, 0.1639213129619293, 0.3124198893891695, 0.3124198893891695, 0.3124198893891695, 0.3124198893891695, 0.1639213129619293, 0.3124198893891695, -0.014640955543729017, 0.3124198893891695, 0.3124198893891695, 0.015927442458025742, 0.3124198893891695, 0.3124198893891695, 0.3124198893891695, 0.3124198893891695, 0.3124198893891695, 0.3124198893891695, 0.3124198893891695, 0.3124198893891695, 0.3124198893891695, 0.3124198893891695, 0.1639213129619293, 0.3124198893891695, 0.3124198893891695, 0.015927442458025742, 0.3124198893891695, 0.3124198893891695, 0.3124198893891695, 0.3124198893891695, 0.3124198893891695, 0.3124198893891695, 0.3124198893891695, 0.3124198893891695, 0.3124198893891695, 0.3124198893891695, 0.3124198893891695, 0.3124198893891695, 0.3124198893891695, 0.3124198893891695, 0.015927442458025742, 0.3124198893891695, 0.3124198893891695, 0.3124198893891695, 0.3124198893891695, 0.3124198893891695, 0.3124198893891695, 0.3124198893891695, 0.3124198893891695, 0.3124198893891695, 0.3124198893891695, 0.015927442458025742]}, {\"mode\": \"markers\", \"name\": \"3\", \"text\": [\"000000000020000000000\", \"000000000020002000000\", \"000000000020000000000\", \"010000010010100001000\", \"000000000020100000000\", \"000000000000000000000\", \"010000010010100000000\", \"000000000000000000000\", \"000100000000100101001\", \"000000000000000000000\", \"000000000000000000000\", \"000000000000000000000\", \"000000000000000000000\", \"000000000000000000000\", \"000000000000000000000\", \"000000000000000000000\", \"000000000000000000000\", \"000000000000000000000\", \"000000000000000000000\", \"000000000000000000000\", \"000000000000000000000\", \"000000000000000000000\", \"000000000000000000000\", \"000000000000000000000\", \"000000000000000000000\", \"000000000000000000000\", \"000000000000000000000\", \"000000000000100000000\", \"000000000000000000000\", \"000002202000000020000\", \"000000000000000000000\", \"000000000000000000000\", \"000000000000000000000\", \"000000000000000000000\", \"000000000000000000000\", \"000000000000000000000\"], \"type\": \"scatter\", \"x\": [-0.06916977497798185, -0.0693658636755716, -0.06916977497798185, -0.06858261752209202, -0.06916977497798185, -0.06858261752209202, -0.06858261752209202, -0.06858261752209202, -0.06858261752209202, -0.06858261752209202, -0.06858261752209202, -0.06858261752209202, -0.06858261752209202, -0.06858261752209202, -0.06858261752209202, -0.06858261752209202, -0.06858261752209202, -0.06858261752209202, -0.06858261752209202, -0.06858261752209202, -0.06858261752209202, -0.06858261752209202, -0.06858261752209202, -0.06858261752209202, -0.06858261752209202, -0.06858261752209202, -0.06858261752209202, -0.06858261752209202, -0.06858261752209202, -0.06936698499173825, -0.06858261752209202, -0.06858261752209202, -0.06858261752209202, -0.06858261752209202, -0.06858261752209202, -0.06858261752209202], \"y\": [1.536944536966724, 1.5533519827697093, 1.536944536966724, 1.4880688103462627, 1.536944536966724, 1.4880688103462627, 1.4880688103462627, 1.4880688103462627, 1.4880688103462627, 1.4880688103462627, 1.4880688103462627, 1.4880688103462627, 1.4880688103462627, 1.4880688103462627, 1.4880688103462627, 1.4880688103462627, 1.4880688103462627, 1.4880688103462627, 1.4880688103462627, 1.4880688103462627, 1.4880688103462627, 1.4880688103462627, 1.4880688103462627, 1.4880688103462627, 1.4880688103462627, 1.4880688103462627, 1.4880688103462627, 1.4880688103462627, 1.4880688103462627, 1.5537138840411404, 1.4880688103462627, 1.4880688103462627, 1.4880688103462627, 1.4880688103462627, 1.4880688103462627, 1.4880688103462627]}, {\"mode\": \"markers\", \"name\": \"4\", \"text\": [\"202020000200200202200\", \"100000000100200202000\", \"202020000200200202200\", \"202020000200200202200\", \"202020000200200202200\", \"202020000200200202200\", \"202020000200200202200\", \"000020000200200202200\", \"101110000100200202101\", \"202020000200200202200\"], \"type\": \"scatter\", \"x\": [0.44876328584613717, 0.40070717422765095, 0.44876328584613717, 0.44876328584613717, 0.44876328584613717, 0.44876328584613717, 0.44876328584613717, 0.4310029113594977, 0.40070717422765095, 0.44876328584613717], \"y\": [0.44109224647445505, 0.26611396729100584, 0.44109224647445505, 0.44109224647445505, 0.44109224647445505, 0.44109224647445505, 0.44109224647445505, 0.3758650726478306, 0.26611396729100584, 0.44109224647445505]}, {\"mode\": \"markers\", \"name\": \"5\", \"text\": [\"000200000010200002002\", \"000200000000200202000\", \"000200000000200202000\", \"000200000000200002002\", \"000000000000200202002\", \"000200000000200002002\"], \"type\": \"scatter\", \"x\": [0.8505977512123443, 0.8583535137783485, 0.8583535137783485, 0.8505977512123443, 0.855920176057617, 0.8505977512123443], \"y\": [0.0091729248993144, 0.035470675274500305, 0.035470675274500305, 0.0091729248993144, 0.035092012825619606, 0.0091729248993144]}, {\"mode\": \"markers\", \"name\": \"6\", \"text\": [\"000100000000000101002\", \"000000000000100001002\"], \"type\": \"scatter\", \"x\": [0.3866303843078741, 0.3866303843078741], \"y\": [1.2570468558808763, 1.2570468558808763]}, {\"mode\": \"markers\", \"name\": \"7\", \"text\": [\"000000000000000002000\", \"010000010000100002000\"], \"type\": \"scatter\", \"x\": [-0.0649514207745119, -0.0649514207745119], \"y\": [0.9875574141485792, 0.9875574141485792]}, {\"mode\": \"markers\", \"name\": \"8\", \"text\": [\"020000020000000002000\", \"020000020000100002000\"], \"type\": \"scatter\", \"x\": [-0.9129194549438979, -0.9129194549438979], \"y\": [0.2257298268061222, 0.2257298268061222]}, {\"mode\": \"markers\", \"name\": \"9\", \"text\": [\"000200000000000202002\"], \"type\": \"scatter\", \"x\": [1.3108766850021214], \"y\": [0.32116796357648736]}, {\"mode\": \"markers\", \"name\": \"10\", \"text\": [\"000200000010000202000\"], \"type\": \"scatter\", \"x\": [0.8556636831721554], \"y\": [0.5521899180418737]}, {\"mode\": \"markers\", \"name\": \"11\", \"text\": [\"000200000000000000002\"], \"type\": \"scatter\", \"x\": [0.8442767238585713], \"y\": [1.026403563864371]}, {\"mode\": \"markers\", \"name\": \"12\", \"text\": [\"202010000200000202200\"], \"type\": \"scatter\", \"x\": [0.43597487619599534], \"y\": [0.9212277874562201]}, {\"mode\": \"markers\", \"name\": \"13\", \"text\": [\"020000010000200000000\"], \"type\": \"scatter\", \"x\": [-0.5260388222109462], \"y\": [0.6644327091596127]}],\n",
       "                        {\"template\": {\"data\": {\"bar\": [{\"error_x\": {\"color\": \"#2a3f5f\"}, \"error_y\": {\"color\": \"#2a3f5f\"}, \"marker\": {\"line\": {\"color\": \"#E5ECF6\", \"width\": 0.5}}, \"type\": \"bar\"}], \"barpolar\": [{\"marker\": {\"line\": {\"color\": \"#E5ECF6\", \"width\": 0.5}}, \"type\": \"barpolar\"}], \"carpet\": [{\"aaxis\": {\"endlinecolor\": \"#2a3f5f\", \"gridcolor\": \"white\", \"linecolor\": \"white\", \"minorgridcolor\": \"white\", \"startlinecolor\": \"#2a3f5f\"}, \"baxis\": {\"endlinecolor\": \"#2a3f5f\", \"gridcolor\": \"white\", \"linecolor\": \"white\", \"minorgridcolor\": \"white\", \"startlinecolor\": \"#2a3f5f\"}, \"type\": \"carpet\"}], \"choropleth\": [{\"colorbar\": {\"outlinewidth\": 0, \"ticks\": \"\"}, \"type\": \"choropleth\"}], \"contour\": [{\"colorbar\": {\"outlinewidth\": 0, \"ticks\": \"\"}, \"colorscale\": [[0.0, \"#0d0887\"], [0.1111111111111111, \"#46039f\"], [0.2222222222222222, \"#7201a8\"], [0.3333333333333333, \"#9c179e\"], [0.4444444444444444, \"#bd3786\"], [0.5555555555555556, \"#d8576b\"], [0.6666666666666666, \"#ed7953\"], [0.7777777777777778, \"#fb9f3a\"], [0.8888888888888888, \"#fdca26\"], [1.0, \"#f0f921\"]], \"type\": \"contour\"}], \"contourcarpet\": [{\"colorbar\": {\"outlinewidth\": 0, \"ticks\": \"\"}, \"type\": \"contourcarpet\"}], \"heatmap\": [{\"colorbar\": {\"outlinewidth\": 0, \"ticks\": \"\"}, \"colorscale\": [[0.0, \"#0d0887\"], [0.1111111111111111, \"#46039f\"], [0.2222222222222222, \"#7201a8\"], [0.3333333333333333, \"#9c179e\"], [0.4444444444444444, \"#bd3786\"], [0.5555555555555556, \"#d8576b\"], [0.6666666666666666, \"#ed7953\"], [0.7777777777777778, \"#fb9f3a\"], [0.8888888888888888, \"#fdca26\"], [1.0, \"#f0f921\"]], \"type\": \"heatmap\"}], \"heatmapgl\": [{\"colorbar\": {\"outlinewidth\": 0, \"ticks\": \"\"}, \"colorscale\": [[0.0, \"#0d0887\"], [0.1111111111111111, \"#46039f\"], [0.2222222222222222, \"#7201a8\"], [0.3333333333333333, \"#9c179e\"], [0.4444444444444444, \"#bd3786\"], [0.5555555555555556, \"#d8576b\"], [0.6666666666666666, \"#ed7953\"], [0.7777777777777778, \"#fb9f3a\"], [0.8888888888888888, \"#fdca26\"], [1.0, \"#f0f921\"]], \"type\": \"heatmapgl\"}], \"histogram\": [{\"marker\": {\"colorbar\": {\"outlinewidth\": 0, \"ticks\": \"\"}}, \"type\": \"histogram\"}], \"histogram2d\": [{\"colorbar\": {\"outlinewidth\": 0, \"ticks\": \"\"}, \"colorscale\": [[0.0, \"#0d0887\"], [0.1111111111111111, \"#46039f\"], [0.2222222222222222, \"#7201a8\"], [0.3333333333333333, \"#9c179e\"], [0.4444444444444444, \"#bd3786\"], [0.5555555555555556, \"#d8576b\"], [0.6666666666666666, \"#ed7953\"], [0.7777777777777778, \"#fb9f3a\"], [0.8888888888888888, \"#fdca26\"], [1.0, \"#f0f921\"]], \"type\": \"histogram2d\"}], \"histogram2dcontour\": [{\"colorbar\": {\"outlinewidth\": 0, \"ticks\": \"\"}, \"colorscale\": [[0.0, \"#0d0887\"], [0.1111111111111111, \"#46039f\"], [0.2222222222222222, \"#7201a8\"], [0.3333333333333333, \"#9c179e\"], [0.4444444444444444, \"#bd3786\"], [0.5555555555555556, \"#d8576b\"], [0.6666666666666666, \"#ed7953\"], [0.7777777777777778, \"#fb9f3a\"], [0.8888888888888888, \"#fdca26\"], [1.0, \"#f0f921\"]], \"type\": \"histogram2dcontour\"}], \"mesh3d\": [{\"colorbar\": {\"outlinewidth\": 0, \"ticks\": \"\"}, \"type\": \"mesh3d\"}], \"parcoords\": [{\"line\": {\"colorbar\": {\"outlinewidth\": 0, \"ticks\": \"\"}}, \"type\": \"parcoords\"}], \"pie\": [{\"automargin\": true, \"type\": \"pie\"}], \"scatter\": [{\"marker\": {\"colorbar\": {\"outlinewidth\": 0, \"ticks\": \"\"}}, \"type\": \"scatter\"}], \"scatter3d\": [{\"line\": {\"colorbar\": {\"outlinewidth\": 0, \"ticks\": \"\"}}, \"marker\": {\"colorbar\": {\"outlinewidth\": 0, \"ticks\": \"\"}}, \"type\": \"scatter3d\"}], \"scattercarpet\": [{\"marker\": {\"colorbar\": {\"outlinewidth\": 0, \"ticks\": \"\"}}, \"type\": \"scattercarpet\"}], \"scattergeo\": [{\"marker\": {\"colorbar\": {\"outlinewidth\": 0, \"ticks\": \"\"}}, \"type\": \"scattergeo\"}], \"scattergl\": [{\"marker\": {\"colorbar\": {\"outlinewidth\": 0, \"ticks\": \"\"}}, \"type\": \"scattergl\"}], \"scattermapbox\": [{\"marker\": {\"colorbar\": {\"outlinewidth\": 0, \"ticks\": \"\"}}, \"type\": \"scattermapbox\"}], \"scatterpolar\": [{\"marker\": {\"colorbar\": {\"outlinewidth\": 0, \"ticks\": \"\"}}, \"type\": \"scatterpolar\"}], \"scatterpolargl\": [{\"marker\": {\"colorbar\": {\"outlinewidth\": 0, \"ticks\": \"\"}}, \"type\": \"scatterpolargl\"}], \"scatterternary\": [{\"marker\": {\"colorbar\": {\"outlinewidth\": 0, \"ticks\": \"\"}}, \"type\": \"scatterternary\"}], \"surface\": [{\"colorbar\": {\"outlinewidth\": 0, \"ticks\": \"\"}, \"colorscale\": [[0.0, \"#0d0887\"], [0.1111111111111111, \"#46039f\"], [0.2222222222222222, \"#7201a8\"], [0.3333333333333333, \"#9c179e\"], [0.4444444444444444, \"#bd3786\"], [0.5555555555555556, \"#d8576b\"], [0.6666666666666666, \"#ed7953\"], [0.7777777777777778, \"#fb9f3a\"], [0.8888888888888888, \"#fdca26\"], [1.0, \"#f0f921\"]], \"type\": \"surface\"}], \"table\": [{\"cells\": {\"fill\": {\"color\": \"#EBF0F8\"}, \"line\": {\"color\": \"white\"}}, \"header\": {\"fill\": {\"color\": \"#C8D4E3\"}, \"line\": {\"color\": \"white\"}}, \"type\": \"table\"}]}, \"layout\": {\"annotationdefaults\": {\"arrowcolor\": \"#2a3f5f\", \"arrowhead\": 0, \"arrowwidth\": 1}, \"coloraxis\": {\"colorbar\": {\"outlinewidth\": 0, \"ticks\": \"\"}}, \"colorscale\": {\"diverging\": [[0, \"#8e0152\"], [0.1, \"#c51b7d\"], [0.2, \"#de77ae\"], [0.3, \"#f1b6da\"], [0.4, \"#fde0ef\"], [0.5, \"#f7f7f7\"], [0.6, \"#e6f5d0\"], [0.7, \"#b8e186\"], [0.8, \"#7fbc41\"], [0.9, \"#4d9221\"], [1, \"#276419\"]], \"sequential\": [[0.0, \"#0d0887\"], [0.1111111111111111, \"#46039f\"], [0.2222222222222222, \"#7201a8\"], [0.3333333333333333, \"#9c179e\"], [0.4444444444444444, \"#bd3786\"], [0.5555555555555556, \"#d8576b\"], [0.6666666666666666, \"#ed7953\"], [0.7777777777777778, \"#fb9f3a\"], [0.8888888888888888, \"#fdca26\"], [1.0, \"#f0f921\"]], \"sequentialminus\": [[0.0, \"#0d0887\"], [0.1111111111111111, \"#46039f\"], [0.2222222222222222, \"#7201a8\"], [0.3333333333333333, \"#9c179e\"], [0.4444444444444444, \"#bd3786\"], [0.5555555555555556, \"#d8576b\"], [0.6666666666666666, \"#ed7953\"], [0.7777777777777778, \"#fb9f3a\"], [0.8888888888888888, \"#fdca26\"], [1.0, \"#f0f921\"]]}, \"colorway\": [\"#636efa\", \"#EF553B\", \"#00cc96\", \"#ab63fa\", \"#FFA15A\", \"#19d3f3\", \"#FF6692\", \"#B6E880\", \"#FF97FF\", \"#FECB52\"], \"font\": {\"color\": \"#2a3f5f\"}, \"geo\": {\"bgcolor\": \"white\", \"lakecolor\": \"white\", \"landcolor\": \"#E5ECF6\", \"showlakes\": true, \"showland\": true, \"subunitcolor\": \"white\"}, \"hoverlabel\": {\"align\": \"left\"}, \"hovermode\": \"closest\", \"mapbox\": {\"style\": \"light\"}, \"paper_bgcolor\": \"white\", \"plot_bgcolor\": \"#E5ECF6\", \"polar\": {\"angularaxis\": {\"gridcolor\": \"white\", \"linecolor\": \"white\", \"ticks\": \"\"}, \"bgcolor\": \"#E5ECF6\", \"radialaxis\": {\"gridcolor\": \"white\", \"linecolor\": \"white\", \"ticks\": \"\"}}, \"scene\": {\"xaxis\": {\"backgroundcolor\": \"#E5ECF6\", \"gridcolor\": \"white\", \"gridwidth\": 2, \"linecolor\": \"white\", \"showbackground\": true, \"ticks\": \"\", \"zerolinecolor\": \"white\"}, \"yaxis\": {\"backgroundcolor\": \"#E5ECF6\", \"gridcolor\": \"white\", \"gridwidth\": 2, \"linecolor\": \"white\", \"showbackground\": true, \"ticks\": \"\", \"zerolinecolor\": \"white\"}, \"zaxis\": {\"backgroundcolor\": \"#E5ECF6\", \"gridcolor\": \"white\", \"gridwidth\": 2, \"linecolor\": \"white\", \"showbackground\": true, \"ticks\": \"\", \"zerolinecolor\": \"white\"}}, \"shapedefaults\": {\"line\": {\"color\": \"#2a3f5f\"}}, \"ternary\": {\"aaxis\": {\"gridcolor\": \"white\", \"linecolor\": \"white\", \"ticks\": \"\"}, \"baxis\": {\"gridcolor\": \"white\", \"linecolor\": \"white\", \"ticks\": \"\"}, \"bgcolor\": \"#E5ECF6\", \"caxis\": {\"gridcolor\": \"white\", \"linecolor\": \"white\", \"ticks\": \"\"}}, \"title\": {\"x\": 0.05}, \"xaxis\": {\"automargin\": true, \"gridcolor\": \"white\", \"linecolor\": \"white\", \"ticks\": \"\", \"title\": {\"standoff\": 15}, \"zerolinecolor\": \"white\", \"zerolinewidth\": 2}, \"yaxis\": {\"automargin\": true, \"gridcolor\": \"white\", \"linecolor\": \"white\", \"ticks\": \"\", \"title\": {\"standoff\": 15}, \"zerolinecolor\": \"white\", \"zerolinewidth\": 2}}}},\n",
       "                        {\"responsive\": true}\n",
       "                    ).then(function(){\n",
       "                            \n",
       "var gd = document.getElementById('5595acd6-97ef-47d5-a6f7-4b353bdbb3d2');\n",
       "var x = new MutationObserver(function (mutations, observer) {{\n",
       "        var display = window.getComputedStyle(gd).display;\n",
       "        if (!display || display === 'none') {{\n",
       "            console.log([gd, 'removed!']);\n",
       "            Plotly.purge(gd);\n",
       "            observer.disconnect();\n",
       "        }}\n",
       "}});\n",
       "\n",
       "// Listen for the removal of the full notebook cells\n",
       "var notebookContainer = gd.closest('#notebook-container');\n",
       "if (notebookContainer) {{\n",
       "    x.observe(notebookContainer, {childList: true});\n",
       "}}\n",
       "\n",
       "// Listen for the clearing of the current output cell\n",
       "var outputEl = gd.closest('.output');\n",
       "if (outputEl) {{\n",
       "    x.observe(outputEl, {childList: true});\n",
       "}}\n",
       "\n",
       "                        })\n",
       "                };\n",
       "                });\n",
       "            </script>\n",
       "        </div>"
      ]
     },
     "metadata": {},
     "output_type": "display_data"
    }
   ],
   "source": [
    "fig= [go.Scatter(\n",
    "    x= featl[g,0],\n",
    "    y= featl[g,1],\n",
    "    text= [''.join(np.array(nwind[x],dtype= str)) for x in g],\n",
    "    mode= 'markers',\n",
    "    name= str(i)\n",
    ") for i,g in label_select.items()]\n",
    "\n",
    "figm= [go.Scatter(\n",
    "    x= [np.median(featl,axis= 0)[0]],\n",
    "    y= [np.median(featl,axis= 0)[1]],\n",
    "    mode= 'markers',\n",
    "    name= 'centre'\n",
    ")]\n",
    "\n",
    "#fig.extend(figm)\n",
    "\n",
    "layout= go.Layout()\n",
    "\n",
    "Figure= go.Figure(data= fig,layout= layout)\n",
    "iplot(Figure)\n"
   ]
  },
  {
   "cell_type": "code",
   "execution_count": 33,
   "metadata": {},
   "outputs": [],
   "source": [
    "from sklearn.cluster import MeanShift, estimate_bandwidth\n",
    "\n",
    "from structure_tools.Tutorial_subplots import plot_global_pca\n",
    "## perform MeanShift clustering.\n",
    "bandwidth = estimate_bandwidth(featl, quantile=0.2)\n",
    "\n",
    "ms = MeanShift(bandwidth=bandwidth, bin_seeding=False, cluster_all=True, min_bin_freq=15)\n",
    "ms.fit(featl)\n",
    "labels1 = ms.labels_\n",
    "label_select = {y:[x for x in range(len(labels1)) if labels1[x] == y] for y in sorted(list(set(labels1)))}\n",
    "\n",
    "gp_keys= sorted(label_select.keys())\n"
   ]
  },
  {
   "cell_type": "code",
   "execution_count": 34,
   "metadata": {},
   "outputs": [],
   "source": [
    "freq_dict= {z: np.sum(local_l[g],axis= 0) / len(g) for z,g in label_select.items()}\n",
    "freq_array= [freq_dict[z] for z in gp_keys]\n",
    "freq_array= np.array(freq_array)\n",
    "\n",
    "mu= 1e-8\n",
    "\n",
    "freq_array[freq_array == 0]= mu\n",
    "freq_array[freq_array == 1]= 1-mu\n",
    "#freq_array"
   ]
  },
  {
   "cell_type": "code",
   "execution_count": 40,
   "metadata": {},
   "outputs": [
    {
     "data": {
      "text/plain": [
       "dict_keys([0, 1, 2, 3, 4, 5, 6, 7, 8, 9, 10, 11, 12, 13])"
      ]
     },
     "execution_count": 40,
     "metadata": {},
     "output_type": "execute_result"
    }
   ],
   "source": [
    "label_select.keys()"
   ]
  },
  {
   "cell_type": "code",
   "execution_count": null,
   "metadata": {},
   "outputs": [],
   "source": [
    "t= binom.pmf(sep_hap[1],1,freq_array)\n",
    "t.T"
   ]
  },
  {
   "cell_type": "code",
   "execution_count": 38,
   "metadata": {},
   "outputs": [
    {
     "data": {
      "text/plain": [
       "array([1.41132169e-047, 1.57322186e-095, 6.29048915e-035, 1.19228552e-024,\n",
       "       8.29439822e-070, 1.23456755e-050, 1.59999944e-047, 1.59999944e-047,\n",
       "       1.59999946e-047, 1.59999958e-095, 1.59999954e-079, 1.59999949e-063,\n",
       "       1.59999968e-127, 1.59999941e-031])"
      ]
     },
     "execution_count": 38,
     "metadata": {},
     "output_type": "execute_result"
    }
   ],
   "source": [
    "hap1= nwind[tf_acc]\n",
    "\n",
    "\n",
    "zt_prod= hap_lik(hap1, freq_array,n= 2,cov= False)\n",
    "zt_prod"
   ]
  },
  {
   "cell_type": "code",
   "execution_count": 39,
   "metadata": {},
   "outputs": [
    {
     "data": {
      "text/plain": [
       "array([[0., 1., 0., 0., 0., 0., 0., 1., 0., 0., 1., 0., 1., 0., 0., 0.,\n",
       "        0., 0., 0., 0., 0.],\n",
       "       [0., 0., 0., 0., 0., 0., 0., 0., 0., 0., 0., 0., 0., 0., 0., 0.,\n",
       "        0., 0., 0., 0., 0.]])"
      ]
     },
     "execution_count": 39,
     "metadata": {},
     "output_type": "execute_result"
    }
   ],
   "source": [
    "def hap_unsorted(hap1,ploidy= 2):\n",
    "    tar= np.zeros((ploidy, len(hap1)))\n",
    "    for idx in range(len(hap1)):\n",
    "        ct= hap1[idx]\n",
    "        tar[:ct,idx]= 1\n",
    "    \n",
    "    return tar\n",
    "\n",
    "sep_hap= hap_unsorted(hap1,ploidy= 2)\n",
    "sep_hap"
   ]
  },
  {
   "cell_type": "code",
   "execution_count": null,
   "metadata": {},
   "outputs": [],
   "source": [
    "nwind[label_select[0][3]]"
   ]
  },
  {
   "cell_type": "code",
   "execution_count": null,
   "metadata": {
    "scrolled": true
   },
   "outputs": [],
   "source": [
    "genotype[tf_acc,tf_pos-10:tf_pos+10]"
   ]
  },
  {
   "cell_type": "code",
   "execution_count": null,
   "metadata": {},
   "outputs": [],
   "source": [
    "genotype[328,tf_pos-10:tf_pos+10]"
   ]
  },
  {
   "cell_type": "code",
   "execution_count": null,
   "metadata": {},
   "outputs": [],
   "source": [
    "np.sum(nwind,axis= 1)"
   ]
  },
  {
   "cell_type": "code",
   "execution_count": null,
   "metadata": {},
   "outputs": [],
   "source": []
  }
 ],
 "metadata": {
  "kernelspec": {
   "display_name": "Python 3",
   "language": "python",
   "name": "python3"
  },
  "language_info": {
   "codemirror_mode": {
    "name": "ipython",
    "version": 3
   },
   "file_extension": ".py",
   "mimetype": "text/x-python",
   "name": "python",
   "nbconvert_exporter": "python",
   "pygments_lexer": "ipython3",
   "version": "3.7.3"
  }
 },
 "nbformat": 4,
 "nbformat_minor": 2
}
